{
 "cells": [
  {
   "cell_type": "markdown",
   "id": "76cbb2cb",
   "metadata": {
    "execution": {
     "iopub.execute_input": "2022-07-15T10:03:44.061804Z",
     "iopub.status.busy": "2022-07-15T10:03:44.060112Z",
     "iopub.status.idle": "2022-07-15T10:03:44.081202Z",
     "shell.execute_reply": "2022-07-15T10:03:44.080149Z"
    },
    "papermill": {
     "duration": 0.047187,
     "end_time": "2022-07-15T10:03:44.084892",
     "exception": false,
     "start_time": "2022-07-15T10:03:44.037705",
     "status": "completed"
    },
    "tags": []
   },
   "source": [
    "# CAR DATA ANALYSIS (EDA)"
   ]
  },
  {
   "cell_type": "code",
   "execution_count": 202,
   "id": "8b1b6420",
   "metadata": {
    "execution": {
     "iopub.execute_input": "2022-07-15T10:03:44.131291Z",
     "iopub.status.busy": "2022-07-15T10:03:44.130570Z",
     "iopub.status.idle": "2022-07-15T10:03:46.692578Z",
     "shell.execute_reply": "2022-07-15T10:03:46.691705Z"
    },
    "papermill": {
     "duration": 2.588604,
     "end_time": "2022-07-15T10:03:46.695342",
     "exception": false,
     "start_time": "2022-07-15T10:03:44.106738",
     "status": "completed"
    },
    "tags": []
   },
   "outputs": [],
   "source": [
    "import numpy as np\n",
    "import pandas as pd\n",
    "import matplotlib.pyplot as plt\n",
    "import seaborn as sns\n",
    "import warnings\n",
    "warnings.filterwarnings(\"ignore\")"
   ]
  },
  {
   "cell_type": "code",
   "execution_count": 203,
   "id": "f1f0040f",
   "metadata": {
    "execution": {
     "iopub.execute_input": "2022-07-15T10:03:46.735644Z",
     "iopub.status.busy": "2022-07-15T10:03:46.734880Z",
     "iopub.status.idle": "2022-07-15T10:03:46.868313Z",
     "shell.execute_reply": "2022-07-15T10:03:46.867127Z"
    },
    "papermill": {
     "duration": 0.156413,
     "end_time": "2022-07-15T10:03:46.870870",
     "exception": false,
     "start_time": "2022-07-15T10:03:46.714457",
     "status": "completed"
    },
    "scrolled": true,
    "tags": []
   },
   "outputs": [
    {
     "data": {
      "text/html": [
       "<div>\n",
       "<style scoped>\n",
       "    .dataframe tbody tr th:only-of-type {\n",
       "        vertical-align: middle;\n",
       "    }\n",
       "\n",
       "    .dataframe tbody tr th {\n",
       "        vertical-align: top;\n",
       "    }\n",
       "\n",
       "    .dataframe thead th {\n",
       "        text-align: right;\n",
       "    }\n",
       "</style>\n",
       "<table border=\"1\" class=\"dataframe\">\n",
       "  <thead>\n",
       "    <tr style=\"text-align: right;\">\n",
       "      <th></th>\n",
       "      <th>ID</th>\n",
       "      <th>Price</th>\n",
       "      <th>Levy</th>\n",
       "      <th>Manufacturer</th>\n",
       "      <th>Model</th>\n",
       "      <th>Prod. year</th>\n",
       "      <th>Category</th>\n",
       "      <th>Leather interior</th>\n",
       "      <th>Fuel type</th>\n",
       "      <th>Engine volume</th>\n",
       "      <th>Mileage</th>\n",
       "      <th>Cylinders</th>\n",
       "      <th>Gear box type</th>\n",
       "      <th>Drive wheels</th>\n",
       "      <th>Doors</th>\n",
       "      <th>Wheel</th>\n",
       "      <th>Color</th>\n",
       "      <th>Airbags</th>\n",
       "    </tr>\n",
       "  </thead>\n",
       "  <tbody>\n",
       "    <tr>\n",
       "      <th>0</th>\n",
       "      <td>45654403</td>\n",
       "      <td>13328</td>\n",
       "      <td>1399</td>\n",
       "      <td>LEXUS</td>\n",
       "      <td>RX 450</td>\n",
       "      <td>2010</td>\n",
       "      <td>Jeep</td>\n",
       "      <td>Yes</td>\n",
       "      <td>Hybrid</td>\n",
       "      <td>3.5</td>\n",
       "      <td>186005 km</td>\n",
       "      <td>6.0</td>\n",
       "      <td>Automatic</td>\n",
       "      <td>4x4</td>\n",
       "      <td>04-May</td>\n",
       "      <td>Left wheel</td>\n",
       "      <td>Silver</td>\n",
       "      <td>12</td>\n",
       "    </tr>\n",
       "    <tr>\n",
       "      <th>1</th>\n",
       "      <td>44731507</td>\n",
       "      <td>16621</td>\n",
       "      <td>1018</td>\n",
       "      <td>CHEVROLET</td>\n",
       "      <td>Equinox</td>\n",
       "      <td>2011</td>\n",
       "      <td>Jeep</td>\n",
       "      <td>No</td>\n",
       "      <td>Petrol</td>\n",
       "      <td>3</td>\n",
       "      <td>192000 km</td>\n",
       "      <td>6.0</td>\n",
       "      <td>Tiptronic</td>\n",
       "      <td>4x4</td>\n",
       "      <td>04-May</td>\n",
       "      <td>Left wheel</td>\n",
       "      <td>Black</td>\n",
       "      <td>8</td>\n",
       "    </tr>\n",
       "    <tr>\n",
       "      <th>2</th>\n",
       "      <td>45774419</td>\n",
       "      <td>8467</td>\n",
       "      <td>-</td>\n",
       "      <td>HONDA</td>\n",
       "      <td>FIT</td>\n",
       "      <td>2006</td>\n",
       "      <td>Hatchback</td>\n",
       "      <td>No</td>\n",
       "      <td>Petrol</td>\n",
       "      <td>1.3</td>\n",
       "      <td>200000 km</td>\n",
       "      <td>4.0</td>\n",
       "      <td>Variator</td>\n",
       "      <td>Front</td>\n",
       "      <td>04-May</td>\n",
       "      <td>Right-hand drive</td>\n",
       "      <td>Black</td>\n",
       "      <td>2</td>\n",
       "    </tr>\n",
       "    <tr>\n",
       "      <th>3</th>\n",
       "      <td>45769185</td>\n",
       "      <td>3607</td>\n",
       "      <td>862</td>\n",
       "      <td>FORD</td>\n",
       "      <td>Escape</td>\n",
       "      <td>2011</td>\n",
       "      <td>Jeep</td>\n",
       "      <td>Yes</td>\n",
       "      <td>Hybrid</td>\n",
       "      <td>2.5</td>\n",
       "      <td>168966 km</td>\n",
       "      <td>4.0</td>\n",
       "      <td>Automatic</td>\n",
       "      <td>4x4</td>\n",
       "      <td>04-May</td>\n",
       "      <td>Left wheel</td>\n",
       "      <td>White</td>\n",
       "      <td>0</td>\n",
       "    </tr>\n",
       "    <tr>\n",
       "      <th>4</th>\n",
       "      <td>45809263</td>\n",
       "      <td>11726</td>\n",
       "      <td>446</td>\n",
       "      <td>HONDA</td>\n",
       "      <td>FIT</td>\n",
       "      <td>2014</td>\n",
       "      <td>Hatchback</td>\n",
       "      <td>Yes</td>\n",
       "      <td>Petrol</td>\n",
       "      <td>1.3</td>\n",
       "      <td>91901 km</td>\n",
       "      <td>4.0</td>\n",
       "      <td>Automatic</td>\n",
       "      <td>Front</td>\n",
       "      <td>04-May</td>\n",
       "      <td>Left wheel</td>\n",
       "      <td>Silver</td>\n",
       "      <td>4</td>\n",
       "    </tr>\n",
       "  </tbody>\n",
       "</table>\n",
       "</div>"
      ],
      "text/plain": [
       "         ID  Price  Levy Manufacturer    Model  Prod. year   Category  \\\n",
       "0  45654403  13328  1399        LEXUS   RX 450        2010       Jeep   \n",
       "1  44731507  16621  1018    CHEVROLET  Equinox        2011       Jeep   \n",
       "2  45774419   8467     -        HONDA      FIT        2006  Hatchback   \n",
       "3  45769185   3607   862         FORD   Escape        2011       Jeep   \n",
       "4  45809263  11726   446        HONDA      FIT        2014  Hatchback   \n",
       "\n",
       "  Leather interior Fuel type Engine volume    Mileage  Cylinders  \\\n",
       "0              Yes    Hybrid           3.5  186005 km        6.0   \n",
       "1               No    Petrol             3  192000 km        6.0   \n",
       "2               No    Petrol           1.3  200000 km        4.0   \n",
       "3              Yes    Hybrid           2.5  168966 km        4.0   \n",
       "4              Yes    Petrol           1.3   91901 km        4.0   \n",
       "\n",
       "  Gear box type Drive wheels   Doors             Wheel   Color  Airbags  \n",
       "0     Automatic          4x4  04-May        Left wheel  Silver       12  \n",
       "1     Tiptronic          4x4  04-May        Left wheel   Black        8  \n",
       "2      Variator        Front  04-May  Right-hand drive   Black        2  \n",
       "3     Automatic          4x4  04-May        Left wheel   White        0  \n",
       "4     Automatic        Front  04-May        Left wheel  Silver        4  "
      ]
     },
     "execution_count": 203,
     "metadata": {},
     "output_type": "execute_result"
    }
   ],
   "source": [
    "## reading file.\n",
    "df = pd.read_csv(\"cars.csv\")\n",
    "df.head()"
   ]
  },
  {
   "cell_type": "markdown",
   "id": "56921cfb",
   "metadata": {
    "papermill": {
     "duration": 0.018932,
     "end_time": "2022-07-15T10:03:46.908891",
     "exception": false,
     "start_time": "2022-07-15T10:03:46.889959",
     "status": "completed"
    },
    "tags": []
   },
   "source": [
    "## Preprocessing."
   ]
  },
  {
   "cell_type": "markdown",
   "id": "2c7d5454",
   "metadata": {
    "papermill": {
     "duration": 0.018984,
     "end_time": "2022-07-15T10:03:46.947347",
     "exception": false,
     "start_time": "2022-07-15T10:03:46.928363",
     "status": "completed"
    },
    "tags": []
   },
   "source": [
    "we check the Null data in the given dataset."
   ]
  },
  {
   "cell_type": "code",
   "execution_count": 204,
   "id": "42e49189",
   "metadata": {
    "execution": {
     "iopub.execute_input": "2022-07-15T10:03:46.988573Z",
     "iopub.status.busy": "2022-07-15T10:03:46.987905Z",
     "iopub.status.idle": "2022-07-15T10:03:47.024712Z",
     "shell.execute_reply": "2022-07-15T10:03:47.023578Z"
    },
    "papermill": {
     "duration": 0.060189,
     "end_time": "2022-07-15T10:03:47.027201",
     "exception": false,
     "start_time": "2022-07-15T10:03:46.967012",
     "status": "completed"
    },
    "tags": []
   },
   "outputs": [
    {
     "data": {
      "text/plain": [
       "ID                  0\n",
       "Price               0\n",
       "Levy                0\n",
       "Manufacturer        0\n",
       "Model               0\n",
       "Prod. year          0\n",
       "Category            0\n",
       "Leather interior    0\n",
       "Fuel type           0\n",
       "Engine volume       0\n",
       "Mileage             0\n",
       "Cylinders           0\n",
       "Gear box type       0\n",
       "Drive wheels        0\n",
       "Doors               0\n",
       "Wheel               0\n",
       "Color               0\n",
       "Airbags             0\n",
       "dtype: int64"
      ]
     },
     "execution_count": 204,
     "metadata": {},
     "output_type": "execute_result"
    }
   ],
   "source": [
    "df.isnull().sum()"
   ]
  },
  {
   "cell_type": "markdown",
   "id": "6b64be29",
   "metadata": {
    "papermill": {
     "duration": 0.01944,
     "end_time": "2022-07-15T10:03:47.065976",
     "exception": false,
     "start_time": "2022-07-15T10:03:47.046536",
     "status": "completed"
    },
    "tags": []
   },
   "source": [
    "taking a look at the summary of the DataSet."
   ]
  },
  {
   "cell_type": "code",
   "execution_count": 205,
   "id": "1db7e915",
   "metadata": {
    "execution": {
     "iopub.execute_input": "2022-07-15T10:03:47.113455Z",
     "iopub.status.busy": "2022-07-15T10:03:47.112160Z",
     "iopub.status.idle": "2022-07-15T10:03:47.182013Z",
     "shell.execute_reply": "2022-07-15T10:03:47.180809Z"
    },
    "papermill": {
     "duration": 0.099153,
     "end_time": "2022-07-15T10:03:47.184645",
     "exception": false,
     "start_time": "2022-07-15T10:03:47.085492",
     "status": "completed"
    },
    "tags": []
   },
   "outputs": [
    {
     "name": "stdout",
     "output_type": "stream",
     "text": [
      "<class 'pandas.core.frame.DataFrame'>\n",
      "RangeIndex: 19237 entries, 0 to 19236\n",
      "Data columns (total 18 columns):\n",
      " #   Column            Non-Null Count  Dtype  \n",
      "---  ------            --------------  -----  \n",
      " 0   ID                19237 non-null  int64  \n",
      " 1   Price             19237 non-null  int64  \n",
      " 2   Levy              19237 non-null  object \n",
      " 3   Manufacturer      19237 non-null  object \n",
      " 4   Model             19237 non-null  object \n",
      " 5   Prod. year        19237 non-null  int64  \n",
      " 6   Category          19237 non-null  object \n",
      " 7   Leather interior  19237 non-null  object \n",
      " 8   Fuel type         19237 non-null  object \n",
      " 9   Engine volume     19237 non-null  object \n",
      " 10  Mileage           19237 non-null  object \n",
      " 11  Cylinders         19237 non-null  float64\n",
      " 12  Gear box type     19237 non-null  object \n",
      " 13  Drive wheels      19237 non-null  object \n",
      " 14  Doors             19237 non-null  object \n",
      " 15  Wheel             19237 non-null  object \n",
      " 16  Color             19237 non-null  object \n",
      " 17  Airbags           19237 non-null  int64  \n",
      "dtypes: float64(1), int64(4), object(13)\n",
      "memory usage: 2.6+ MB\n"
     ]
    }
   ],
   "source": [
    "df.info()"
   ]
  },
  {
   "cell_type": "code",
   "execution_count": 206,
   "id": "cbd41445",
   "metadata": {
    "execution": {
     "iopub.execute_input": "2022-07-15T10:03:47.228525Z",
     "iopub.status.busy": "2022-07-15T10:03:47.227537Z",
     "iopub.status.idle": "2022-07-15T10:03:47.237245Z",
     "shell.execute_reply": "2022-07-15T10:03:47.235968Z"
    },
    "papermill": {
     "duration": 0.033425,
     "end_time": "2022-07-15T10:03:47.239567",
     "exception": false,
     "start_time": "2022-07-15T10:03:47.206142",
     "status": "completed"
    },
    "tags": []
   },
   "outputs": [
    {
     "data": {
      "text/plain": [
       "['Levy',\n",
       " 'Manufacturer',\n",
       " 'Model',\n",
       " 'Category',\n",
       " 'Leather interior',\n",
       " 'Fuel type',\n",
       " 'Engine volume',\n",
       " 'Mileage',\n",
       " 'Gear box type',\n",
       " 'Drive wheels',\n",
       " 'Doors',\n",
       " 'Wheel',\n",
       " 'Color']"
      ]
     },
     "execution_count": 206,
     "metadata": {},
     "output_type": "execute_result"
    }
   ],
   "source": [
    "#these are All the columns that contains object type columns.\n",
    "columns_with_object = [col for col in df.columns if df[col].dtype == 'object']\n",
    "columns_with_object"
   ]
  },
  {
   "cell_type": "markdown",
   "id": "ed899eaa",
   "metadata": {
    "papermill": {
     "duration": 0.023952,
     "end_time": "2022-07-15T10:03:47.283728",
     "exception": false,
     "start_time": "2022-07-15T10:03:47.259776",
     "status": "completed"
    },
    "tags": []
   },
   "source": [
    "## Cleaning "
   ]
  },
  {
   "cell_type": "code",
   "execution_count": 207,
   "id": "6006efef",
   "metadata": {
    "execution": {
     "iopub.execute_input": "2022-07-15T10:03:47.327457Z",
     "iopub.status.busy": "2022-07-15T10:03:47.326726Z",
     "iopub.status.idle": "2022-07-15T10:03:47.333897Z",
     "shell.execute_reply": "2022-07-15T10:03:47.332727Z"
    },
    "papermill": {
     "duration": 0.032734,
     "end_time": "2022-07-15T10:03:47.337674",
     "exception": false,
     "start_time": "2022-07-15T10:03:47.304940",
     "status": "completed"
    },
    "tags": []
   },
   "outputs": [
    {
     "data": {
      "text/plain": [
       "(19237, 18)"
      ]
     },
     "execution_count": 207,
     "metadata": {},
     "output_type": "execute_result"
    }
   ],
   "source": [
    "df.shape"
   ]
  },
  {
   "cell_type": "code",
   "execution_count": 208,
   "id": "2f3caeb3",
   "metadata": {
    "execution": {
     "iopub.execute_input": "2022-07-15T10:03:47.386355Z",
     "iopub.status.busy": "2022-07-15T10:03:47.385820Z",
     "iopub.status.idle": "2022-07-15T10:03:47.392285Z",
     "shell.execute_reply": "2022-07-15T10:03:47.391211Z"
    },
    "papermill": {
     "duration": 0.030501,
     "end_time": "2022-07-15T10:03:47.394638",
     "exception": false,
     "start_time": "2022-07-15T10:03:47.364137",
     "status": "completed"
    },
    "scrolled": true,
    "tags": []
   },
   "outputs": [
    {
     "name": "stdout",
     "output_type": "stream",
     "text": [
      "This DataSet Contains 19237 rows & 18 columns.\n"
     ]
    }
   ],
   "source": [
    "print(f'This DataSet Contains {df.shape[0]} rows & {df.shape[1]} columns.')"
   ]
  },
  {
   "cell_type": "code",
   "execution_count": 209,
   "id": "5fabc8fc",
   "metadata": {
    "execution": {
     "iopub.execute_input": "2022-07-15T10:03:47.443564Z",
     "iopub.status.busy": "2022-07-15T10:03:47.442915Z",
     "iopub.status.idle": "2022-07-15T10:03:47.488508Z",
     "shell.execute_reply": "2022-07-15T10:03:47.486934Z"
    },
    "papermill": {
     "duration": 0.074715,
     "end_time": "2022-07-15T10:03:47.491685",
     "exception": false,
     "start_time": "2022-07-15T10:03:47.416970",
     "status": "completed"
    },
    "tags": []
   },
   "outputs": [],
   "source": [
    "# dropping duplicates\n",
    "\n",
    "newdf  = df.drop_duplicates(keep = False)"
   ]
  },
  {
   "cell_type": "code",
   "execution_count": 210,
   "id": "8c9bf206",
   "metadata": {
    "execution": {
     "iopub.execute_input": "2022-07-15T10:03:47.539594Z",
     "iopub.status.busy": "2022-07-15T10:03:47.538821Z",
     "iopub.status.idle": "2022-07-15T10:03:47.545552Z",
     "shell.execute_reply": "2022-07-15T10:03:47.544067Z"
    },
    "papermill": {
     "duration": 0.031789,
     "end_time": "2022-07-15T10:03:47.549422",
     "exception": false,
     "start_time": "2022-07-15T10:03:47.517633",
     "status": "completed"
    },
    "tags": []
   },
   "outputs": [
    {
     "name": "stdout",
     "output_type": "stream",
     "text": [
      "After Dropping Duplicates we got 18704 rows.\n"
     ]
    }
   ],
   "source": [
    "print(f'After Dropping Duplicates we got {newdf.shape[0]} rows.')"
   ]
  },
  {
   "cell_type": "code",
   "execution_count": 211,
   "id": "ab51a0b2",
   "metadata": {
    "execution": {
     "iopub.execute_input": "2022-07-15T10:03:47.592812Z",
     "iopub.status.busy": "2022-07-15T10:03:47.592013Z",
     "iopub.status.idle": "2022-07-15T10:03:47.613889Z",
     "shell.execute_reply": "2022-07-15T10:03:47.612617Z"
    },
    "papermill": {
     "duration": 0.046023,
     "end_time": "2022-07-15T10:03:47.616375",
     "exception": false,
     "start_time": "2022-07-15T10:03:47.570352",
     "status": "completed"
    },
    "scrolled": true,
    "tags": []
   },
   "outputs": [
    {
     "data": {
      "text/html": [
       "<div>\n",
       "<style scoped>\n",
       "    .dataframe tbody tr th:only-of-type {\n",
       "        vertical-align: middle;\n",
       "    }\n",
       "\n",
       "    .dataframe tbody tr th {\n",
       "        vertical-align: top;\n",
       "    }\n",
       "\n",
       "    .dataframe thead th {\n",
       "        text-align: right;\n",
       "    }\n",
       "</style>\n",
       "<table border=\"1\" class=\"dataframe\">\n",
       "  <thead>\n",
       "    <tr style=\"text-align: right;\">\n",
       "      <th></th>\n",
       "      <th>ID</th>\n",
       "      <th>Price</th>\n",
       "      <th>Levy</th>\n",
       "      <th>Manufacturer</th>\n",
       "      <th>Model</th>\n",
       "      <th>Prod. year</th>\n",
       "      <th>Category</th>\n",
       "      <th>Leather interior</th>\n",
       "      <th>Fuel type</th>\n",
       "      <th>Engine volume</th>\n",
       "      <th>Mileage</th>\n",
       "      <th>Cylinders</th>\n",
       "      <th>Gear box type</th>\n",
       "      <th>Drive wheels</th>\n",
       "      <th>Doors</th>\n",
       "      <th>Wheel</th>\n",
       "      <th>Color</th>\n",
       "      <th>Airbags</th>\n",
       "    </tr>\n",
       "  </thead>\n",
       "  <tbody>\n",
       "    <tr>\n",
       "      <th>0</th>\n",
       "      <td>45654403</td>\n",
       "      <td>13328</td>\n",
       "      <td>1399</td>\n",
       "      <td>LEXUS</td>\n",
       "      <td>RX 450</td>\n",
       "      <td>2010</td>\n",
       "      <td>Jeep</td>\n",
       "      <td>Yes</td>\n",
       "      <td>Hybrid</td>\n",
       "      <td>3.5</td>\n",
       "      <td>186005 km</td>\n",
       "      <td>6.0</td>\n",
       "      <td>Automatic</td>\n",
       "      <td>4x4</td>\n",
       "      <td>04-May</td>\n",
       "      <td>Left wheel</td>\n",
       "      <td>Silver</td>\n",
       "      <td>12</td>\n",
       "    </tr>\n",
       "    <tr>\n",
       "      <th>2</th>\n",
       "      <td>45774419</td>\n",
       "      <td>8467</td>\n",
       "      <td>-</td>\n",
       "      <td>HONDA</td>\n",
       "      <td>FIT</td>\n",
       "      <td>2006</td>\n",
       "      <td>Hatchback</td>\n",
       "      <td>No</td>\n",
       "      <td>Petrol</td>\n",
       "      <td>1.3</td>\n",
       "      <td>200000 km</td>\n",
       "      <td>4.0</td>\n",
       "      <td>Variator</td>\n",
       "      <td>Front</td>\n",
       "      <td>04-May</td>\n",
       "      <td>Right-hand drive</td>\n",
       "      <td>Black</td>\n",
       "      <td>2</td>\n",
       "    </tr>\n",
       "    <tr>\n",
       "      <th>3</th>\n",
       "      <td>45769185</td>\n",
       "      <td>3607</td>\n",
       "      <td>862</td>\n",
       "      <td>FORD</td>\n",
       "      <td>Escape</td>\n",
       "      <td>2011</td>\n",
       "      <td>Jeep</td>\n",
       "      <td>Yes</td>\n",
       "      <td>Hybrid</td>\n",
       "      <td>2.5</td>\n",
       "      <td>168966 km</td>\n",
       "      <td>4.0</td>\n",
       "      <td>Automatic</td>\n",
       "      <td>4x4</td>\n",
       "      <td>04-May</td>\n",
       "      <td>Left wheel</td>\n",
       "      <td>White</td>\n",
       "      <td>0</td>\n",
       "    </tr>\n",
       "    <tr>\n",
       "      <th>4</th>\n",
       "      <td>45809263</td>\n",
       "      <td>11726</td>\n",
       "      <td>446</td>\n",
       "      <td>HONDA</td>\n",
       "      <td>FIT</td>\n",
       "      <td>2014</td>\n",
       "      <td>Hatchback</td>\n",
       "      <td>Yes</td>\n",
       "      <td>Petrol</td>\n",
       "      <td>1.3</td>\n",
       "      <td>91901 km</td>\n",
       "      <td>4.0</td>\n",
       "      <td>Automatic</td>\n",
       "      <td>Front</td>\n",
       "      <td>04-May</td>\n",
       "      <td>Left wheel</td>\n",
       "      <td>Silver</td>\n",
       "      <td>4</td>\n",
       "    </tr>\n",
       "    <tr>\n",
       "      <th>5</th>\n",
       "      <td>45802912</td>\n",
       "      <td>39493</td>\n",
       "      <td>891</td>\n",
       "      <td>HYUNDAI</td>\n",
       "      <td>Santa FE</td>\n",
       "      <td>2016</td>\n",
       "      <td>Jeep</td>\n",
       "      <td>Yes</td>\n",
       "      <td>Diesel</td>\n",
       "      <td>2</td>\n",
       "      <td>160931 km</td>\n",
       "      <td>4.0</td>\n",
       "      <td>Automatic</td>\n",
       "      <td>Front</td>\n",
       "      <td>04-May</td>\n",
       "      <td>Left wheel</td>\n",
       "      <td>White</td>\n",
       "      <td>4</td>\n",
       "    </tr>\n",
       "  </tbody>\n",
       "</table>\n",
       "</div>"
      ],
      "text/plain": [
       "         ID  Price  Levy Manufacturer     Model  Prod. year   Category  \\\n",
       "0  45654403  13328  1399        LEXUS    RX 450        2010       Jeep   \n",
       "2  45774419   8467     -        HONDA       FIT        2006  Hatchback   \n",
       "3  45769185   3607   862         FORD    Escape        2011       Jeep   \n",
       "4  45809263  11726   446        HONDA       FIT        2014  Hatchback   \n",
       "5  45802912  39493   891      HYUNDAI  Santa FE        2016       Jeep   \n",
       "\n",
       "  Leather interior Fuel type Engine volume    Mileage  Cylinders  \\\n",
       "0              Yes    Hybrid           3.5  186005 km        6.0   \n",
       "2               No    Petrol           1.3  200000 km        4.0   \n",
       "3              Yes    Hybrid           2.5  168966 km        4.0   \n",
       "4              Yes    Petrol           1.3   91901 km        4.0   \n",
       "5              Yes    Diesel             2  160931 km        4.0   \n",
       "\n",
       "  Gear box type Drive wheels   Doors             Wheel   Color  Airbags  \n",
       "0     Automatic          4x4  04-May        Left wheel  Silver       12  \n",
       "2      Variator        Front  04-May  Right-hand drive   Black        2  \n",
       "3     Automatic          4x4  04-May        Left wheel   White        0  \n",
       "4     Automatic        Front  04-May        Left wheel  Silver        4  \n",
       "5     Automatic        Front  04-May        Left wheel   White        4  "
      ]
     },
     "execution_count": 211,
     "metadata": {},
     "output_type": "execute_result"
    }
   ],
   "source": [
    "newdf.head()"
   ]
  },
  {
   "cell_type": "code",
   "execution_count": 212,
   "id": "c3155d97",
   "metadata": {
    "execution": {
     "iopub.execute_input": "2022-07-15T10:03:47.659758Z",
     "iopub.status.busy": "2022-07-15T10:03:47.658679Z",
     "iopub.status.idle": "2022-07-15T10:03:47.667485Z",
     "shell.execute_reply": "2022-07-15T10:03:47.666488Z"
    },
    "papermill": {
     "duration": 0.032566,
     "end_time": "2022-07-15T10:03:47.669727",
     "exception": false,
     "start_time": "2022-07-15T10:03:47.637161",
     "status": "completed"
    },
    "scrolled": true,
    "tags": []
   },
   "outputs": [
    {
     "data": {
      "text/plain": [
       "0     1399\n",
       "2        -\n",
       "3      862\n",
       "4      446\n",
       "5      891\n",
       "6      761\n",
       "7      751\n",
       "8      394\n",
       "9        -\n",
       "10    1053\n",
       "Name: Levy, dtype: object"
      ]
     },
     "execution_count": 212,
     "metadata": {},
     "output_type": "execute_result"
    }
   ],
   "source": [
    "newdf.Levy.head(10)"
   ]
  },
  {
   "cell_type": "markdown",
   "id": "232c0293",
   "metadata": {
    "papermill": {
     "duration": 0.019883,
     "end_time": "2022-07-15T10:03:47.709864",
     "exception": false,
     "start_time": "2022-07-15T10:03:47.689981",
     "status": "completed"
    },
    "tags": []
   },
   "source": [
    "It is observed that Levy column the DataSet contains '-' symbol insted of a int variable."
   ]
  },
  {
   "cell_type": "markdown",
   "id": "b736bef5",
   "metadata": {
    "papermill": {
     "duration": 0.020187,
     "end_time": "2022-07-15T10:03:47.750298",
     "exception": false,
     "start_time": "2022-07-15T10:03:47.730111",
     "status": "completed"
    },
    "tags": []
   },
   "source": [
    "So we will replace '-' symbol with a '0' and change the datatype of this column to integer type."
   ]
  },
  {
   "cell_type": "code",
   "execution_count": 213,
   "id": "50ad8d51",
   "metadata": {
    "execution": {
     "iopub.execute_input": "2022-07-15T10:03:47.794267Z",
     "iopub.status.busy": "2022-07-15T10:03:47.793498Z",
     "iopub.status.idle": "2022-07-15T10:03:47.818376Z",
     "shell.execute_reply": "2022-07-15T10:03:47.817195Z"
    },
    "papermill": {
     "duration": 0.051453,
     "end_time": "2022-07-15T10:03:47.823030",
     "exception": false,
     "start_time": "2022-07-15T10:03:47.771577",
     "status": "completed"
    },
    "tags": []
   },
   "outputs": [],
   "source": [
    "newdf.Levy = newdf.Levy.str.replace('-',\"0\") "
   ]
  },
  {
   "cell_type": "code",
   "execution_count": 214,
   "id": "c2c602d8",
   "metadata": {
    "execution": {
     "iopub.execute_input": "2022-07-15T10:03:47.868265Z",
     "iopub.status.busy": "2022-07-15T10:03:47.867465Z",
     "iopub.status.idle": "2022-07-15T10:03:47.876268Z",
     "shell.execute_reply": "2022-07-15T10:03:47.875127Z"
    },
    "papermill": {
     "duration": 0.033699,
     "end_time": "2022-07-15T10:03:47.878608",
     "exception": false,
     "start_time": "2022-07-15T10:03:47.844909",
     "status": "completed"
    },
    "scrolled": true,
    "tags": []
   },
   "outputs": [
    {
     "data": {
      "text/plain": [
       "0    1399\n",
       "2       0\n",
       "3     862\n",
       "4     446\n",
       "5     891\n",
       "Name: Levy, dtype: object"
      ]
     },
     "execution_count": 214,
     "metadata": {},
     "output_type": "execute_result"
    }
   ],
   "source": [
    "newdf.Levy.head()"
   ]
  },
  {
   "cell_type": "markdown",
   "id": "9c645f77",
   "metadata": {
    "papermill": {
     "duration": 0.020295,
     "end_time": "2022-07-15T10:03:47.919796",
     "exception": false,
     "start_time": "2022-07-15T10:03:47.899501",
     "status": "completed"
    },
    "tags": []
   },
   "source": [
    "see now row index 2 contains 0 instead of a '-' symbol."
   ]
  },
  {
   "cell_type": "code",
   "execution_count": 215,
   "id": "3bf9b7b3",
   "metadata": {
    "execution": {
     "iopub.execute_input": "2022-07-15T10:03:47.963458Z",
     "iopub.status.busy": "2022-07-15T10:03:47.962559Z",
     "iopub.status.idle": "2022-07-15T10:03:47.970083Z",
     "shell.execute_reply": "2022-07-15T10:03:47.969133Z"
    },
    "papermill": {
     "duration": 0.031842,
     "end_time": "2022-07-15T10:03:47.972423",
     "exception": false,
     "start_time": "2022-07-15T10:03:47.940581",
     "status": "completed"
    },
    "tags": []
   },
   "outputs": [
    {
     "data": {
      "text/plain": [
       "dtype('O')"
      ]
     },
     "execution_count": 215,
     "metadata": {},
     "output_type": "execute_result"
    }
   ],
   "source": [
    "newdf['Levy'].dtype"
   ]
  },
  {
   "cell_type": "code",
   "execution_count": 216,
   "id": "b1503e95",
   "metadata": {
    "execution": {
     "iopub.execute_input": "2022-07-15T10:03:48.019250Z",
     "iopub.status.busy": "2022-07-15T10:03:48.018604Z",
     "iopub.status.idle": "2022-07-15T10:03:48.030630Z",
     "shell.execute_reply": "2022-07-15T10:03:48.029378Z"
    },
    "papermill": {
     "duration": 0.039877,
     "end_time": "2022-07-15T10:03:48.033210",
     "exception": false,
     "start_time": "2022-07-15T10:03:47.993333",
     "status": "completed"
    },
    "tags": []
   },
   "outputs": [],
   "source": [
    "newdf.Levy = newdf['Levy'].astype('int64')"
   ]
  },
  {
   "cell_type": "code",
   "execution_count": 217,
   "id": "ca5b2786",
   "metadata": {
    "execution": {
     "iopub.execute_input": "2022-07-15T10:03:48.077067Z",
     "iopub.status.busy": "2022-07-15T10:03:48.076393Z",
     "iopub.status.idle": "2022-07-15T10:03:48.085087Z",
     "shell.execute_reply": "2022-07-15T10:03:48.084114Z"
    },
    "papermill": {
     "duration": 0.033087,
     "end_time": "2022-07-15T10:03:48.087355",
     "exception": false,
     "start_time": "2022-07-15T10:03:48.054268",
     "status": "completed"
    },
    "tags": []
   },
   "outputs": [
    {
     "data": {
      "text/plain": [
       "0    1399\n",
       "2       0\n",
       "3     862\n",
       "4     446\n",
       "5     891\n",
       "Name: Levy, dtype: int64"
      ]
     },
     "execution_count": 217,
     "metadata": {},
     "output_type": "execute_result"
    }
   ],
   "source": [
    "newdf.Levy.head()"
   ]
  },
  {
   "cell_type": "markdown",
   "id": "4844afd9",
   "metadata": {
    "papermill": {
     "duration": 0.0206,
     "end_time": "2022-07-15T10:03:48.128880",
     "exception": false,
     "start_time": "2022-07-15T10:03:48.108280",
     "status": "completed"
    },
    "tags": []
   },
   "source": [
    "The data type of this column is now changed.\n",
    "now we have also observed that mileage columns contains something fishy.\n",
    "it contains 'km' which makes it a categorical variable."
   ]
  },
  {
   "cell_type": "code",
   "execution_count": 218,
   "id": "02480eb1",
   "metadata": {
    "execution": {
     "iopub.execute_input": "2022-07-15T10:03:48.173274Z",
     "iopub.status.busy": "2022-07-15T10:03:48.172880Z",
     "iopub.status.idle": "2022-07-15T10:03:48.180689Z",
     "shell.execute_reply": "2022-07-15T10:03:48.179735Z"
    },
    "papermill": {
     "duration": 0.032156,
     "end_time": "2022-07-15T10:03:48.182801",
     "exception": false,
     "start_time": "2022-07-15T10:03:48.150645",
     "status": "completed"
    },
    "tags": []
   },
   "outputs": [
    {
     "data": {
      "text/plain": [
       "0    186005 km\n",
       "2    200000 km\n",
       "3    168966 km\n",
       "4     91901 km\n",
       "5    160931 km\n",
       "Name: Mileage, dtype: object"
      ]
     },
     "execution_count": 218,
     "metadata": {},
     "output_type": "execute_result"
    }
   ],
   "source": [
    "newdf.Mileage.head()"
   ]
  },
  {
   "cell_type": "code",
   "execution_count": 219,
   "id": "f80fd8d6",
   "metadata": {
    "execution": {
     "iopub.execute_input": "2022-07-15T10:03:48.227101Z",
     "iopub.status.busy": "2022-07-15T10:03:48.226691Z",
     "iopub.status.idle": "2022-07-15T10:03:48.267789Z",
     "shell.execute_reply": "2022-07-15T10:03:48.266667Z"
    },
    "papermill": {
     "duration": 0.066789,
     "end_time": "2022-07-15T10:03:48.270443",
     "exception": false,
     "start_time": "2022-07-15T10:03:48.203654",
     "status": "completed"
    },
    "tags": []
   },
   "outputs": [
    {
     "data": {
      "text/plain": [
       "dtype('int64')"
      ]
     },
     "execution_count": 219,
     "metadata": {},
     "output_type": "execute_result"
    }
   ],
   "source": [
    "newdf.Mileage = newdf.Mileage.apply(lambda x : str(x).replace(\"km\",\" \"))\n",
    "newdf.Mileage = newdf.Mileage.apply(lambda x : int(x))\n",
    "newdf.Mileage.dtype"
   ]
  },
  {
   "cell_type": "code",
   "execution_count": 220,
   "id": "0e418272",
   "metadata": {
    "execution": {
     "iopub.execute_input": "2022-07-15T10:03:48.314638Z",
     "iopub.status.busy": "2022-07-15T10:03:48.313656Z",
     "iopub.status.idle": "2022-07-15T10:03:48.322615Z",
     "shell.execute_reply": "2022-07-15T10:03:48.321767Z"
    },
    "papermill": {
     "duration": 0.033459,
     "end_time": "2022-07-15T10:03:48.324837",
     "exception": false,
     "start_time": "2022-07-15T10:03:48.291378",
     "status": "completed"
    },
    "tags": []
   },
   "outputs": [
    {
     "data": {
      "text/plain": [
       "array(['04-May', '02-Mar', '>5'], dtype=object)"
      ]
     },
     "execution_count": 220,
     "metadata": {},
     "output_type": "execute_result"
    }
   ],
   "source": [
    "newdf.Doors.unique()"
   ]
  },
  {
   "cell_type": "code",
   "execution_count": 221,
   "id": "e149c2a5",
   "metadata": {
    "execution": {
     "iopub.execute_input": "2022-07-15T10:03:48.368753Z",
     "iopub.status.busy": "2022-07-15T10:03:48.367972Z",
     "iopub.status.idle": "2022-07-15T10:03:48.394114Z",
     "shell.execute_reply": "2022-07-15T10:03:48.393147Z"
    },
    "papermill": {
     "duration": 0.050965,
     "end_time": "2022-07-15T10:03:48.396690",
     "exception": false,
     "start_time": "2022-07-15T10:03:48.345725",
     "status": "completed"
    },
    "tags": []
   },
   "outputs": [],
   "source": [
    "newdf.Doors = newdf.Doors.apply(lambda x : str(x).replace(\"04-May\",\"4-5\"))\n",
    "newdf.Doors = newdf.Doors.apply(lambda x : str(x).replace(\"02-Mar\",\"2-3\"))"
   ]
  },
  {
   "cell_type": "code",
   "execution_count": 222,
   "id": "c35ef053",
   "metadata": {
    "execution": {
     "iopub.execute_input": "2022-07-15T10:03:48.440803Z",
     "iopub.status.busy": "2022-07-15T10:03:48.440057Z",
     "iopub.status.idle": "2022-07-15T10:03:48.449391Z",
     "shell.execute_reply": "2022-07-15T10:03:48.448407Z"
    },
    "papermill": {
     "duration": 0.033725,
     "end_time": "2022-07-15T10:03:48.451635",
     "exception": false,
     "start_time": "2022-07-15T10:03:48.417910",
     "status": "completed"
    },
    "tags": []
   },
   "outputs": [
    {
     "data": {
      "text/plain": [
       "array(['3.5', '1.3', '2.5', '2', '1.8', '2.4', '4', '1.6', '3.3',\n",
       "       '2.0 Turbo', '2.2 Turbo', '4.7', '1.5', '3', '3.0 Turbo',\n",
       "       '1.4 Turbo', '3.6', '2.3', '1.5 Turbo', '1.6 Turbo', '2.2',\n",
       "       '2.3 Turbo', '1.4', '5.5', '2.8 Turbo', '3.2', '3.8', '4.6', '1.2',\n",
       "       '5', '1.7', '2.9', '0.5', '1.8 Turbo', '2.4 Turbo', '3.5 Turbo',\n",
       "       '1.9', '2.7', '4.8', '5.3', '0.4', '2.8', '3.2 Turbo', '1.1',\n",
       "       '2.1', '0.7', '5.4', '4.4', '1.3 Turbo', '3.7', '1', '2.5 Turbo',\n",
       "       '2.6', '1.9 Turbo', '4.4 Turbo', '4.7 Turbo', '0.8', '0.2 Turbo',\n",
       "       '5.7', '4.8 Turbo', '4.6 Turbo', '6.7', '6.2', '1.2 Turbo', '3.4',\n",
       "       '1.7 Turbo', '6.3 Turbo', '2.7 Turbo', '4.3', '4.2', '2.9 Turbo',\n",
       "       '0', '4.0 Turbo', '20', '3.6 Turbo', '0.3', '3.7 Turbo', '5.9',\n",
       "       '5.5 Turbo', '0.2', '2.1 Turbo', '5.6', '6', '0.7 Turbo',\n",
       "       '0.6 Turbo', '6.8', '4.5', '0.6', '7.3', '0.1', '1.0 Turbo', '6.3',\n",
       "       '4.5 Turbo', '0.8 Turbo', '4.2 Turbo', '3.1', '5.0 Turbo', '6.4',\n",
       "       '3.9', '5.7 Turbo', '0.9', '0.4 Turbo', '5.4 Turbo', '0.3 Turbo',\n",
       "       '5.2', '5.8', '1.1 Turbo'], dtype=object)"
      ]
     },
     "execution_count": 222,
     "metadata": {},
     "output_type": "execute_result"
    }
   ],
   "source": [
    "newdf['Engine volume'].unique()"
   ]
  },
  {
   "cell_type": "markdown",
   "id": "c1dcf326",
   "metadata": {
    "papermill": {
     "duration": 0.020788,
     "end_time": "2022-07-15T10:03:48.493278",
     "exception": false,
     "start_time": "2022-07-15T10:03:48.472490",
     "status": "completed"
    },
    "tags": []
   },
   "source": [
    "Removing of \"Turbo\" in Engine Column."
   ]
  },
  {
   "cell_type": "code",
   "execution_count": 223,
   "id": "a68ce07a",
   "metadata": {
    "execution": {
     "iopub.execute_input": "2022-07-15T10:03:48.537078Z",
     "iopub.status.busy": "2022-07-15T10:03:48.536669Z",
     "iopub.status.idle": "2022-07-15T10:03:48.568366Z",
     "shell.execute_reply": "2022-07-15T10:03:48.566802Z"
    },
    "papermill": {
     "duration": 0.056563,
     "end_time": "2022-07-15T10:03:48.570829",
     "exception": false,
     "start_time": "2022-07-15T10:03:48.514266",
     "status": "completed"
    },
    "tags": []
   },
   "outputs": [],
   "source": [
    "newdf['Engine volume'] = newdf['Engine volume'].apply(lambda x : str(x).replace(\"Turbo\",\" \"))\n",
    "newdf['Engine volume'] = newdf['Engine volume'].apply(lambda x : float(x))"
   ]
  },
  {
   "cell_type": "code",
   "execution_count": 224,
   "id": "fbd63d77",
   "metadata": {
    "execution": {
     "iopub.execute_input": "2022-07-15T10:03:48.616405Z",
     "iopub.status.busy": "2022-07-15T10:03:48.614293Z",
     "iopub.status.idle": "2022-07-15T10:03:48.636292Z",
     "shell.execute_reply": "2022-07-15T10:03:48.635127Z"
    },
    "papermill": {
     "duration": 0.0466,
     "end_time": "2022-07-15T10:03:48.638596",
     "exception": false,
     "start_time": "2022-07-15T10:03:48.591996",
     "status": "completed"
    },
    "scrolled": true,
    "tags": []
   },
   "outputs": [
    {
     "data": {
      "text/html": [
       "<div>\n",
       "<style scoped>\n",
       "    .dataframe tbody tr th:only-of-type {\n",
       "        vertical-align: middle;\n",
       "    }\n",
       "\n",
       "    .dataframe tbody tr th {\n",
       "        vertical-align: top;\n",
       "    }\n",
       "\n",
       "    .dataframe thead th {\n",
       "        text-align: right;\n",
       "    }\n",
       "</style>\n",
       "<table border=\"1\" class=\"dataframe\">\n",
       "  <thead>\n",
       "    <tr style=\"text-align: right;\">\n",
       "      <th></th>\n",
       "      <th>ID</th>\n",
       "      <th>Price</th>\n",
       "      <th>Levy</th>\n",
       "      <th>Manufacturer</th>\n",
       "      <th>Model</th>\n",
       "      <th>Prod. year</th>\n",
       "      <th>Category</th>\n",
       "      <th>Leather interior</th>\n",
       "      <th>Fuel type</th>\n",
       "      <th>Engine volume</th>\n",
       "      <th>Mileage</th>\n",
       "      <th>Cylinders</th>\n",
       "      <th>Gear box type</th>\n",
       "      <th>Drive wheels</th>\n",
       "      <th>Doors</th>\n",
       "      <th>Wheel</th>\n",
       "      <th>Color</th>\n",
       "      <th>Airbags</th>\n",
       "    </tr>\n",
       "  </thead>\n",
       "  <tbody>\n",
       "    <tr>\n",
       "      <th>0</th>\n",
       "      <td>45654403</td>\n",
       "      <td>13328</td>\n",
       "      <td>1399</td>\n",
       "      <td>LEXUS</td>\n",
       "      <td>RX 450</td>\n",
       "      <td>2010</td>\n",
       "      <td>Jeep</td>\n",
       "      <td>Yes</td>\n",
       "      <td>Hybrid</td>\n",
       "      <td>3.5</td>\n",
       "      <td>186005</td>\n",
       "      <td>6.0</td>\n",
       "      <td>Automatic</td>\n",
       "      <td>4x4</td>\n",
       "      <td>4-5</td>\n",
       "      <td>Left wheel</td>\n",
       "      <td>Silver</td>\n",
       "      <td>12</td>\n",
       "    </tr>\n",
       "    <tr>\n",
       "      <th>2</th>\n",
       "      <td>45774419</td>\n",
       "      <td>8467</td>\n",
       "      <td>0</td>\n",
       "      <td>HONDA</td>\n",
       "      <td>FIT</td>\n",
       "      <td>2006</td>\n",
       "      <td>Hatchback</td>\n",
       "      <td>No</td>\n",
       "      <td>Petrol</td>\n",
       "      <td>1.3</td>\n",
       "      <td>200000</td>\n",
       "      <td>4.0</td>\n",
       "      <td>Variator</td>\n",
       "      <td>Front</td>\n",
       "      <td>4-5</td>\n",
       "      <td>Right-hand drive</td>\n",
       "      <td>Black</td>\n",
       "      <td>2</td>\n",
       "    </tr>\n",
       "    <tr>\n",
       "      <th>3</th>\n",
       "      <td>45769185</td>\n",
       "      <td>3607</td>\n",
       "      <td>862</td>\n",
       "      <td>FORD</td>\n",
       "      <td>Escape</td>\n",
       "      <td>2011</td>\n",
       "      <td>Jeep</td>\n",
       "      <td>Yes</td>\n",
       "      <td>Hybrid</td>\n",
       "      <td>2.5</td>\n",
       "      <td>168966</td>\n",
       "      <td>4.0</td>\n",
       "      <td>Automatic</td>\n",
       "      <td>4x4</td>\n",
       "      <td>4-5</td>\n",
       "      <td>Left wheel</td>\n",
       "      <td>White</td>\n",
       "      <td>0</td>\n",
       "    </tr>\n",
       "    <tr>\n",
       "      <th>4</th>\n",
       "      <td>45809263</td>\n",
       "      <td>11726</td>\n",
       "      <td>446</td>\n",
       "      <td>HONDA</td>\n",
       "      <td>FIT</td>\n",
       "      <td>2014</td>\n",
       "      <td>Hatchback</td>\n",
       "      <td>Yes</td>\n",
       "      <td>Petrol</td>\n",
       "      <td>1.3</td>\n",
       "      <td>91901</td>\n",
       "      <td>4.0</td>\n",
       "      <td>Automatic</td>\n",
       "      <td>Front</td>\n",
       "      <td>4-5</td>\n",
       "      <td>Left wheel</td>\n",
       "      <td>Silver</td>\n",
       "      <td>4</td>\n",
       "    </tr>\n",
       "    <tr>\n",
       "      <th>5</th>\n",
       "      <td>45802912</td>\n",
       "      <td>39493</td>\n",
       "      <td>891</td>\n",
       "      <td>HYUNDAI</td>\n",
       "      <td>Santa FE</td>\n",
       "      <td>2016</td>\n",
       "      <td>Jeep</td>\n",
       "      <td>Yes</td>\n",
       "      <td>Diesel</td>\n",
       "      <td>2.0</td>\n",
       "      <td>160931</td>\n",
       "      <td>4.0</td>\n",
       "      <td>Automatic</td>\n",
       "      <td>Front</td>\n",
       "      <td>4-5</td>\n",
       "      <td>Left wheel</td>\n",
       "      <td>White</td>\n",
       "      <td>4</td>\n",
       "    </tr>\n",
       "  </tbody>\n",
       "</table>\n",
       "</div>"
      ],
      "text/plain": [
       "         ID  Price  Levy Manufacturer     Model  Prod. year   Category  \\\n",
       "0  45654403  13328  1399        LEXUS    RX 450        2010       Jeep   \n",
       "2  45774419   8467     0        HONDA       FIT        2006  Hatchback   \n",
       "3  45769185   3607   862         FORD    Escape        2011       Jeep   \n",
       "4  45809263  11726   446        HONDA       FIT        2014  Hatchback   \n",
       "5  45802912  39493   891      HYUNDAI  Santa FE        2016       Jeep   \n",
       "\n",
       "  Leather interior Fuel type  Engine volume  Mileage  Cylinders Gear box type  \\\n",
       "0              Yes    Hybrid            3.5   186005        6.0     Automatic   \n",
       "2               No    Petrol            1.3   200000        4.0      Variator   \n",
       "3              Yes    Hybrid            2.5   168966        4.0     Automatic   \n",
       "4              Yes    Petrol            1.3    91901        4.0     Automatic   \n",
       "5              Yes    Diesel            2.0   160931        4.0     Automatic   \n",
       "\n",
       "  Drive wheels Doors             Wheel   Color  Airbags  \n",
       "0          4x4   4-5        Left wheel  Silver       12  \n",
       "2        Front   4-5  Right-hand drive   Black        2  \n",
       "3          4x4   4-5        Left wheel   White        0  \n",
       "4        Front   4-5        Left wheel  Silver        4  \n",
       "5        Front   4-5        Left wheel   White        4  "
      ]
     },
     "execution_count": 224,
     "metadata": {},
     "output_type": "execute_result"
    }
   ],
   "source": [
    "newdf.head()"
   ]
  },
  {
   "cell_type": "code",
   "execution_count": 225,
   "id": "293fe928",
   "metadata": {
    "execution": {
     "iopub.execute_input": "2022-07-15T10:03:48.684614Z",
     "iopub.status.busy": "2022-07-15T10:03:48.683943Z",
     "iopub.status.idle": "2022-07-15T10:03:48.691174Z",
     "shell.execute_reply": "2022-07-15T10:03:48.690114Z"
    },
    "papermill": {
     "duration": 0.033661,
     "end_time": "2022-07-15T10:03:48.693443",
     "exception": false,
     "start_time": "2022-07-15T10:03:48.659782",
     "status": "completed"
    },
    "scrolled": true,
    "tags": []
   },
   "outputs": [
    {
     "data": {
      "text/plain": [
       "Index(['ID', 'Price', 'Levy', 'Manufacturer', 'Model', 'Prod. year',\n",
       "       'Category', 'Leather interior', 'Fuel type', 'Engine volume', 'Mileage',\n",
       "       'Cylinders', 'Gear box type', 'Drive wheels', 'Doors', 'Wheel', 'Color',\n",
       "       'Airbags'],\n",
       "      dtype='object')"
      ]
     },
     "execution_count": 225,
     "metadata": {},
     "output_type": "execute_result"
    }
   ],
   "source": [
    "newdf.columns"
   ]
  },
  {
   "cell_type": "markdown",
   "id": "7db3f10a",
   "metadata": {
    "papermill": {
     "duration": 0.02146,
     "end_time": "2022-07-15T10:03:48.736455",
     "exception": false,
     "start_time": "2022-07-15T10:03:48.714995",
     "status": "completed"
    },
    "tags": []
   },
   "source": [
    "# Exploratory Data Analysis."
   ]
  },
  {
   "cell_type": "markdown",
   "id": "1e9069e1",
   "metadata": {
    "papermill": {
     "duration": 0.021466,
     "end_time": "2022-07-15T10:03:48.780072",
     "exception": false,
     "start_time": "2022-07-15T10:03:48.758606",
     "status": "completed"
    },
    "tags": []
   },
   "source": [
    "### 1. Lets Analyse the fuel type used in different Cars."
   ]
  },
  {
   "cell_type": "code",
   "execution_count": 226,
   "id": "43f29424",
   "metadata": {
    "execution": {
     "iopub.execute_input": "2022-07-15T10:03:48.825910Z",
     "iopub.status.busy": "2022-07-15T10:03:48.825266Z",
     "iopub.status.idle": "2022-07-15T10:03:48.834135Z",
     "shell.execute_reply": "2022-07-15T10:03:48.833103Z"
    },
    "papermill": {
     "duration": 0.03436,
     "end_time": "2022-07-15T10:03:48.836298",
     "exception": false,
     "start_time": "2022-07-15T10:03:48.801938",
     "status": "completed"
    },
    "tags": []
   },
   "outputs": [
    {
     "data": {
      "text/plain": [
       "7"
      ]
     },
     "execution_count": 226,
     "metadata": {},
     "output_type": "execute_result"
    }
   ],
   "source": [
    "# no of unique fuel types.\n",
    "newdf['Fuel type'].nunique()"
   ]
  },
  {
   "cell_type": "code",
   "execution_count": 227,
   "id": "8d928d96",
   "metadata": {
    "execution": {
     "iopub.execute_input": "2022-07-15T10:03:48.881853Z",
     "iopub.status.busy": "2022-07-15T10:03:48.881118Z",
     "iopub.status.idle": "2022-07-15T10:03:48.892601Z",
     "shell.execute_reply": "2022-07-15T10:03:48.891412Z"
    },
    "papermill": {
     "duration": 0.036995,
     "end_time": "2022-07-15T10:03:48.894822",
     "exception": false,
     "start_time": "2022-07-15T10:03:48.857827",
     "status": "completed"
    },
    "tags": []
   },
   "outputs": [
    {
     "data": {
      "text/plain": [
       "Fuel type\n",
       "Petrol            9803\n",
       "Diesel            3971\n",
       "Hybrid            3507\n",
       "LPG                878\n",
       "CNG                460\n",
       "Plug-in Hybrid      84\n",
       "Hydrogen             1\n",
       "dtype: int64"
      ]
     },
     "execution_count": 227,
     "metadata": {},
     "output_type": "execute_result"
    }
   ],
   "source": [
    "newdf.groupby(['Fuel type']).size().sort_values(ascending = False)"
   ]
  },
  {
   "cell_type": "code",
   "execution_count": 228,
   "id": "d564359b",
   "metadata": {
    "execution": {
     "iopub.execute_input": "2022-07-15T10:03:48.941339Z",
     "iopub.status.busy": "2022-07-15T10:03:48.940698Z",
     "iopub.status.idle": "2022-07-15T10:03:48.948453Z",
     "shell.execute_reply": "2022-07-15T10:03:48.947630Z"
    },
    "papermill": {
     "duration": 0.033093,
     "end_time": "2022-07-15T10:03:48.950643",
     "exception": false,
     "start_time": "2022-07-15T10:03:48.917550",
     "status": "completed"
    },
    "tags": []
   },
   "outputs": [],
   "source": [
    "fuelcounts = newdf['Fuel type'].value_counts()"
   ]
  },
  {
   "cell_type": "code",
   "execution_count": 229,
   "id": "b0d08606",
   "metadata": {
    "execution": {
     "iopub.execute_input": "2022-07-15T10:03:48.995961Z",
     "iopub.status.busy": "2022-07-15T10:03:48.995350Z",
     "iopub.status.idle": "2022-07-15T10:03:49.530277Z",
     "shell.execute_reply": "2022-07-15T10:03:49.529100Z"
    },
    "papermill": {
     "duration": 0.560814,
     "end_time": "2022-07-15T10:03:49.533126",
     "exception": false,
     "start_time": "2022-07-15T10:03:48.972312",
     "status": "completed"
    },
    "tags": []
   },
   "outputs": [
    {
     "data": {
      "image/png": "[encoded data removed]",
      "text/plain": [
       "<Figure size 864x432 with 2 Axes>"
      ]
     },
     "metadata": {},
     "output_type": "display_data"
    }
   ],
   "source": [
    "langs= fuelcounts.index\n",
    "fig, axes = plt.subplots(1,2, figsize=(12,6))\n",
    "sns.set_style(\"darkgrid\")\n",
    "axes[0].set_xticklabels(fuelcounts.index ,rotation=45)\n",
    "a1=sns.barplot(fuelcounts.index,fuelcounts,ax=axes[0]);\n",
    "a1.set(xlabel='Fuel Type', ylabel='Number of Cars')\n",
    "plt.pie(fuelcounts,autopct='%1.2f%%',labels = langs,radius=1.5,labeldistance=1.1 ,   rotatelabels=True)\n",
    "plt.show()"
   ]
  },
  {
   "cell_type": "markdown",
   "id": "4c52ed41",
   "metadata": {
    "papermill": {
     "duration": 0.022791,
     "end_time": "2022-07-15T10:03:49.581227",
     "exception": false,
     "start_time": "2022-07-15T10:03:49.558436",
     "status": "completed"
    },
    "tags": []
   },
   "source": [
    "### 2. Lets Examine does the car Contains Leather Interior. "
   ]
  },
  {
   "cell_type": "code",
   "execution_count": 230,
   "id": "0fb11fc5",
   "metadata": {
    "execution": {
     "iopub.execute_input": "2022-07-15T10:03:49.629854Z",
     "iopub.status.busy": "2022-07-15T10:03:49.629097Z",
     "iopub.status.idle": "2022-07-15T10:03:49.639236Z",
     "shell.execute_reply": "2022-07-15T10:03:49.638258Z"
    },
    "papermill": {
     "duration": 0.036959,
     "end_time": "2022-07-15T10:03:49.641395",
     "exception": false,
     "start_time": "2022-07-15T10:03:49.604436",
     "status": "completed"
    },
    "tags": []
   },
   "outputs": [
    {
     "data": {
      "text/plain": [
       "Yes    13954\n",
       "No      5283\n",
       "Name: Leather interior, dtype: int64"
      ]
     },
     "execution_count": 230,
     "metadata": {},
     "output_type": "execute_result"
    }
   ],
   "source": [
    "car_that_contains_leather = df['Leather interior'].value_counts()\n",
    "car_that_contains_leather"
   ]
  },
  {
   "cell_type": "code",
   "execution_count": 231,
   "id": "95765196",
   "metadata": {
    "execution": {
     "iopub.execute_input": "2022-07-15T10:03:49.690534Z",
     "iopub.status.busy": "2022-07-15T10:03:49.689746Z",
     "iopub.status.idle": "2022-07-15T10:03:49.816698Z",
     "shell.execute_reply": "2022-07-15T10:03:49.815242Z"
    },
    "papermill": {
     "duration": 0.15578,
     "end_time": "2022-07-15T10:03:49.820354",
     "exception": false,
     "start_time": "2022-07-15T10:03:49.664574",
     "status": "completed"
    },
    "scrolled": true,
    "tags": []
   },
   "outputs": [
    {
     "data": {
      "image/png": "[encoded data removed]",
      "text/plain": [
       "<Figure size 432x360 with 1 Axes>"
      ]
     },
     "metadata": {},
     "output_type": "display_data"
    }
   ],
   "source": [
    "leather_Interior = ['Yes','No']\n",
    "plt.figure(figsize=(6,5))\n",
    "plt.title('Leather Interiored or Not(Yes/No)')\n",
    "plt.pie(car_that_contains_leather,autopct='%1.2f%%',labels = leather_Interior,explode=(0.1,0.1));\n",
    "plt.show()"
   ]
  },
  {
   "cell_type": "markdown",
   "id": "55c5028a",
   "metadata": {
    "papermill": {
     "duration": 0.040018,
     "end_time": "2022-07-15T10:03:49.905146",
     "exception": false,
     "start_time": "2022-07-15T10:03:49.865128",
     "status": "completed"
    },
    "tags": []
   },
   "source": [
    "## 3.Analysis of Gear Box"
   ]
  },
  {
   "cell_type": "code",
   "execution_count": 232,
   "id": "8a20d929",
   "metadata": {
    "execution": {
     "iopub.execute_input": "2022-07-15T10:03:49.955207Z",
     "iopub.status.busy": "2022-07-15T10:03:49.954794Z",
     "iopub.status.idle": "2022-07-15T10:03:49.966271Z",
     "shell.execute_reply": "2022-07-15T10:03:49.965194Z"
    },
    "papermill": {
     "duration": 0.039809,
     "end_time": "2022-07-15T10:03:49.968614",
     "exception": false,
     "start_time": "2022-07-15T10:03:49.928805",
     "status": "completed"
    },
    "tags": []
   },
   "outputs": [
    {
     "data": {
      "text/plain": [
       "Automatic    13514\n",
       "Tiptronic     3102\n",
       "Manual        1875\n",
       "Variator       746\n",
       "Name: Gear box type, dtype: int64"
      ]
     },
     "execution_count": 232,
     "metadata": {},
     "output_type": "execute_result"
    }
   ],
   "source": [
    "gearbox =  df['Gear box type'].value_counts().head(4)\n",
    "gearbox"
   ]
  },
  {
   "cell_type": "code",
   "execution_count": 233,
   "id": "3273dc47",
   "metadata": {
    "execution": {
     "iopub.execute_input": "2022-07-15T10:03:50.019543Z",
     "iopub.status.busy": "2022-07-15T10:03:50.018720Z",
     "iopub.status.idle": "2022-07-15T10:03:50.154768Z",
     "shell.execute_reply": "2022-07-15T10:03:50.153338Z"
    },
    "papermill": {
     "duration": 0.165628,
     "end_time": "2022-07-15T10:03:50.158579",
     "exception": false,
     "start_time": "2022-07-15T10:03:49.992951",
     "status": "completed"
    },
    "tags": []
   },
   "outputs": [
    {
     "data": {
      "image/png": "[encoded data removed]",
      "text/plain": [
       "<Figure size 432x288 with 1 Axes>"
      ]
     },
     "metadata": {},
     "output_type": "display_data"
    }
   ],
   "source": [
    "plt.pie(x = gearbox.values,labels = gearbox.index,autopct = '%1.2f%%')\n",
    "plt.title('Different Types of GearBox')\n",
    "plt.show()"
   ]
  },
  {
   "cell_type": "code",
   "execution_count": 234,
   "id": "869c67fa",
   "metadata": {
    "execution": {
     "iopub.execute_input": "2022-07-15T10:03:50.242850Z",
     "iopub.status.busy": "2022-07-15T10:03:50.242161Z",
     "iopub.status.idle": "2022-07-15T10:03:50.473585Z",
     "shell.execute_reply": "2022-07-15T10:03:50.472241Z"
    },
    "papermill": {
     "duration": 0.273357,
     "end_time": "2022-07-15T10:03:50.476297",
     "exception": false,
     "start_time": "2022-07-15T10:03:50.202940",
     "status": "completed"
    },
    "tags": []
   },
   "outputs": [
    {
     "data": {
      "image/png": "[encoded data removed]",
      "text/plain": [
       "<Figure size 432x288 with 1 Axes>"
      ]
     },
     "metadata": {},
     "output_type": "display_data"
    }
   ],
   "source": [
    "plt.tight_layout(pad=2)\n",
    "sns.barplot(gearbox.index,gearbox);\n",
    "plt.xlabel('Gear Box Type')\n",
    "plt.ylabel('Number of Cars')\n",
    "plt.show()"
   ]
  },
  {
   "cell_type": "markdown",
   "id": "dfce4c9b",
   "metadata": {
    "papermill": {
     "duration": 0.024321,
     "end_time": "2022-07-15T10:03:50.525091",
     "exception": false,
     "start_time": "2022-07-15T10:03:50.500770",
     "status": "completed"
    },
    "tags": []
   },
   "source": [
    "## 4.Analyse of Manufacturer"
   ]
  },
  {
   "cell_type": "code",
   "execution_count": 235,
   "id": "3ba91157",
   "metadata": {
    "execution": {
     "iopub.execute_input": "2022-07-15T10:03:50.577123Z",
     "iopub.status.busy": "2022-07-15T10:03:50.576127Z",
     "iopub.status.idle": "2022-07-15T10:03:50.588333Z",
     "shell.execute_reply": "2022-07-15T10:03:50.587226Z"
    },
    "papermill": {
     "duration": 0.040869,
     "end_time": "2022-07-15T10:03:50.590532",
     "exception": false,
     "start_time": "2022-07-15T10:03:50.549663",
     "status": "completed"
    },
    "tags": []
   },
   "outputs": [
    {
     "data": {
      "text/plain": [
       "HYUNDAI          3690\n",
       "TOYOTA           3563\n",
       "MERCEDES-BENZ    2019\n",
       "FORD             1075\n",
       "BMW              1027\n",
       "CHEVROLET        1026\n",
       "HONDA             949\n",
       "LEXUS             903\n",
       "NISSAN            636\n",
       "VOLKSWAGEN        566\n",
       "SSANGYONG         437\n",
       "KIA               413\n",
       "OPEL              395\n",
       "MITSUBISHI        287\n",
       "SUBARU            273\n",
       "AUDI              253\n",
       "MAZDA             173\n",
       "JEEP              138\n",
       "DAEWOO             91\n",
       "DODGE              89\n",
       "Name: Manufacturer, dtype: int64"
      ]
     },
     "execution_count": 235,
     "metadata": {},
     "output_type": "execute_result"
    }
   ],
   "source": [
    "Manufacture = newdf.Manufacturer.value_counts().head(20)\n",
    "Manufacture"
   ]
  },
  {
   "cell_type": "code",
   "execution_count": 236,
   "id": "934de71a",
   "metadata": {
    "execution": {
     "iopub.execute_input": "2022-07-15T10:03:50.642384Z",
     "iopub.status.busy": "2022-07-15T10:03:50.641573Z",
     "iopub.status.idle": "2022-07-15T10:03:51.072642Z",
     "shell.execute_reply": "2022-07-15T10:03:51.071310Z"
    },
    "papermill": {
     "duration": 0.459992,
     "end_time": "2022-07-15T10:03:51.075409",
     "exception": false,
     "start_time": "2022-07-15T10:03:50.615417",
     "status": "completed"
    },
    "tags": []
   },
   "outputs": [
    {
     "data": {
      "image/png": "[encoded data removed]",
      "text/plain": [
       "<Figure size 864x432 with 1 Axes>"
      ]
     },
     "metadata": {},
     "output_type": "display_data"
    }
   ],
   "source": [
    "plt.figure(figsize=(12,6))\n",
    "plt.title(\"Number of cars Produced by the Manufacturer\")\n",
    "sns.set_style(\"darkgrid\")\n",
    "a=sns.barplot(Manufacture.index,Manufacture);\n",
    "a.set_xticklabels(Manufacture.index ,rotation=90)\n",
    "a.set(xlabel='Manufacturer', ylabel='Number of Cars')\n",
    "plt.show()"
   ]
  },
  {
   "cell_type": "markdown",
   "id": "ca8cdaac",
   "metadata": {
    "papermill": {
     "duration": 0.025665,
     "end_time": "2022-07-15T10:03:51.127345",
     "exception": false,
     "start_time": "2022-07-15T10:03:51.101680",
     "status": "completed"
    },
    "tags": []
   },
   "source": [
    "## 5.Analyse on car categories"
   ]
  },
  {
   "cell_type": "code",
   "execution_count": 237,
   "id": "d0972f4e",
   "metadata": {
    "execution": {
     "iopub.execute_input": "2022-07-15T10:03:51.181473Z",
     "iopub.status.busy": "2022-07-15T10:03:51.181083Z",
     "iopub.status.idle": "2022-07-15T10:03:51.193740Z",
     "shell.execute_reply": "2022-07-15T10:03:51.192573Z"
    },
    "papermill": {
     "duration": 0.042438,
     "end_time": "2022-07-15T10:03:51.196343",
     "exception": false,
     "start_time": "2022-07-15T10:03:51.153905",
     "status": "completed"
    },
    "tags": []
   },
   "outputs": [
    {
     "data": {
      "text/plain": [
       "Sedan          8492\n",
       "Jeep           5315\n",
       "Hatchback      2771\n",
       "Minivan         627\n",
       "Coupe           524\n",
       "Universal       358\n",
       "Microbus        296\n",
       "Goods wagon     226\n",
       "Pickup           50\n",
       "Cabriolet        34\n",
       "Limousine        11\n",
       "Name: Category, dtype: int64"
      ]
     },
     "execution_count": 237,
     "metadata": {},
     "output_type": "execute_result"
    }
   ],
   "source": [
    "Car_category = newdf.Category.value_counts()\n",
    "Car_category"
   ]
  },
  {
   "cell_type": "code",
   "execution_count": 238,
   "id": "afb42edf",
   "metadata": {
    "execution": {
     "iopub.execute_input": "2022-07-15T10:03:51.250705Z",
     "iopub.status.busy": "2022-07-15T10:03:51.249873Z",
     "iopub.status.idle": "2022-07-15T10:03:51.715366Z",
     "shell.execute_reply": "2022-07-15T10:03:51.714099Z"
    },
    "papermill": {
     "duration": 0.495197,
     "end_time": "2022-07-15T10:03:51.717902",
     "exception": false,
     "start_time": "2022-07-15T10:03:51.222705",
     "status": "completed"
    },
    "scrolled": false,
    "tags": []
   },
   "outputs": [
    {
     "data": {
      "image/png": "[encoded data removed]",
      "text/plain": [
       "<Figure size 864x432 with 1 Axes>"
      ]
     },
     "metadata": {},
     "output_type": "display_data"
    }
   ],
   "source": [
    "plt.figure(figsize=(12,6))\n",
    "plt.rc('font', **font)\n",
    "plt.title('Number of cars in each category')\n",
    "sns.set_style(\"darkgrid\")\n",
    "a=sns.barplot(Car_category.index,Car_category);\n",
    "a.set_xticklabels(Car_category.index ,rotation=90)\n",
    "a.set(xlabel='Category Name', ylabel='Number of Cars')\n",
    "plt.show()"
   ]
  },
  {
   "cell_type": "markdown",
   "id": "849d786c",
   "metadata": {
    "papermill": {
     "duration": 0.025817,
     "end_time": "2022-07-15T10:03:51.769943",
     "exception": false,
     "start_time": "2022-07-15T10:03:51.744126",
     "status": "completed"
    },
    "tags": []
   },
   "source": [
    "## 6. Analysis On Yearly Car Production"
   ]
  },
  {
   "cell_type": "code",
   "execution_count": 239,
   "id": "0ab2f155",
   "metadata": {
    "execution": {
     "iopub.execute_input": "2022-07-15T10:03:51.825408Z",
     "iopub.status.busy": "2022-07-15T10:03:51.824816Z",
     "iopub.status.idle": "2022-07-15T10:03:51.833507Z",
     "shell.execute_reply": "2022-07-15T10:03:51.832285Z"
    },
    "papermill": {
     "duration": 0.039874,
     "end_time": "2022-07-15T10:03:51.836242",
     "exception": false,
     "start_time": "2022-07-15T10:03:51.796368",
     "status": "completed"
    },
    "tags": []
   },
   "outputs": [],
   "source": [
    "yearly_production = newdf.groupby(['Prod. year']).size().reset_index().rename(columns = {0:'Counts'})"
   ]
  },
  {
   "cell_type": "code",
   "execution_count": 240,
   "id": "c5f3f0bc",
   "metadata": {
    "execution": {
     "iopub.execute_input": "2022-07-15T10:03:51.892091Z",
     "iopub.status.busy": "2022-07-15T10:03:51.891574Z",
     "iopub.status.idle": "2022-07-15T10:03:51.901407Z",
     "shell.execute_reply": "2022-07-15T10:03:51.900598Z"
    },
    "papermill": {
     "duration": 0.039801,
     "end_time": "2022-07-15T10:03:51.903362",
     "exception": false,
     "start_time": "2022-07-15T10:03:51.863561",
     "status": "completed"
    },
    "tags": []
   },
   "outputs": [
    {
     "data": {
      "text/html": [
       "<div>\n",
       "<style scoped>\n",
       "    .dataframe tbody tr th:only-of-type {\n",
       "        vertical-align: middle;\n",
       "    }\n",
       "\n",
       "    .dataframe tbody tr th {\n",
       "        vertical-align: top;\n",
       "    }\n",
       "\n",
       "    .dataframe thead th {\n",
       "        text-align: right;\n",
       "    }\n",
       "</style>\n",
       "<table border=\"1\" class=\"dataframe\">\n",
       "  <thead>\n",
       "    <tr style=\"text-align: right;\">\n",
       "      <th></th>\n",
       "      <th>Prod. year</th>\n",
       "      <th>Counts</th>\n",
       "    </tr>\n",
       "  </thead>\n",
       "  <tbody>\n",
       "    <tr>\n",
       "      <th>0</th>\n",
       "      <td>1939</td>\n",
       "      <td>3</td>\n",
       "    </tr>\n",
       "    <tr>\n",
       "      <th>1</th>\n",
       "      <td>1943</td>\n",
       "      <td>1</td>\n",
       "    </tr>\n",
       "    <tr>\n",
       "      <th>2</th>\n",
       "      <td>1947</td>\n",
       "      <td>1</td>\n",
       "    </tr>\n",
       "    <tr>\n",
       "      <th>3</th>\n",
       "      <td>1953</td>\n",
       "      <td>4</td>\n",
       "    </tr>\n",
       "    <tr>\n",
       "      <th>4</th>\n",
       "      <td>1957</td>\n",
       "      <td>1</td>\n",
       "    </tr>\n",
       "  </tbody>\n",
       "</table>\n",
       "</div>"
      ],
      "text/plain": [
       "   Prod. year  Counts\n",
       "0        1939       3\n",
       "1        1943       1\n",
       "2        1947       1\n",
       "3        1953       4\n",
       "4        1957       1"
      ]
     },
     "execution_count": 240,
     "metadata": {},
     "output_type": "execute_result"
    }
   ],
   "source": [
    "yearly_production.head()"
   ]
  },
  {
   "cell_type": "code",
   "execution_count": 241,
   "id": "8d1d354d",
   "metadata": {
    "execution": {
     "iopub.execute_input": "2022-07-15T10:03:51.958739Z",
     "iopub.status.busy": "2022-07-15T10:03:51.958020Z",
     "iopub.status.idle": "2022-07-15T10:03:53.435167Z",
     "shell.execute_reply": "2022-07-15T10:03:53.433954Z"
    },
    "papermill": {
     "duration": 1.507883,
     "end_time": "2022-07-15T10:03:53.437972",
     "exception": false,
     "start_time": "2022-07-15T10:03:51.930089",
     "status": "completed"
    },
    "scrolled": false,
    "tags": []
   },
   "outputs": [
    {
     "data": {
      "image/png": "[encoded data removed]",
      "text/plain": [
       "<Figure size 864x432 with 1 Axes>"
      ]
     },
     "metadata": {},
     "output_type": "display_data"
    }
   ],
   "source": [
    "plt.figure(figsize=(12,6))\n",
    "plt.title('Number of Cars Produced Yearly')\n",
    "sns.set_style(\"darkgrid\")\n",
    "a1=sns.barplot('Prod. year','Counts',data = yearly_production );\n",
    "a1.set_xticklabels(yearly_production['Prod. year'],rotation=90)\n",
    "a1.set(xlabel='Production year', ylabel='Number of Cars')\n",
    "plt.show()"
   ]
  },
  {
   "cell_type": "markdown",
   "id": "a6066391",
   "metadata": {
    "papermill": {
     "duration": 0.026912,
     "end_time": "2022-07-15T10:03:53.492419",
     "exception": false,
     "start_time": "2022-07-15T10:03:53.465507",
     "status": "completed"
    },
    "tags": []
   },
   "source": [
    "## 7.  Analysis of Engine Volume"
   ]
  },
  {
   "cell_type": "code",
   "execution_count": 242,
   "id": "0947c899",
   "metadata": {
    "execution": {
     "iopub.execute_input": "2022-07-15T10:03:53.549478Z",
     "iopub.status.busy": "2022-07-15T10:03:53.548356Z",
     "iopub.status.idle": "2022-07-15T10:03:53.557487Z",
     "shell.execute_reply": "2022-07-15T10:03:53.556622Z"
    },
    "papermill": {
     "duration": 0.040158,
     "end_time": "2022-07-15T10:03:53.559916",
     "exception": false,
     "start_time": "2022-07-15T10:03:53.519758",
     "status": "completed"
    },
    "tags": []
   },
   "outputs": [
    {
     "data": {
      "text/html": [
       "<div>\n",
       "<style scoped>\n",
       "    .dataframe tbody tr th:only-of-type {\n",
       "        vertical-align: middle;\n",
       "    }\n",
       "\n",
       "    .dataframe tbody tr th {\n",
       "        vertical-align: top;\n",
       "    }\n",
       "\n",
       "    .dataframe thead th {\n",
       "        text-align: right;\n",
       "    }\n",
       "</style>\n",
       "<table border=\"1\" class=\"dataframe\">\n",
       "  <thead>\n",
       "    <tr style=\"text-align: right;\">\n",
       "      <th></th>\n",
       "      <th>Engine volume</th>\n",
       "      <th>Counts</th>\n",
       "    </tr>\n",
       "  </thead>\n",
       "  <tbody>\n",
       "    <tr>\n",
       "      <th>0</th>\n",
       "      <td>0.0</td>\n",
       "      <td>10</td>\n",
       "    </tr>\n",
       "    <tr>\n",
       "      <th>1</th>\n",
       "      <td>0.1</td>\n",
       "      <td>4</td>\n",
       "    </tr>\n",
       "    <tr>\n",
       "      <th>2</th>\n",
       "      <td>0.2</td>\n",
       "      <td>10</td>\n",
       "    </tr>\n",
       "    <tr>\n",
       "      <th>3</th>\n",
       "      <td>0.3</td>\n",
       "      <td>3</td>\n",
       "    </tr>\n",
       "    <tr>\n",
       "      <th>4</th>\n",
       "      <td>0.4</td>\n",
       "      <td>23</td>\n",
       "    </tr>\n",
       "    <tr>\n",
       "      <th>...</th>\n",
       "      <td>...</td>\n",
       "      <td>...</td>\n",
       "    </tr>\n",
       "    <tr>\n",
       "      <th>60</th>\n",
       "      <td>6.4</td>\n",
       "      <td>2</td>\n",
       "    </tr>\n",
       "    <tr>\n",
       "      <th>61</th>\n",
       "      <td>6.7</td>\n",
       "      <td>1</td>\n",
       "    </tr>\n",
       "    <tr>\n",
       "      <th>62</th>\n",
       "      <td>6.8</td>\n",
       "      <td>1</td>\n",
       "    </tr>\n",
       "    <tr>\n",
       "      <th>63</th>\n",
       "      <td>7.3</td>\n",
       "      <td>1</td>\n",
       "    </tr>\n",
       "    <tr>\n",
       "      <th>64</th>\n",
       "      <td>20.0</td>\n",
       "      <td>2</td>\n",
       "    </tr>\n",
       "  </tbody>\n",
       "</table>\n",
       "<p>65 rows × 2 columns</p>\n",
       "</div>"
      ],
      "text/plain": [
       "    Engine volume  Counts\n",
       "0             0.0      10\n",
       "1             0.1       4\n",
       "2             0.2      10\n",
       "3             0.3       3\n",
       "4             0.4      23\n",
       "..            ...     ...\n",
       "60            6.4       2\n",
       "61            6.7       1\n",
       "62            6.8       1\n",
       "63            7.3       1\n",
       "64           20.0       2\n",
       "\n",
       "[65 rows x 2 columns]"
      ]
     },
     "execution_count": 242,
     "metadata": {},
     "output_type": "execute_result"
    }
   ],
   "source": [
    "Engine_vol = newdf.groupby(['Engine volume']).size().reset_index().rename(columns = {0:'Counts'})\n",
    "Engine_vol"
   ]
  },
  {
   "cell_type": "code",
   "execution_count": 243,
   "id": "ab276c55",
   "metadata": {
    "execution": {
     "iopub.execute_input": "2022-07-15T10:03:53.616236Z",
     "iopub.status.busy": "2022-07-15T10:03:53.615481Z",
     "iopub.status.idle": "2022-07-15T10:03:55.258650Z",
     "shell.execute_reply": "2022-07-15T10:03:55.257703Z"
    },
    "papermill": {
     "duration": 1.674006,
     "end_time": "2022-07-15T10:03:55.260981",
     "exception": false,
     "start_time": "2022-07-15T10:03:53.586975",
     "status": "completed"
    },
    "tags": []
   },
   "outputs": [
    {
     "data": {
      "image/png": "[encoded data removed]",
      "text/plain": [
       "<Figure size 1080x432 with 1 Axes>"
      ]
     },
     "metadata": {},
     "output_type": "display_data"
    }
   ],
   "source": [
    "plt.figure(figsize=(15,6))\n",
    "plt.title('Number of Cars Engine Volume')\n",
    "sns.set_style(\"darkgrid\")\n",
    "a1=sns.barplot(Engine_vol['Engine volume'],Engine_vol['Counts']);\n",
    "a1.set_xticklabels(Engine_vol['Engine volume'] ,rotation=90)\n",
    "a1.set(xlabel='Engine Volume', ylabel='Number of Cars')\n",
    "plt.show()"
   ]
  },
  {
   "cell_type": "markdown",
   "id": "d56c4d7d",
   "metadata": {
    "papermill": {
     "duration": 0.027959,
     "end_time": "2022-07-15T10:03:55.317850",
     "exception": false,
     "start_time": "2022-07-15T10:03:55.289891",
     "status": "completed"
    },
    "tags": []
   },
   "source": [
    "## 8.Analysis of Cylinder"
   ]
  },
  {
   "cell_type": "code",
   "execution_count": 244,
   "id": "a2611d00",
   "metadata": {
    "execution": {
     "iopub.execute_input": "2022-07-15T10:03:55.447710Z",
     "iopub.status.busy": "2022-07-15T10:03:55.446653Z",
     "iopub.status.idle": "2022-07-15T10:03:55.794109Z",
     "shell.execute_reply": "2022-07-15T10:03:55.792930Z"
    },
    "papermill": {
     "duration": 0.379662,
     "end_time": "2022-07-15T10:03:55.796745",
     "exception": false,
     "start_time": "2022-07-15T10:03:55.417083",
     "status": "completed"
    },
    "scrolled": false,
    "tags": []
   },
   "outputs": [
    {
     "data": {
      "image/png": "[encoded data removed]",
      "text/plain": [
       "<Figure size 1080x432 with 1 Axes>"
      ]
     },
     "metadata": {},
     "output_type": "display_data"
    }
   ],
   "source": [
    "plt.figure(figsize=(15,6))\n",
    "plt.title('Number of Cars Cylinders')\n",
    "sns.set_style(\"darkgrid\")\n",
    "a1=sns.countplot(df['Cylinders']);\n",
    "plt.show()"
   ]
  },
  {
   "cell_type": "markdown",
   "id": "823c0d4d",
   "metadata": {
    "papermill": {
     "duration": 0.028517,
     "end_time": "2022-07-15T10:03:55.853628",
     "exception": false,
     "start_time": "2022-07-15T10:03:55.825111",
     "status": "completed"
    },
    "tags": []
   },
   "source": [
    "##  9.Analysis of Mileage"
   ]
  },
  {
   "cell_type": "code",
   "execution_count": 245,
   "id": "3b886714",
   "metadata": {
    "execution": {
     "iopub.execute_input": "2022-07-15T10:03:55.915476Z",
     "iopub.status.busy": "2022-07-15T10:03:55.914543Z",
     "iopub.status.idle": "2022-07-15T10:03:55.924865Z",
     "shell.execute_reply": "2022-07-15T10:03:55.923976Z"
    },
    "papermill": {
     "duration": 0.044469,
     "end_time": "2022-07-15T10:03:55.927215",
     "exception": false,
     "start_time": "2022-07-15T10:03:55.882746",
     "status": "completed"
    },
    "tags": []
   },
   "outputs": [
    {
     "data": {
      "text/plain": [
       "0         712\n",
       "200000    179\n",
       "150000    157\n",
       "160000    120\n",
       "180000    116\n",
       "100000    102\n",
       "170000     99\n",
       "120000     98\n",
       "1000       98\n",
       "130000     83\n",
       "111111     80\n",
       "140000     71\n",
       "190000     68\n",
       "300000     67\n",
       "250000     67\n",
       "145000     63\n",
       "110000     61\n",
       "80000      60\n",
       "220000     59\n",
       "240000     59\n",
       "90000      58\n",
       "135000     55\n",
       "112000     53\n",
       "125000     52\n",
       "95000      50\n",
       "Name: Mileage, dtype: int64"
      ]
     },
     "execution_count": 245,
     "metadata": {},
     "output_type": "execute_result"
    }
   ],
   "source": [
    "mileage =  newdf.Mileage.value_counts().head(25)\n",
    "mileage"
   ]
  },
  {
   "cell_type": "code",
   "execution_count": 246,
   "id": "39d9f382",
   "metadata": {
    "execution": {
     "iopub.execute_input": "2022-07-15T10:03:55.989251Z",
     "iopub.status.busy": "2022-07-15T10:03:55.988553Z",
     "iopub.status.idle": "2022-07-15T10:03:56.465256Z",
     "shell.execute_reply": "2022-07-15T10:03:56.464118Z"
    },
    "papermill": {
     "duration": 0.510986,
     "end_time": "2022-07-15T10:03:56.467913",
     "exception": false,
     "start_time": "2022-07-15T10:03:55.956927",
     "status": "completed"
    },
    "tags": []
   },
   "outputs": [
    {
     "data": {
      "image/png": "[encoded data removed]",
      "text/plain": [
       "<Figure size 1080x432 with 1 Axes>"
      ]
     },
     "metadata": {},
     "output_type": "display_data"
    }
   ],
   "source": [
    "plt.figure(figsize=(15,6))\n",
    "plt.title('Number of Cars Mileage(in KM)')\n",
    "sns.set_style(\"darkgrid\")\n",
    "a1=sns.barplot(mileage.index,mileage);\n",
    "a1.set_xticklabels(mileage.index ,rotation=90)\n",
    "a1.set(xlabel='Mileage', ylabel='Number of Cars')\n",
    "plt.show()"
   ]
  },
  {
   "cell_type": "markdown",
   "id": "bd19b228",
   "metadata": {
    "papermill": {
     "duration": 0.02949,
     "end_time": "2022-07-15T10:03:56.527232",
     "exception": false,
     "start_time": "2022-07-15T10:03:56.497742",
     "status": "completed"
    },
    "tags": []
   },
   "source": [
    "It is observed that most of the cars are on a 0 mileage."
   ]
  },
  {
   "cell_type": "markdown",
   "id": "90e44305",
   "metadata": {
    "papermill": {
     "duration": 0.029237,
     "end_time": "2022-07-15T10:03:56.586940",
     "exception": false,
     "start_time": "2022-07-15T10:03:56.557703",
     "status": "completed"
    },
    "tags": []
   },
   "source": [
    "## 10. Analysis of Airbag"
   ]
  },
  {
   "cell_type": "code",
   "execution_count": 247,
   "id": "d5d3fd29",
   "metadata": {
    "execution": {
     "iopub.execute_input": "2022-07-15T10:03:56.722711Z",
     "iopub.status.busy": "2022-07-15T10:03:56.721741Z",
     "iopub.status.idle": "2022-07-15T10:03:57.101839Z",
     "shell.execute_reply": "2022-07-15T10:03:57.100801Z"
    },
    "papermill": {
     "duration": 0.414578,
     "end_time": "2022-07-15T10:03:57.104683",
     "exception": false,
     "start_time": "2022-07-15T10:03:56.690105",
     "status": "completed"
    },
    "tags": []
   },
   "outputs": [
    {
     "data": {
      "image/png": "[encoded data removed]",
      "text/plain": [
       "<Figure size 1080x432 with 1 Axes>"
      ]
     },
     "metadata": {},
     "output_type": "display_data"
    }
   ],
   "source": [
    "plt.figure(figsize=(15,6))\n",
    "plt.title('Number of Cars with Airbags')\n",
    "sns.set_style(\"darkgrid\")\n",
    "sns.countplot(df['Airbags'])\n",
    "plt.show()"
   ]
  },
  {
   "cell_type": "markdown",
   "id": "1d04fe95",
   "metadata": {
    "papermill": {
     "duration": 0.030381,
     "end_time": "2022-07-15T10:03:57.165406",
     "exception": false,
     "start_time": "2022-07-15T10:03:57.135025",
     "status": "completed"
    },
    "tags": []
   },
   "source": [
    "## 11. Factor Affecting Price"
   ]
  },
  {
   "cell_type": "code",
   "execution_count": 248,
   "id": "79606f97",
   "metadata": {
    "execution": {
     "iopub.execute_input": "2022-07-15T10:03:59.419859Z",
     "iopub.status.busy": "2022-07-15T10:03:59.418657Z",
     "iopub.status.idle": "2022-07-15T10:04:00.507309Z",
     "shell.execute_reply": "2022-07-15T10:04:00.506092Z"
    },
    "papermill": {
     "duration": 1.125105,
     "end_time": "2022-07-15T10:04:00.510488",
     "exception": false,
     "start_time": "2022-07-15T10:03:59.385383",
     "status": "completed"
    },
    "scrolled": false,
    "tags": []
   },
   "outputs": [
    {
     "data": {
      "image/png": "[encoded data removed]",
      "text/plain": [
       "<Figure size 1800x720 with 3 Axes>"
      ]
     },
     "metadata": {},
     "output_type": "display_data"
    }
   ],
   "source": [
    "plt.figure(figsize=(25,10))\n",
    "plt.subplot(131)\n",
    "plt.title('Category vs Price',fontsize = 30)\n",
    "plt.ylabel(\"Price\")\n",
    "newdf.groupby('Category')['Price'].mean().plot.bar()\n",
    "plt.subplot(132)\n",
    "plt.title('Cylinders vs Price',fontsize = 30)\n",
    "plt.ylabel(\"Price\")\n",
    "newdf.groupby('Cylinders')['Price'].mean().plot.bar()\n",
    "plt.subplot(133)\n",
    "plt.title('Color vs Price',fontsize = 30)\n",
    "plt.ylabel(\"Price\")\n",
    "newdf.groupby('Color')['Price'].mean().plot.bar()\n",
    "plt.show()"
   ]
  },
  {
   "cell_type": "code",
   "execution_count": 249,
   "id": "aa28870d",
   "metadata": {
    "execution": {
     "iopub.execute_input": "2022-07-15T10:04:00.579798Z",
     "iopub.status.busy": "2022-07-15T10:04:00.579410Z",
     "iopub.status.idle": "2022-07-15T10:04:01.211936Z",
     "shell.execute_reply": "2022-07-15T10:04:01.210622Z"
    },
    "papermill": {
     "duration": 0.671073,
     "end_time": "2022-07-15T10:04:01.215258",
     "exception": false,
     "start_time": "2022-07-15T10:04:00.544185",
     "status": "completed"
    },
    "scrolled": false,
    "tags": []
   },
   "outputs": [
    {
     "data": {
      "image/png": "[encoded data removed]",
      "text/plain": [
       "<Figure size 1800x720 with 3 Axes>"
      ]
     },
     "metadata": {},
     "output_type": "display_data"
    }
   ],
   "source": [
    "plt.figure(figsize=(25,10))\n",
    "plt.subplot(131)\n",
    "plt.title('No of Doors vs Price',fontsize = 30)\n",
    "plt.ylabel(\"Price\")\n",
    "newdf.groupby('Doors')['Price'].mean().plot.bar()\n",
    "plt.subplot(132)\n",
    "plt.title('Wheels vs Price',fontsize = 30)\n",
    "plt.ylabel(\"Price\")\n",
    "newdf.groupby('Wheel')['Price'].mean().plot.bar()\n",
    "plt.subplot(133)\n",
    "plt.title('Airbags vs Price',fontsize = 30)\n",
    "plt.ylabel(\"Price\")\n",
    "newdf.groupby('Airbags')['Price'].mean().plot.bar()\n",
    "plt.show()"
   ]
  },
  {
   "cell_type": "code",
   "execution_count": null,
   "id": "3e562251",
   "metadata": {},
   "outputs": [],
   "source": []
  },
  {
   "cell_type": "code",
   "execution_count": null,
   "id": "71fcded8",
   "metadata": {},
   "outputs": [],
   "source": []
  },
  {
   "cell_type": "code",
   "execution_count": null,
   "id": "c4ccd36f",
   "metadata": {},
   "outputs": [],
   "source": []
  }
 ],
 "metadata": {
  "kernelspec": {
   "display_name": "Python 3 (ipykernel)",
   "language": "python",
   "name": "python3"
  },
  "language_info": {
   "codemirror_mode": {
    "name": "ipython",
    "version": 3
   },
   "file_extension": ".py",
   "mimetype": "text/x-python",
   "name": "python",
   "nbconvert_exporter": "python",
   "pygments_lexer": "ipython3",
   "version": "3.10.4"
  },
  "papermill": {
   "default_parameters": {},
   "duration": 31.575908,
   "end_time": "2022-07-15T10:04:04.865333",
   "environment_variables": {},
   "exception": null,
   "input_path": "__notebook__.ipynb",
   "output_path": "__notebook__.ipynb",
   "parameters": {},
   "start_time": "2022-07-15T10:03:33.289425",
   "version": "2.3.4"
  }
 },
 "nbformat": 4,
 "nbformat_minor": 5
}
