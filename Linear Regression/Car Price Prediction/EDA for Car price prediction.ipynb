{
 "cells": [
  {
   "cell_type": "code",
   "execution_count": 2,
   "metadata": {
    "executionInfo": {
     "elapsed": 909,
     "status": "ok",
     "timestamp": 1668404238217,
     "user": {
      "displayName": "Priyanka Awaje",
      "userId": "04948741848315503765"
     },
     "user_tz": -330
    },
    "id": "qjf4SEYakQa6"
   },
   "outputs": [],
   "source": [
    "#Importing requied packages\n",
    "import numpy as np\n",
    "import pandas as pd\n",
    "import matplotlib.pyplot as plt\n",
    "import seaborn as sns\n",
    "import warnings\n",
    "warnings.filterwarnings(\"ignore\")\n",
    "%matplotlib inline"
   ]
  },
  {
   "cell_type": "code",
   "execution_count": 82,
   "metadata": {
    "executionInfo": {
     "elapsed": 758,
     "status": "ok",
     "timestamp": 1668404238971,
     "user": {
      "displayName": "Priyanka Awaje",
      "userId": "04948741848315503765"
     },
     "user_tz": -330
    },
    "id": "eDUE7wdal9p0"
   },
   "outputs": [
    {
     "data": {
      "text/html": [
       "<div>\n",
       "<style scoped>\n",
       "    .dataframe tbody tr th:only-of-type {\n",
       "        vertical-align: middle;\n",
       "    }\n",
       "\n",
       "    .dataframe tbody tr th {\n",
       "        vertical-align: top;\n",
       "    }\n",
       "\n",
       "    .dataframe thead th {\n",
       "        text-align: right;\n",
       "    }\n",
       "</style>\n",
       "<table border=\"1\" class=\"dataframe\">\n",
       "  <thead>\n",
       "    <tr style=\"text-align: right;\">\n",
       "      <th></th>\n",
       "      <th>symboling</th>\n",
       "      <th>normalized-losses</th>\n",
       "      <th>make</th>\n",
       "      <th>fuel-type</th>\n",
       "      <th>body-style</th>\n",
       "      <th>drive-wheels</th>\n",
       "      <th>engine-location</th>\n",
       "      <th>width</th>\n",
       "      <th>height</th>\n",
       "      <th>engine-type</th>\n",
       "      <th>engine-size</th>\n",
       "      <th>horsepower</th>\n",
       "      <th>city-mpg</th>\n",
       "      <th>highway-mpg</th>\n",
       "      <th>price</th>\n",
       "    </tr>\n",
       "  </thead>\n",
       "  <tbody>\n",
       "    <tr>\n",
       "      <th>0</th>\n",
       "      <td>3</td>\n",
       "      <td>?</td>\n",
       "      <td>alfa-romero</td>\n",
       "      <td>gas</td>\n",
       "      <td>convertible</td>\n",
       "      <td>rwd</td>\n",
       "      <td>front</td>\n",
       "      <td>64.1</td>\n",
       "      <td>48.8</td>\n",
       "      <td>dohc</td>\n",
       "      <td>130</td>\n",
       "      <td>111</td>\n",
       "      <td>21</td>\n",
       "      <td>27</td>\n",
       "      <td>13495</td>\n",
       "    </tr>\n",
       "    <tr>\n",
       "      <th>1</th>\n",
       "      <td>3</td>\n",
       "      <td>?</td>\n",
       "      <td>alfa-romero</td>\n",
       "      <td>gas</td>\n",
       "      <td>convertible</td>\n",
       "      <td>rwd</td>\n",
       "      <td>front</td>\n",
       "      <td>64.1</td>\n",
       "      <td>48.8</td>\n",
       "      <td>dohc</td>\n",
       "      <td>130</td>\n",
       "      <td>111</td>\n",
       "      <td>21</td>\n",
       "      <td>27</td>\n",
       "      <td>16500</td>\n",
       "    </tr>\n",
       "    <tr>\n",
       "      <th>2</th>\n",
       "      <td>1</td>\n",
       "      <td>?</td>\n",
       "      <td>alfa-romero</td>\n",
       "      <td>gas</td>\n",
       "      <td>hatchback</td>\n",
       "      <td>rwd</td>\n",
       "      <td>front</td>\n",
       "      <td>65.5</td>\n",
       "      <td>52.4</td>\n",
       "      <td>ohcv</td>\n",
       "      <td>152</td>\n",
       "      <td>154</td>\n",
       "      <td>19</td>\n",
       "      <td>26</td>\n",
       "      <td>16500</td>\n",
       "    </tr>\n",
       "    <tr>\n",
       "      <th>3</th>\n",
       "      <td>2</td>\n",
       "      <td>164</td>\n",
       "      <td>audi</td>\n",
       "      <td>gas</td>\n",
       "      <td>sedan</td>\n",
       "      <td>fwd</td>\n",
       "      <td>front</td>\n",
       "      <td>66.2</td>\n",
       "      <td>54.3</td>\n",
       "      <td>ohc</td>\n",
       "      <td>109</td>\n",
       "      <td>102</td>\n",
       "      <td>24</td>\n",
       "      <td>30</td>\n",
       "      <td>13950</td>\n",
       "    </tr>\n",
       "    <tr>\n",
       "      <th>4</th>\n",
       "      <td>2</td>\n",
       "      <td>164</td>\n",
       "      <td>audi</td>\n",
       "      <td>gas</td>\n",
       "      <td>sedan</td>\n",
       "      <td>4wd</td>\n",
       "      <td>front</td>\n",
       "      <td>66.4</td>\n",
       "      <td>54.3</td>\n",
       "      <td>ohc</td>\n",
       "      <td>136</td>\n",
       "      <td>115</td>\n",
       "      <td>18</td>\n",
       "      <td>22</td>\n",
       "      <td>17450</td>\n",
       "    </tr>\n",
       "    <tr>\n",
       "      <th>...</th>\n",
       "      <td>...</td>\n",
       "      <td>...</td>\n",
       "      <td>...</td>\n",
       "      <td>...</td>\n",
       "      <td>...</td>\n",
       "      <td>...</td>\n",
       "      <td>...</td>\n",
       "      <td>...</td>\n",
       "      <td>...</td>\n",
       "      <td>...</td>\n",
       "      <td>...</td>\n",
       "      <td>...</td>\n",
       "      <td>...</td>\n",
       "      <td>...</td>\n",
       "      <td>...</td>\n",
       "    </tr>\n",
       "    <tr>\n",
       "      <th>200</th>\n",
       "      <td>-1</td>\n",
       "      <td>95</td>\n",
       "      <td>volvo</td>\n",
       "      <td>gas</td>\n",
       "      <td>sedan</td>\n",
       "      <td>rwd</td>\n",
       "      <td>front</td>\n",
       "      <td>68.9</td>\n",
       "      <td>55.5</td>\n",
       "      <td>ohc</td>\n",
       "      <td>141</td>\n",
       "      <td>114</td>\n",
       "      <td>23</td>\n",
       "      <td>28</td>\n",
       "      <td>16845</td>\n",
       "    </tr>\n",
       "    <tr>\n",
       "      <th>201</th>\n",
       "      <td>-1</td>\n",
       "      <td>95</td>\n",
       "      <td>volvo</td>\n",
       "      <td>gas</td>\n",
       "      <td>sedan</td>\n",
       "      <td>rwd</td>\n",
       "      <td>front</td>\n",
       "      <td>68.8</td>\n",
       "      <td>55.5</td>\n",
       "      <td>ohc</td>\n",
       "      <td>141</td>\n",
       "      <td>160</td>\n",
       "      <td>19</td>\n",
       "      <td>25</td>\n",
       "      <td>19045</td>\n",
       "    </tr>\n",
       "    <tr>\n",
       "      <th>202</th>\n",
       "      <td>-1</td>\n",
       "      <td>95</td>\n",
       "      <td>volvo</td>\n",
       "      <td>gas</td>\n",
       "      <td>sedan</td>\n",
       "      <td>rwd</td>\n",
       "      <td>front</td>\n",
       "      <td>68.9</td>\n",
       "      <td>55.5</td>\n",
       "      <td>ohcv</td>\n",
       "      <td>173</td>\n",
       "      <td>134</td>\n",
       "      <td>18</td>\n",
       "      <td>23</td>\n",
       "      <td>21485</td>\n",
       "    </tr>\n",
       "    <tr>\n",
       "      <th>203</th>\n",
       "      <td>-1</td>\n",
       "      <td>95</td>\n",
       "      <td>volvo</td>\n",
       "      <td>diesel</td>\n",
       "      <td>sedan</td>\n",
       "      <td>rwd</td>\n",
       "      <td>front</td>\n",
       "      <td>68.9</td>\n",
       "      <td>55.5</td>\n",
       "      <td>ohc</td>\n",
       "      <td>145</td>\n",
       "      <td>106</td>\n",
       "      <td>26</td>\n",
       "      <td>27</td>\n",
       "      <td>22470</td>\n",
       "    </tr>\n",
       "    <tr>\n",
       "      <th>204</th>\n",
       "      <td>-1</td>\n",
       "      <td>95</td>\n",
       "      <td>volvo</td>\n",
       "      <td>gas</td>\n",
       "      <td>sedan</td>\n",
       "      <td>rwd</td>\n",
       "      <td>front</td>\n",
       "      <td>68.9</td>\n",
       "      <td>55.5</td>\n",
       "      <td>ohc</td>\n",
       "      <td>141</td>\n",
       "      <td>114</td>\n",
       "      <td>19</td>\n",
       "      <td>25</td>\n",
       "      <td>22625</td>\n",
       "    </tr>\n",
       "  </tbody>\n",
       "</table>\n",
       "<p>205 rows × 15 columns</p>\n",
       "</div>"
      ],
      "text/plain": [
       "     symboling normalized-losses         make fuel-type   body-style  \\\n",
       "0            3                 ?  alfa-romero       gas  convertible   \n",
       "1            3                 ?  alfa-romero       gas  convertible   \n",
       "2            1                 ?  alfa-romero       gas    hatchback   \n",
       "3            2               164         audi       gas        sedan   \n",
       "4            2               164         audi       gas        sedan   \n",
       "..         ...               ...          ...       ...          ...   \n",
       "200         -1                95        volvo       gas        sedan   \n",
       "201         -1                95        volvo       gas        sedan   \n",
       "202         -1                95        volvo       gas        sedan   \n",
       "203         -1                95        volvo    diesel        sedan   \n",
       "204         -1                95        volvo       gas        sedan   \n",
       "\n",
       "    drive-wheels engine-location  width  height engine-type  engine-size  \\\n",
       "0            rwd           front   64.1    48.8        dohc          130   \n",
       "1            rwd           front   64.1    48.8        dohc          130   \n",
       "2            rwd           front   65.5    52.4        ohcv          152   \n",
       "3            fwd           front   66.2    54.3         ohc          109   \n",
       "4            4wd           front   66.4    54.3         ohc          136   \n",
       "..           ...             ...    ...     ...         ...          ...   \n",
       "200          rwd           front   68.9    55.5         ohc          141   \n",
       "201          rwd           front   68.8    55.5         ohc          141   \n",
       "202          rwd           front   68.9    55.5        ohcv          173   \n",
       "203          rwd           front   68.9    55.5         ohc          145   \n",
       "204          rwd           front   68.9    55.5         ohc          141   \n",
       "\n",
       "    horsepower  city-mpg  highway-mpg  price  \n",
       "0          111        21           27  13495  \n",
       "1          111        21           27  16500  \n",
       "2          154        19           26  16500  \n",
       "3          102        24           30  13950  \n",
       "4          115        18           22  17450  \n",
       "..         ...       ...          ...    ...  \n",
       "200        114        23           28  16845  \n",
       "201        160        19           25  19045  \n",
       "202        134        18           23  21485  \n",
       "203        106        26           27  22470  \n",
       "204        114        19           25  22625  \n",
       "\n",
       "[205 rows x 15 columns]"
      ]
     },
     "execution_count": 82,
     "metadata": {},
     "output_type": "execute_result"
    }
   ],
   "source": [
    "#Reading Csv file\n",
    "df=pd.read_csv(\"cars.csv\")\n",
    "df"
   ]
  },
  {
   "cell_type": "code",
   "execution_count": 4,
   "metadata": {
    "colab": {
     "base_uri": "https://localhost:8080/"
    },
    "executionInfo": {
     "elapsed": 39,
     "status": "ok",
     "timestamp": 1668404238975,
     "user": {
      "displayName": "Priyanka Awaje",
      "userId": "04948741848315503765"
     },
     "user_tz": -330
    },
    "id": "PFgq__RMmBeZ",
    "outputId": "7bfd7e18-c177-4c93-f8ee-5967240f3a67"
   },
   "outputs": [
    {
     "name": "stdout",
     "output_type": "stream",
     "text": [
      "<class 'pandas.core.frame.DataFrame'>\n",
      "RangeIndex: 205 entries, 0 to 204\n",
      "Data columns (total 15 columns):\n",
      " #   Column             Non-Null Count  Dtype  \n",
      "---  ------             --------------  -----  \n",
      " 0   symboling          205 non-null    int64  \n",
      " 1   normalized-losses  205 non-null    object \n",
      " 2   make               205 non-null    object \n",
      " 3   fuel-type          205 non-null    object \n",
      " 4   body-style         205 non-null    object \n",
      " 5   drive-wheels       205 non-null    object \n",
      " 6   engine-location    205 non-null    object \n",
      " 7   width              205 non-null    float64\n",
      " 8   height             205 non-null    float64\n",
      " 9   engine-type        205 non-null    object \n",
      " 10  engine-size        205 non-null    int64  \n",
      " 11  horsepower         205 non-null    object \n",
      " 12  city-mpg           205 non-null    int64  \n",
      " 13  highway-mpg        205 non-null    int64  \n",
      " 14  price              205 non-null    int64  \n",
      "dtypes: float64(2), int64(5), object(8)\n",
      "memory usage: 24.1+ KB\n"
     ]
    }
   ],
   "source": [
    "#basic Information of data\n",
    "df.info()"
   ]
  },
  {
   "cell_type": "markdown",
   "metadata": {
    "id": "rzqdfFRYpaGA"
   },
   "source": [
    "# Handling Missing Values\n"
   ]
  },
  {
   "cell_type": "code",
   "execution_count": 5,
   "metadata": {
    "colab": {
     "base_uri": "https://localhost:8080/"
    },
    "executionInfo": {
     "elapsed": 28,
     "status": "ok",
     "timestamp": 1668404238976,
     "user": {
      "displayName": "Priyanka Awaje",
      "userId": "04948741848315503765"
     },
     "user_tz": -330
    },
    "id": "RCxDwrFXpXQS",
    "outputId": "642e011c-50b9-4bcd-b381-253694fe5230"
   },
   "outputs": [
    {
     "data": {
      "text/plain": [
       "symboling            0\n",
       "normalized-losses    0\n",
       "make                 0\n",
       "fuel-type            0\n",
       "body-style           0\n",
       "drive-wheels         0\n",
       "engine-location      0\n",
       "width                0\n",
       "height               0\n",
       "engine-type          0\n",
       "engine-size          0\n",
       "horsepower           0\n",
       "city-mpg             0\n",
       "highway-mpg          0\n",
       "price                0\n",
       "dtype: int64"
      ]
     },
     "execution_count": 5,
     "metadata": {},
     "output_type": "execute_result"
    }
   ],
   "source": [
    "df.isnull().sum()"
   ]
  },
  {
   "cell_type": "markdown",
   "metadata": {
    "id": "CPwuJHbkpj0s"
   },
   "source": [
    "# Univariate Analysis"
   ]
  },
  {
   "cell_type": "code",
   "execution_count": 6,
   "metadata": {
    "colab": {
     "base_uri": "https://localhost:8080/"
    },
    "executionInfo": {
     "elapsed": 22,
     "status": "ok",
     "timestamp": 1668404238977,
     "user": {
      "displayName": "Priyanka Awaje",
      "userId": "04948741848315503765"
     },
     "user_tz": -330
    },
    "id": "6VrYmInppoeU",
    "outputId": "eb4cbf63-34e9-4cb3-80d2-d5029cf458d0"
   },
   "outputs": [
    {
     "data": {
      "text/plain": [
       "Index(['symboling', 'width', 'height', 'engine-size', 'city-mpg',\n",
       "       'highway-mpg', 'price'],\n",
       "      dtype='object')"
      ]
     },
     "execution_count": 6,
     "metadata": {},
     "output_type": "execute_result"
    }
   ],
   "source": [
    "num_col=df.select_dtypes(include=['int','float']).columns\n",
    "num_col"
   ]
  },
  {
   "cell_type": "code",
   "execution_count": 7,
   "metadata": {
    "colab": {
     "base_uri": "https://localhost:8080/"
    },
    "executionInfo": {
     "elapsed": 18,
     "status": "ok",
     "timestamp": 1668404238978,
     "user": {
      "displayName": "Priyanka Awaje",
      "userId": "04948741848315503765"
     },
     "user_tz": -330
    },
    "id": "1Q-LRo1Opyxk",
    "outputId": "846c1416-fd68-4cff-c20f-9a0b1f9f622d"
   },
   "outputs": [
    {
     "data": {
      "text/plain": [
       "Index(['normalized-losses', 'make', 'fuel-type', 'body-style', 'drive-wheels',\n",
       "       'engine-location', 'engine-type', 'horsepower'],\n",
       "      dtype='object')"
      ]
     },
     "execution_count": 7,
     "metadata": {},
     "output_type": "execute_result"
    }
   ],
   "source": [
    "cat_col=df.select_dtypes(include=['object']).columns\n",
    "cat_col"
   ]
  },
  {
   "cell_type": "code",
   "execution_count": 8,
   "metadata": {
    "colab": {
     "base_uri": "https://localhost:8080/",
     "height": 877
    },
    "executionInfo": {
     "elapsed": 2214,
     "status": "ok",
     "timestamp": 1668404241179,
     "user": {
      "displayName": "Priyanka Awaje",
      "userId": "04948741848315503765"
     },
     "user_tz": -330
    },
    "id": "L-ZXlAkxqDgC",
    "outputId": "6ec59599-33da-4ae4-c423-99da2c8867fb"
   },
   "outputs": [
    {
     "data": {
      "image/png": "[encoded data removed]",
      "text/plain": [
       "<Figure size 1080x1080 with 7 Axes>"
      ]
     },
     "metadata": {
      "needs_background": "light"
     },
     "output_type": "display_data"
    }
   ],
   "source": [
    "# Analysis of Numerical columns\n",
    "#sns.set()\n",
    "plt.figure(figsize=(15,15))\n",
    "count=1\n",
    "for i in num_col:\n",
    "  plt.subplot(2,4,count)\n",
    "  sns.distplot(df[i])\n",
    "  count+=1\n",
    "plt.show()"
   ]
  },
  {
   "cell_type": "code",
   "execution_count": 9,
   "metadata": {
    "colab": {
     "base_uri": "https://localhost:8080/",
     "height": 300
    },
    "executionInfo": {
     "elapsed": 11,
     "status": "ok",
     "timestamp": 1668404241180,
     "user": {
      "displayName": "Priyanka Awaje",
      "userId": "04948741848315503765"
     },
     "user_tz": -330
    },
    "id": "zcQYgLHYnbfw",
    "outputId": "b1651420-cfcc-4529-fc90-840fca07e11c"
   },
   "outputs": [
    {
     "data": {
      "text/html": [
       "<div>\n",
       "<style scoped>\n",
       "    .dataframe tbody tr th:only-of-type {\n",
       "        vertical-align: middle;\n",
       "    }\n",
       "\n",
       "    .dataframe tbody tr th {\n",
       "        vertical-align: top;\n",
       "    }\n",
       "\n",
       "    .dataframe thead th {\n",
       "        text-align: right;\n",
       "    }\n",
       "</style>\n",
       "<table border=\"1\" class=\"dataframe\">\n",
       "  <thead>\n",
       "    <tr style=\"text-align: right;\">\n",
       "      <th></th>\n",
       "      <th>symboling</th>\n",
       "      <th>width</th>\n",
       "      <th>height</th>\n",
       "      <th>engine-size</th>\n",
       "      <th>city-mpg</th>\n",
       "      <th>highway-mpg</th>\n",
       "      <th>price</th>\n",
       "    </tr>\n",
       "  </thead>\n",
       "  <tbody>\n",
       "    <tr>\n",
       "      <th>count</th>\n",
       "      <td>205.000000</td>\n",
       "      <td>205.000000</td>\n",
       "      <td>205.000000</td>\n",
       "      <td>205.000000</td>\n",
       "      <td>205.000000</td>\n",
       "      <td>205.000000</td>\n",
       "      <td>205.000000</td>\n",
       "    </tr>\n",
       "    <tr>\n",
       "      <th>mean</th>\n",
       "      <td>0.834146</td>\n",
       "      <td>65.907805</td>\n",
       "      <td>53.724878</td>\n",
       "      <td>126.907317</td>\n",
       "      <td>25.219512</td>\n",
       "      <td>30.751220</td>\n",
       "      <td>13227.478049</td>\n",
       "    </tr>\n",
       "    <tr>\n",
       "      <th>std</th>\n",
       "      <td>1.245307</td>\n",
       "      <td>2.145204</td>\n",
       "      <td>2.443522</td>\n",
       "      <td>41.642693</td>\n",
       "      <td>6.542142</td>\n",
       "      <td>6.886443</td>\n",
       "      <td>7902.651615</td>\n",
       "    </tr>\n",
       "    <tr>\n",
       "      <th>min</th>\n",
       "      <td>-2.000000</td>\n",
       "      <td>60.300000</td>\n",
       "      <td>47.800000</td>\n",
       "      <td>61.000000</td>\n",
       "      <td>13.000000</td>\n",
       "      <td>16.000000</td>\n",
       "      <td>5118.000000</td>\n",
       "    </tr>\n",
       "    <tr>\n",
       "      <th>25%</th>\n",
       "      <td>0.000000</td>\n",
       "      <td>64.100000</td>\n",
       "      <td>52.000000</td>\n",
       "      <td>97.000000</td>\n",
       "      <td>19.000000</td>\n",
       "      <td>25.000000</td>\n",
       "      <td>7788.000000</td>\n",
       "    </tr>\n",
       "    <tr>\n",
       "      <th>50%</th>\n",
       "      <td>1.000000</td>\n",
       "      <td>65.500000</td>\n",
       "      <td>54.100000</td>\n",
       "      <td>120.000000</td>\n",
       "      <td>24.000000</td>\n",
       "      <td>30.000000</td>\n",
       "      <td>10345.000000</td>\n",
       "    </tr>\n",
       "    <tr>\n",
       "      <th>75%</th>\n",
       "      <td>2.000000</td>\n",
       "      <td>66.900000</td>\n",
       "      <td>55.500000</td>\n",
       "      <td>141.000000</td>\n",
       "      <td>30.000000</td>\n",
       "      <td>34.000000</td>\n",
       "      <td>16500.000000</td>\n",
       "    </tr>\n",
       "    <tr>\n",
       "      <th>max</th>\n",
       "      <td>3.000000</td>\n",
       "      <td>72.300000</td>\n",
       "      <td>59.800000</td>\n",
       "      <td>326.000000</td>\n",
       "      <td>49.000000</td>\n",
       "      <td>54.000000</td>\n",
       "      <td>45400.000000</td>\n",
       "    </tr>\n",
       "  </tbody>\n",
       "</table>\n",
       "</div>"
      ],
      "text/plain": [
       "        symboling       width      height  engine-size    city-mpg  \\\n",
       "count  205.000000  205.000000  205.000000   205.000000  205.000000   \n",
       "mean     0.834146   65.907805   53.724878   126.907317   25.219512   \n",
       "std      1.245307    2.145204    2.443522    41.642693    6.542142   \n",
       "min     -2.000000   60.300000   47.800000    61.000000   13.000000   \n",
       "25%      0.000000   64.100000   52.000000    97.000000   19.000000   \n",
       "50%      1.000000   65.500000   54.100000   120.000000   24.000000   \n",
       "75%      2.000000   66.900000   55.500000   141.000000   30.000000   \n",
       "max      3.000000   72.300000   59.800000   326.000000   49.000000   \n",
       "\n",
       "       highway-mpg         price  \n",
       "count   205.000000    205.000000  \n",
       "mean     30.751220  13227.478049  \n",
       "std       6.886443   7902.651615  \n",
       "min      16.000000   5118.000000  \n",
       "25%      25.000000   7788.000000  \n",
       "50%      30.000000  10345.000000  \n",
       "75%      34.000000  16500.000000  \n",
       "max      54.000000  45400.000000  "
      ]
     },
     "execution_count": 9,
     "metadata": {},
     "output_type": "execute_result"
    }
   ],
   "source": [
    "#dataset contains 205 rows and 15 columns.\n",
    "df.describe()"
   ]
  },
  {
   "cell_type": "code",
   "execution_count": 10,
   "metadata": {
    "executionInfo": {
     "elapsed": 10,
     "status": "ok",
     "timestamp": 1668404241181,
     "user": {
      "displayName": "Priyanka Awaje",
      "userId": "04948741848315503765"
     },
     "user_tz": -330
    },
    "id": "DDPgimQ2pVX3"
   },
   "outputs": [],
   "source": [
    "#Symbling is slightly "
   ]
  },
  {
   "cell_type": "code",
   "execution_count": 11,
   "metadata": {
    "colab": {
     "base_uri": "https://localhost:8080/",
     "height": 1000
    },
    "executionInfo": {
     "elapsed": 2448,
     "status": "ok",
     "timestamp": 1668404243620,
     "user": {
      "displayName": "Priyanka Awaje",
      "userId": "04948741848315503765"
     },
     "user_tz": -330
    },
    "id": "K-ZuiC5CuoPo",
    "outputId": "d96558ca-2ba8-412a-d53e-3def3e5e2951"
   },
   "outputs": [
    {
     "data": {
      "image/png": "[encoded data removed]",
      "text/plain": [
       "<Figure size 1800x1800 with 8 Axes>"
      ]
     },
     "metadata": {
      "needs_background": "light"
     },
     "output_type": "display_data"
    }
   ],
   "source": [
    "# Analysis of Categorical columns\n",
    "#sns.set()\n",
    "plt.figure(figsize=(25,25))\n",
    "count=1\n",
    "for i in cat_col:\n",
    "  plt.subplot(2,4,count)\n",
    "  sns.countplot(df[i])\n",
    "  count+=1\n",
    "plt.show()"
   ]
  },
  {
   "cell_type": "code",
   "execution_count": null,
   "metadata": {
    "executionInfo": {
     "elapsed": 11,
     "status": "ok",
     "timestamp": 1668404243623,
     "user": {
      "displayName": "Priyanka Awaje",
      "userId": "04948741848315503765"
     },
     "user_tz": -330
    },
    "id": "m7GqQsdeuvUH"
   },
   "outputs": [],
   "source": []
  },
  {
   "cell_type": "markdown",
   "metadata": {
    "id": "VRzq8l2Hvaj-"
   },
   "source": [
    "# Bivariate Analysis"
   ]
  },
  {
   "cell_type": "code",
   "execution_count": 83,
   "metadata": {
    "colab": {
     "base_uri": "https://localhost:8080/",
     "height": 1000
    },
    "executionInfo": {
     "elapsed": 19743,
     "status": "ok",
     "timestamp": 1668404263357,
     "user": {
      "displayName": "Priyanka Awaje",
      "userId": "04948741848315503765"
     },
     "user_tz": -330
    },
    "id": "Gcgd4Nm0vhE9",
    "outputId": "6517ae84-d34c-44ed-9ee2-a89d6018978a"
   },
   "outputs": [
    {
     "data": {
      "image/png": "[encoded data removed]",
      "text/plain": [
       "<Figure size 1800x1800 with 7 Axes>"
      ]
     },
     "metadata": {
      "needs_background": "light"
     },
     "output_type": "display_data"
    }
   ],
   "source": [
    "# Analysis of Categorical columns\n",
    "#sns.set()\n",
    "plt.figure(figsize=(25,25))\n",
    "count=1\n",
    "for i in num_col:\n",
    "  plt.subplot(7,1,count)\n",
    "  sns.barplot(data=df,y='price',x=i)\n",
    "  count+=1\n",
    "plt.show()"
   ]
  },
  {
   "cell_type": "markdown",
   "metadata": {
    "id": "qzoNA925wGgi"
   },
   "source": [
    "# Outlier Removal "
   ]
  },
  {
   "cell_type": "code",
   "execution_count": 13,
   "metadata": {
    "colab": {
     "base_uri": "https://localhost:8080/",
     "height": 279
    },
    "executionInfo": {
     "elapsed": 68,
     "status": "ok",
     "timestamp": 1668404263362,
     "user": {
      "displayName": "Priyanka Awaje",
      "userId": "04948741848315503765"
     },
     "user_tz": -330
    },
    "id": "g7moGwv_vzGA",
    "outputId": "cf7e91c4-bf8d-450b-d9ff-84293b58bdd3"
   },
   "outputs": [
    {
     "data": {
      "image/png": "[encoded data removed]",
      "text/plain": [
       "<Figure size 432x288 with 1 Axes>"
      ]
     },
     "metadata": {
      "needs_background": "light"
     },
     "output_type": "display_data"
    }
   ],
   "source": [
    "sns.distplot(df['price'])\n",
    "plt.show()"
   ]
  },
  {
   "cell_type": "code",
   "execution_count": 14,
   "metadata": {
    "colab": {
     "base_uri": "https://localhost:8080/"
    },
    "executionInfo": {
     "elapsed": 64,
     "status": "ok",
     "timestamp": 1668404263364,
     "user": {
      "displayName": "Priyanka Awaje",
      "userId": "04948741848315503765"
     },
     "user_tz": -330
    },
    "id": "ndgR62VbwWvF",
    "outputId": "5e4a1a5b-5df7-4cfb-a1c6-03f810062a2c"
   },
   "outputs": [
    {
     "data": {
      "text/plain": [
       "toyota           32\n",
       "nissan           18\n",
       "mazda            17\n",
       "mitsubishi       13\n",
       "honda            13\n",
       "volkswagen       12\n",
       "subaru           12\n",
       "peugot           11\n",
       "volvo            11\n",
       "dodge             9\n",
       "mercedes-benz     8\n",
       "bmw               8\n",
       "audi              7\n",
       "plymouth          7\n",
       "saab              6\n",
       "porsche           5\n",
       "isuzu             4\n",
       "jaguar            3\n",
       "chevrolet         3\n",
       "alfa-romero       3\n",
       "renault           2\n",
       "mercury           1\n",
       "Name: make, dtype: int64"
      ]
     },
     "execution_count": 14,
     "metadata": {},
     "output_type": "execute_result"
    }
   ],
   "source": [
    "df['make'].value_counts()"
   ]
  },
  {
   "cell_type": "code",
   "execution_count": 15,
   "metadata": {
    "colab": {
     "base_uri": "https://localhost:8080/",
     "height": 624
    },
    "executionInfo": {
     "elapsed": 1101,
     "status": "ok",
     "timestamp": 1668404264412,
     "user": {
      "displayName": "Priyanka Awaje",
      "userId": "04948741848315503765"
     },
     "user_tz": -330
    },
    "id": "zAfEDvOnwhcs",
    "outputId": "69e800e0-b9c5-4aa1-92dd-e32a6422cc40"
   },
   "outputs": [
    {
     "data": {
      "text/plain": [
       "<AxesSubplot:xlabel='price', ylabel='make'>"
      ]
     },
     "execution_count": 15,
     "metadata": {},
     "output_type": "execute_result"
    },
    {
     "data": {
      "image/png": "[encoded data removed]",
      "text/plain": [
       "<Figure size 720x720 with 1 Axes>"
      ]
     },
     "metadata": {
      "needs_background": "light"
     },
     "output_type": "display_data"
    }
   ],
   "source": [
    "plt.figure(figsize=(10,10))\n",
    "sns.boxplot(data=df,x='price',y='make')"
   ]
  },
  {
   "cell_type": "code",
   "execution_count": 16,
   "metadata": {
    "colab": {
     "base_uri": "https://localhost:8080/",
     "height": 267
    },
    "executionInfo": {
     "elapsed": 79,
     "status": "ok",
     "timestamp": 1668404264413,
     "user": {
      "displayName": "Priyanka Awaje",
      "userId": "04948741848315503765"
     },
     "user_tz": -330
    },
    "id": "AoIx8Curw0Og",
    "outputId": "a29bbda1-1ee2-4982-d86c-2ee7cfc22b41"
   },
   "outputs": [
    {
     "data": {
      "text/html": [
       "<div>\n",
       "<style scoped>\n",
       "    .dataframe tbody tr th:only-of-type {\n",
       "        vertical-align: middle;\n",
       "    }\n",
       "\n",
       "    .dataframe tbody tr th {\n",
       "        vertical-align: top;\n",
       "    }\n",
       "\n",
       "    .dataframe thead th {\n",
       "        text-align: right;\n",
       "    }\n",
       "</style>\n",
       "<table border=\"1\" class=\"dataframe\">\n",
       "  <thead>\n",
       "    <tr style=\"text-align: right;\">\n",
       "      <th></th>\n",
       "      <th>symboling</th>\n",
       "      <th>normalized-losses</th>\n",
       "      <th>make</th>\n",
       "      <th>fuel-type</th>\n",
       "      <th>body-style</th>\n",
       "      <th>drive-wheels</th>\n",
       "      <th>engine-location</th>\n",
       "      <th>width</th>\n",
       "      <th>height</th>\n",
       "      <th>engine-type</th>\n",
       "      <th>engine-size</th>\n",
       "      <th>horsepower</th>\n",
       "      <th>city-mpg</th>\n",
       "      <th>highway-mpg</th>\n",
       "      <th>price</th>\n",
       "    </tr>\n",
       "  </thead>\n",
       "  <tbody>\n",
       "    <tr>\n",
       "      <th>172</th>\n",
       "      <td>2</td>\n",
       "      <td>134</td>\n",
       "      <td>toyota</td>\n",
       "      <td>gas</td>\n",
       "      <td>convertible</td>\n",
       "      <td>rwd</td>\n",
       "      <td>front</td>\n",
       "      <td>65.6</td>\n",
       "      <td>53.0</td>\n",
       "      <td>ohc</td>\n",
       "      <td>146</td>\n",
       "      <td>116</td>\n",
       "      <td>24</td>\n",
       "      <td>30</td>\n",
       "      <td>17669</td>\n",
       "    </tr>\n",
       "    <tr>\n",
       "      <th>178</th>\n",
       "      <td>3</td>\n",
       "      <td>197</td>\n",
       "      <td>toyota</td>\n",
       "      <td>gas</td>\n",
       "      <td>hatchback</td>\n",
       "      <td>rwd</td>\n",
       "      <td>front</td>\n",
       "      <td>67.7</td>\n",
       "      <td>52.0</td>\n",
       "      <td>dohc</td>\n",
       "      <td>171</td>\n",
       "      <td>161</td>\n",
       "      <td>20</td>\n",
       "      <td>24</td>\n",
       "      <td>16558</td>\n",
       "    </tr>\n",
       "    <tr>\n",
       "      <th>179</th>\n",
       "      <td>3</td>\n",
       "      <td>197</td>\n",
       "      <td>toyota</td>\n",
       "      <td>gas</td>\n",
       "      <td>hatchback</td>\n",
       "      <td>rwd</td>\n",
       "      <td>front</td>\n",
       "      <td>67.7</td>\n",
       "      <td>52.0</td>\n",
       "      <td>dohc</td>\n",
       "      <td>171</td>\n",
       "      <td>161</td>\n",
       "      <td>19</td>\n",
       "      <td>24</td>\n",
       "      <td>15998</td>\n",
       "    </tr>\n",
       "    <tr>\n",
       "      <th>180</th>\n",
       "      <td>-1</td>\n",
       "      <td>90</td>\n",
       "      <td>toyota</td>\n",
       "      <td>gas</td>\n",
       "      <td>sedan</td>\n",
       "      <td>rwd</td>\n",
       "      <td>front</td>\n",
       "      <td>66.5</td>\n",
       "      <td>54.1</td>\n",
       "      <td>dohc</td>\n",
       "      <td>171</td>\n",
       "      <td>156</td>\n",
       "      <td>20</td>\n",
       "      <td>24</td>\n",
       "      <td>15690</td>\n",
       "    </tr>\n",
       "    <tr>\n",
       "      <th>181</th>\n",
       "      <td>-1</td>\n",
       "      <td>?</td>\n",
       "      <td>toyota</td>\n",
       "      <td>gas</td>\n",
       "      <td>wagon</td>\n",
       "      <td>rwd</td>\n",
       "      <td>front</td>\n",
       "      <td>66.5</td>\n",
       "      <td>54.1</td>\n",
       "      <td>dohc</td>\n",
       "      <td>161</td>\n",
       "      <td>156</td>\n",
       "      <td>19</td>\n",
       "      <td>24</td>\n",
       "      <td>15750</td>\n",
       "    </tr>\n",
       "  </tbody>\n",
       "</table>\n",
       "</div>"
      ],
      "text/plain": [
       "     symboling normalized-losses    make fuel-type   body-style drive-wheels  \\\n",
       "172          2               134  toyota       gas  convertible          rwd   \n",
       "178          3               197  toyota       gas    hatchback          rwd   \n",
       "179          3               197  toyota       gas    hatchback          rwd   \n",
       "180         -1                90  toyota       gas        sedan          rwd   \n",
       "181         -1                 ?  toyota       gas        wagon          rwd   \n",
       "\n",
       "    engine-location  width  height engine-type  engine-size horsepower  \\\n",
       "172           front   65.6    53.0         ohc          146        116   \n",
       "178           front   67.7    52.0        dohc          171        161   \n",
       "179           front   67.7    52.0        dohc          171        161   \n",
       "180           front   66.5    54.1        dohc          171        156   \n",
       "181           front   66.5    54.1        dohc          161        156   \n",
       "\n",
       "     city-mpg  highway-mpg  price  \n",
       "172        24           30  17669  \n",
       "178        20           24  16558  \n",
       "179        19           24  15998  \n",
       "180        20           24  15690  \n",
       "181        19           24  15750  "
      ]
     },
     "execution_count": 16,
     "metadata": {},
     "output_type": "execute_result"
    }
   ],
   "source": [
    "df.loc[(df['make']=='toyota')&(df['price']>15000)]"
   ]
  },
  {
   "cell_type": "code",
   "execution_count": 17,
   "metadata": {
    "executionInfo": {
     "elapsed": 81,
     "status": "ok",
     "timestamp": 1668404264418,
     "user": {
      "displayName": "Priyanka Awaje",
      "userId": "04948741848315503765"
     },
     "user_tz": -330
    },
    "id": "7H0yId8QxYND"
   },
   "outputs": [],
   "source": [
    "df.drop(index=[172,178,179,180,181],inplace=True)"
   ]
  },
  {
   "cell_type": "code",
   "execution_count": 18,
   "metadata": {
    "colab": {
     "base_uri": "https://localhost:8080/",
     "height": 142
    },
    "executionInfo": {
     "elapsed": 83,
     "status": "ok",
     "timestamp": 1668404264422,
     "user": {
      "displayName": "Priyanka Awaje",
      "userId": "04948741848315503765"
     },
     "user_tz": -330
    },
    "id": "8kQAuR0exqRH",
    "outputId": "8bcce089-feb4-4d1f-eb39-a21c4d897e6d"
   },
   "outputs": [
    {
     "data": {
      "text/html": [
       "<div>\n",
       "<style scoped>\n",
       "    .dataframe tbody tr th:only-of-type {\n",
       "        vertical-align: middle;\n",
       "    }\n",
       "\n",
       "    .dataframe tbody tr th {\n",
       "        vertical-align: top;\n",
       "    }\n",
       "\n",
       "    .dataframe thead th {\n",
       "        text-align: right;\n",
       "    }\n",
       "</style>\n",
       "<table border=\"1\" class=\"dataframe\">\n",
       "  <thead>\n",
       "    <tr style=\"text-align: right;\">\n",
       "      <th></th>\n",
       "      <th>symboling</th>\n",
       "      <th>normalized-losses</th>\n",
       "      <th>make</th>\n",
       "      <th>fuel-type</th>\n",
       "      <th>body-style</th>\n",
       "      <th>drive-wheels</th>\n",
       "      <th>engine-location</th>\n",
       "      <th>width</th>\n",
       "      <th>height</th>\n",
       "      <th>engine-type</th>\n",
       "      <th>engine-size</th>\n",
       "      <th>horsepower</th>\n",
       "      <th>city-mpg</th>\n",
       "      <th>highway-mpg</th>\n",
       "      <th>price</th>\n",
       "    </tr>\n",
       "  </thead>\n",
       "  <tbody>\n",
       "    <tr>\n",
       "      <th>124</th>\n",
       "      <td>3</td>\n",
       "      <td>?</td>\n",
       "      <td>plymouth</td>\n",
       "      <td>gas</td>\n",
       "      <td>hatchback</td>\n",
       "      <td>rwd</td>\n",
       "      <td>front</td>\n",
       "      <td>66.3</td>\n",
       "      <td>50.2</td>\n",
       "      <td>ohc</td>\n",
       "      <td>156</td>\n",
       "      <td>145</td>\n",
       "      <td>19</td>\n",
       "      <td>24</td>\n",
       "      <td>12764</td>\n",
       "    </tr>\n",
       "  </tbody>\n",
       "</table>\n",
       "</div>"
      ],
      "text/plain": [
       "     symboling normalized-losses      make fuel-type body-style drive-wheels  \\\n",
       "124          3                 ?  plymouth       gas  hatchback          rwd   \n",
       "\n",
       "    engine-location  width  height engine-type  engine-size horsepower  \\\n",
       "124           front   66.3    50.2         ohc          156        145   \n",
       "\n",
       "     city-mpg  highway-mpg  price  \n",
       "124        19           24  12764  "
      ]
     },
     "execution_count": 18,
     "metadata": {},
     "output_type": "execute_result"
    }
   ],
   "source": [
    "df.loc[(df['make']=='plymouth')&(df['price']>12000)]"
   ]
  },
  {
   "cell_type": "code",
   "execution_count": 19,
   "metadata": {
    "executionInfo": {
     "elapsed": 84,
     "status": "ok",
     "timestamp": 1668404264426,
     "user": {
      "displayName": "Priyanka Awaje",
      "userId": "04948741848315503765"
     },
     "user_tz": -330
    },
    "id": "0qBV49ZZx1Ik"
   },
   "outputs": [],
   "source": [
    "df.drop([124],inplace=True)"
   ]
  },
  {
   "cell_type": "code",
   "execution_count": 20,
   "metadata": {
    "colab": {
     "base_uri": "https://localhost:8080/",
     "height": 173
    },
    "executionInfo": {
     "elapsed": 83,
     "status": "ok",
     "timestamp": 1668404264426,
     "user": {
      "displayName": "Priyanka Awaje",
      "userId": "04948741848315503765"
     },
     "user_tz": -330
    },
    "id": "XZ3KQ-vtx-_F",
    "outputId": "c9a5ede4-ed54-48f1-b015-70ef533d895d"
   },
   "outputs": [
    {
     "data": {
      "text/html": [
       "<div>\n",
       "<style scoped>\n",
       "    .dataframe tbody tr th:only-of-type {\n",
       "        vertical-align: middle;\n",
       "    }\n",
       "\n",
       "    .dataframe tbody tr th {\n",
       "        vertical-align: top;\n",
       "    }\n",
       "\n",
       "    .dataframe thead th {\n",
       "        text-align: right;\n",
       "    }\n",
       "</style>\n",
       "<table border=\"1\" class=\"dataframe\">\n",
       "  <thead>\n",
       "    <tr style=\"text-align: right;\">\n",
       "      <th></th>\n",
       "      <th>symboling</th>\n",
       "      <th>normalized-losses</th>\n",
       "      <th>make</th>\n",
       "      <th>fuel-type</th>\n",
       "      <th>body-style</th>\n",
       "      <th>drive-wheels</th>\n",
       "      <th>engine-location</th>\n",
       "      <th>width</th>\n",
       "      <th>height</th>\n",
       "      <th>engine-type</th>\n",
       "      <th>engine-size</th>\n",
       "      <th>horsepower</th>\n",
       "      <th>city-mpg</th>\n",
       "      <th>highway-mpg</th>\n",
       "      <th>price</th>\n",
       "    </tr>\n",
       "  </thead>\n",
       "  <tbody>\n",
       "    <tr>\n",
       "      <th>83</th>\n",
       "      <td>3</td>\n",
       "      <td>?</td>\n",
       "      <td>mitsubishi</td>\n",
       "      <td>gas</td>\n",
       "      <td>hatchback</td>\n",
       "      <td>fwd</td>\n",
       "      <td>front</td>\n",
       "      <td>66.3</td>\n",
       "      <td>50.2</td>\n",
       "      <td>ohc</td>\n",
       "      <td>156</td>\n",
       "      <td>145</td>\n",
       "      <td>19</td>\n",
       "      <td>24</td>\n",
       "      <td>14869</td>\n",
       "    </tr>\n",
       "    <tr>\n",
       "      <th>84</th>\n",
       "      <td>3</td>\n",
       "      <td>?</td>\n",
       "      <td>mitsubishi</td>\n",
       "      <td>gas</td>\n",
       "      <td>hatchback</td>\n",
       "      <td>fwd</td>\n",
       "      <td>front</td>\n",
       "      <td>66.3</td>\n",
       "      <td>50.2</td>\n",
       "      <td>ohc</td>\n",
       "      <td>156</td>\n",
       "      <td>145</td>\n",
       "      <td>19</td>\n",
       "      <td>24</td>\n",
       "      <td>14489</td>\n",
       "    </tr>\n",
       "  </tbody>\n",
       "</table>\n",
       "</div>"
      ],
      "text/plain": [
       "    symboling normalized-losses        make fuel-type body-style drive-wheels  \\\n",
       "83          3                 ?  mitsubishi       gas  hatchback          fwd   \n",
       "84          3                 ?  mitsubishi       gas  hatchback          fwd   \n",
       "\n",
       "   engine-location  width  height engine-type  engine-size horsepower  \\\n",
       "83           front   66.3    50.2         ohc          156        145   \n",
       "84           front   66.3    50.2         ohc          156        145   \n",
       "\n",
       "    city-mpg  highway-mpg  price  \n",
       "83        19           24  14869  \n",
       "84        19           24  14489  "
      ]
     },
     "execution_count": 20,
     "metadata": {},
     "output_type": "execute_result"
    }
   ],
   "source": [
    "\n",
    "df.loc[(df['make']=='mitsubishi')&(df['price']>13000)]"
   ]
  },
  {
   "cell_type": "code",
   "execution_count": 21,
   "metadata": {
    "executionInfo": {
     "elapsed": 80,
     "status": "ok",
     "timestamp": 1668404264427,
     "user": {
      "displayName": "Priyanka Awaje",
      "userId": "04948741848315503765"
     },
     "user_tz": -330
    },
    "id": "seFjV_JNyjpy"
   },
   "outputs": [],
   "source": [
    "df.drop([83,84],inplace=True)"
   ]
  },
  {
   "cell_type": "code",
   "execution_count": 22,
   "metadata": {
    "colab": {
     "base_uri": "https://localhost:8080/",
     "height": 142
    },
    "executionInfo": {
     "elapsed": 79,
     "status": "ok",
     "timestamp": 1668404264428,
     "user": {
      "displayName": "Priyanka Awaje",
      "userId": "04948741848315503765"
     },
     "user_tz": -330
    },
    "id": "mGy7BqRDypvO",
    "outputId": "e782b093-43a8-4e70-e63d-7f65e5774d7a"
   },
   "outputs": [
    {
     "data": {
      "text/html": [
       "<div>\n",
       "<style scoped>\n",
       "    .dataframe tbody tr th:only-of-type {\n",
       "        vertical-align: middle;\n",
       "    }\n",
       "\n",
       "    .dataframe tbody tr th {\n",
       "        vertical-align: top;\n",
       "    }\n",
       "\n",
       "    .dataframe thead th {\n",
       "        text-align: right;\n",
       "    }\n",
       "</style>\n",
       "<table border=\"1\" class=\"dataframe\">\n",
       "  <thead>\n",
       "    <tr style=\"text-align: right;\">\n",
       "      <th></th>\n",
       "      <th>symboling</th>\n",
       "      <th>normalized-losses</th>\n",
       "      <th>make</th>\n",
       "      <th>fuel-type</th>\n",
       "      <th>body-style</th>\n",
       "      <th>drive-wheels</th>\n",
       "      <th>engine-location</th>\n",
       "      <th>width</th>\n",
       "      <th>height</th>\n",
       "      <th>engine-type</th>\n",
       "      <th>engine-size</th>\n",
       "      <th>horsepower</th>\n",
       "      <th>city-mpg</th>\n",
       "      <th>highway-mpg</th>\n",
       "      <th>price</th>\n",
       "    </tr>\n",
       "  </thead>\n",
       "  <tbody>\n",
       "    <tr>\n",
       "      <th>45</th>\n",
       "      <td>0</td>\n",
       "      <td>?</td>\n",
       "      <td>isuzu</td>\n",
       "      <td>gas</td>\n",
       "      <td>sedan</td>\n",
       "      <td>fwd</td>\n",
       "      <td>front</td>\n",
       "      <td>63.6</td>\n",
       "      <td>52.0</td>\n",
       "      <td>ohc</td>\n",
       "      <td>90</td>\n",
       "      <td>70</td>\n",
       "      <td>38</td>\n",
       "      <td>43</td>\n",
       "      <td>23000</td>\n",
       "    </tr>\n",
       "  </tbody>\n",
       "</table>\n",
       "</div>"
      ],
      "text/plain": [
       "    symboling normalized-losses   make fuel-type body-style drive-wheels  \\\n",
       "45          0                 ?  isuzu       gas      sedan          fwd   \n",
       "\n",
       "   engine-location  width  height engine-type  engine-size horsepower  \\\n",
       "45           front   63.6    52.0         ohc           90         70   \n",
       "\n",
       "    city-mpg  highway-mpg  price  \n",
       "45        38           43  23000  "
      ]
     },
     "execution_count": 22,
     "metadata": {},
     "output_type": "execute_result"
    }
   ],
   "source": [
    "df.loc[(df['make']=='isuzu')&(df['price']>22000)] "
   ]
  },
  {
   "cell_type": "code",
   "execution_count": 23,
   "metadata": {
    "executionInfo": {
     "elapsed": 77,
     "status": "ok",
     "timestamp": 1668404264429,
     "user": {
      "displayName": "Priyanka Awaje",
      "userId": "04948741848315503765"
     },
     "user_tz": -330
    },
    "id": "e70qfPpJy7O0"
   },
   "outputs": [],
   "source": [
    "df.drop([45],inplace=True)"
   ]
  },
  {
   "cell_type": "code",
   "execution_count": 24,
   "metadata": {
    "colab": {
     "base_uri": "https://localhost:8080/",
     "height": 142
    },
    "executionInfo": {
     "elapsed": 75,
     "status": "ok",
     "timestamp": 1668404264429,
     "user": {
      "displayName": "Priyanka Awaje",
      "userId": "04948741848315503765"
     },
     "user_tz": -330
    },
    "id": "4XKGMu4MzMij",
    "outputId": "fd884460-4fae-4b03-de83-0818febbb7b2"
   },
   "outputs": [
    {
     "data": {
      "text/html": [
       "<div>\n",
       "<style scoped>\n",
       "    .dataframe tbody tr th:only-of-type {\n",
       "        vertical-align: middle;\n",
       "    }\n",
       "\n",
       "    .dataframe tbody tr th {\n",
       "        vertical-align: top;\n",
       "    }\n",
       "\n",
       "    .dataframe thead th {\n",
       "        text-align: right;\n",
       "    }\n",
       "</style>\n",
       "<table border=\"1\" class=\"dataframe\">\n",
       "  <thead>\n",
       "    <tr style=\"text-align: right;\">\n",
       "      <th></th>\n",
       "      <th>symboling</th>\n",
       "      <th>normalized-losses</th>\n",
       "      <th>make</th>\n",
       "      <th>fuel-type</th>\n",
       "      <th>body-style</th>\n",
       "      <th>drive-wheels</th>\n",
       "      <th>engine-location</th>\n",
       "      <th>width</th>\n",
       "      <th>height</th>\n",
       "      <th>engine-type</th>\n",
       "      <th>engine-size</th>\n",
       "      <th>horsepower</th>\n",
       "      <th>city-mpg</th>\n",
       "      <th>highway-mpg</th>\n",
       "      <th>price</th>\n",
       "    </tr>\n",
       "  </thead>\n",
       "  <tbody>\n",
       "    <tr>\n",
       "      <th>41</th>\n",
       "      <td>0</td>\n",
       "      <td>85</td>\n",
       "      <td>honda</td>\n",
       "      <td>gas</td>\n",
       "      <td>sedan</td>\n",
       "      <td>fwd</td>\n",
       "      <td>front</td>\n",
       "      <td>65.2</td>\n",
       "      <td>54.1</td>\n",
       "      <td>ohc</td>\n",
       "      <td>110</td>\n",
       "      <td>101</td>\n",
       "      <td>24</td>\n",
       "      <td>28</td>\n",
       "      <td>12945</td>\n",
       "    </tr>\n",
       "  </tbody>\n",
       "</table>\n",
       "</div>"
      ],
      "text/plain": [
       "    symboling normalized-losses   make fuel-type body-style drive-wheels  \\\n",
       "41          0                85  honda       gas      sedan          fwd   \n",
       "\n",
       "   engine-location  width  height engine-type  engine-size horsepower  \\\n",
       "41           front   65.2    54.1         ohc          110        101   \n",
       "\n",
       "    city-mpg  highway-mpg  price  \n",
       "41        24           28  12945  "
      ]
     },
     "execution_count": 24,
     "metadata": {},
     "output_type": "execute_result"
    }
   ],
   "source": [
    "df.loc[(df['make']=='honda')&(df['price']>12000)] "
   ]
  },
  {
   "cell_type": "code",
   "execution_count": 25,
   "metadata": {
    "colab": {
     "base_uri": "https://localhost:8080/",
     "height": 142
    },
    "executionInfo": {
     "elapsed": 73,
     "status": "ok",
     "timestamp": 1668404264430,
     "user": {
      "displayName": "Priyanka Awaje",
      "userId": "04948741848315503765"
     },
     "user_tz": -330
    },
    "id": "nKH75L-DzWqR",
    "outputId": "17ae66e7-7e4c-448a-d810-5f611a0f45d8"
   },
   "outputs": [
    {
     "data": {
      "text/html": [
       "<div>\n",
       "<style scoped>\n",
       "    .dataframe tbody tr th:only-of-type {\n",
       "        vertical-align: middle;\n",
       "    }\n",
       "\n",
       "    .dataframe tbody tr th {\n",
       "        vertical-align: top;\n",
       "    }\n",
       "\n",
       "    .dataframe thead th {\n",
       "        text-align: right;\n",
       "    }\n",
       "</style>\n",
       "<table border=\"1\" class=\"dataframe\">\n",
       "  <thead>\n",
       "    <tr style=\"text-align: right;\">\n",
       "      <th></th>\n",
       "      <th>symboling</th>\n",
       "      <th>normalized-losses</th>\n",
       "      <th>make</th>\n",
       "      <th>fuel-type</th>\n",
       "      <th>body-style</th>\n",
       "      <th>drive-wheels</th>\n",
       "      <th>engine-location</th>\n",
       "      <th>width</th>\n",
       "      <th>height</th>\n",
       "      <th>engine-type</th>\n",
       "      <th>engine-size</th>\n",
       "      <th>horsepower</th>\n",
       "      <th>city-mpg</th>\n",
       "      <th>highway-mpg</th>\n",
       "      <th>price</th>\n",
       "    </tr>\n",
       "  </thead>\n",
       "  <tbody>\n",
       "    <tr>\n",
       "      <th>29</th>\n",
       "      <td>3</td>\n",
       "      <td>145</td>\n",
       "      <td>dodge</td>\n",
       "      <td>gas</td>\n",
       "      <td>hatchback</td>\n",
       "      <td>fwd</td>\n",
       "      <td>front</td>\n",
       "      <td>66.3</td>\n",
       "      <td>50.2</td>\n",
       "      <td>ohc</td>\n",
       "      <td>156</td>\n",
       "      <td>145</td>\n",
       "      <td>19</td>\n",
       "      <td>24</td>\n",
       "      <td>12964</td>\n",
       "    </tr>\n",
       "  </tbody>\n",
       "</table>\n",
       "</div>"
      ],
      "text/plain": [
       "    symboling normalized-losses   make fuel-type body-style drive-wheels  \\\n",
       "29          3               145  dodge       gas  hatchback          fwd   \n",
       "\n",
       "   engine-location  width  height engine-type  engine-size horsepower  \\\n",
       "29           front   66.3    50.2         ohc          156        145   \n",
       "\n",
       "    city-mpg  highway-mpg  price  \n",
       "29        19           24  12964  "
      ]
     },
     "execution_count": 25,
     "metadata": {},
     "output_type": "execute_result"
    }
   ],
   "source": [
    "df.loc[(df['make']=='dodge')&(df['price']>12000)] "
   ]
  },
  {
   "cell_type": "code",
   "execution_count": 26,
   "metadata": {
    "executionInfo": {
     "elapsed": 71,
     "status": "ok",
     "timestamp": 1668404264431,
     "user": {
      "displayName": "Priyanka Awaje",
      "userId": "04948741848315503765"
     },
     "user_tz": -330
    },
    "id": "rdzQanRHzedi"
   },
   "outputs": [],
   "source": [
    "df.drop([41,29],inplace=True)"
   ]
  },
  {
   "cell_type": "code",
   "execution_count": 27,
   "metadata": {
    "colab": {
     "base_uri": "https://localhost:8080/",
     "height": 624
    },
    "executionInfo": {
     "elapsed": 742,
     "status": "ok",
     "timestamp": 1668404265103,
     "user": {
      "displayName": "Priyanka Awaje",
      "userId": "04948741848315503765"
     },
     "user_tz": -330
    },
    "id": "C_aZbpG-zlkq",
    "outputId": "2ab412e7-88da-4cd6-f5ca-117412d0ccfc"
   },
   "outputs": [
    {
     "data": {
      "text/plain": [
       "<AxesSubplot:xlabel='price', ylabel='make'>"
      ]
     },
     "execution_count": 27,
     "metadata": {},
     "output_type": "execute_result"
    },
    {
     "data": {
      "image/png": "[encoded data removed]",
      "text/plain": [
       "<Figure size 720x720 with 1 Axes>"
      ]
     },
     "metadata": {
      "needs_background": "light"
     },
     "output_type": "display_data"
    }
   ],
   "source": [
    "plt.figure(figsize=(10,10))\n",
    "sns.boxplot(data=df,x='price',y='make')"
   ]
  },
  {
   "cell_type": "markdown",
   "metadata": {
    "id": "FW_4nSGRz5oT"
   },
   "source": [
    "# Handling Categorical Columns"
   ]
  },
  {
   "cell_type": "code",
   "execution_count": 28,
   "metadata": {
    "colab": {
     "base_uri": "https://localhost:8080/"
    },
    "executionInfo": {
     "elapsed": 75,
     "status": "ok",
     "timestamp": 1668404265104,
     "user": {
      "displayName": "Priyanka Awaje",
      "userId": "04948741848315503765"
     },
     "user_tz": -330
    },
    "id": "FXeMnF8FzqTy",
    "outputId": "1d3ea1b2-db2e-4712-c386-89671f739e9b"
   },
   "outputs": [
    {
     "data": {
      "text/plain": [
       "Index(['normalized-losses', 'make', 'fuel-type', 'body-style', 'drive-wheels',\n",
       "       'engine-location', 'engine-type', 'horsepower'],\n",
       "      dtype='object')"
      ]
     },
     "execution_count": 28,
     "metadata": {},
     "output_type": "execute_result"
    }
   ],
   "source": [
    "cat_col"
   ]
  },
  {
   "cell_type": "code",
   "execution_count": 29,
   "metadata": {
    "colab": {
     "base_uri": "https://localhost:8080/"
    },
    "executionInfo": {
     "elapsed": 67,
     "status": "ok",
     "timestamp": 1668404265105,
     "user": {
      "displayName": "Priyanka Awaje",
      "userId": "04948741848315503765"
     },
     "user_tz": -330
    },
    "id": "oPNYYYDd0Avz",
    "outputId": "8f07c8d8-269a-4df7-a9e8-17603dc6625d"
   },
   "outputs": [
    {
     "data": {
      "text/plain": [
       "array(['?', '164', '158', '192', '188', '121', '98', '81', '118', '148',\n",
       "       '110', '137', '101', '78', '106', '85', '107', '145', '104', '113',\n",
       "       '150', '129', '115', '93', '142', '161', '153', '125', '128',\n",
       "       '122', '103', '168', '108', '194', '231', '119', '154', '74',\n",
       "       '186', '83', '102', '89', '87', '77', '91', '134', '65', '94',\n",
       "       '256', '95'], dtype=object)"
      ]
     },
     "execution_count": 29,
     "metadata": {},
     "output_type": "execute_result"
    }
   ],
   "source": [
    "df['normalized-losses'].unique()"
   ]
  },
  {
   "cell_type": "code",
   "execution_count": 30,
   "metadata": {
    "executionInfo": {
     "elapsed": 62,
     "status": "ok",
     "timestamp": 1668404265107,
     "user": {
      "displayName": "Priyanka Awaje",
      "userId": "04948741848315503765"
     },
     "user_tz": -330
    },
    "id": "3TC4U-Ma0Gnr"
   },
   "outputs": [],
   "source": [
    "df['normalized-losses']=df['normalized-losses'].replace(\"?\",np.nan)"
   ]
  },
  {
   "cell_type": "code",
   "execution_count": 31,
   "metadata": {
    "colab": {
     "base_uri": "https://localhost:8080/"
    },
    "executionInfo": {
     "elapsed": 61,
     "status": "ok",
     "timestamp": 1668404265108,
     "user": {
      "displayName": "Priyanka Awaje",
      "userId": "04948741848315503765"
     },
     "user_tz": -330
    },
    "id": "NPZ0ouGU0Zm0",
    "outputId": "af157479-449d-476c-9ba6-d37b1e982eee"
   },
   "outputs": [
    {
     "data": {
      "text/plain": [
       "symboling             0.000000\n",
       "normalized-losses    18.556701\n",
       "make                  0.000000\n",
       "fuel-type             0.000000\n",
       "body-style            0.000000\n",
       "drive-wheels          0.000000\n",
       "engine-location       0.000000\n",
       "width                 0.000000\n",
       "height                0.000000\n",
       "engine-type           0.000000\n",
       "engine-size           0.000000\n",
       "horsepower            0.000000\n",
       "city-mpg              0.000000\n",
       "highway-mpg           0.000000\n",
       "price                 0.000000\n",
       "dtype: float64"
      ]
     },
     "execution_count": 31,
     "metadata": {},
     "output_type": "execute_result"
    }
   ],
   "source": [
    "df.isnull().sum()/len(df)*100"
   ]
  },
  {
   "cell_type": "code",
   "execution_count": 32,
   "metadata": {
    "executionInfo": {
     "elapsed": 56,
     "status": "ok",
     "timestamp": 1668404265109,
     "user": {
      "displayName": "Priyanka Awaje",
      "userId": "04948741848315503765"
     },
     "user_tz": -330
    },
    "id": "ySXVYLNa1Pcc"
   },
   "outputs": [],
   "source": [
    "df['normalized-losses']=df['normalized-losses'].astype(\"float\")"
   ]
  },
  {
   "cell_type": "code",
   "execution_count": 33,
   "metadata": {
    "executionInfo": {
     "elapsed": 57,
     "status": "ok",
     "timestamp": 1668404265110,
     "user": {
      "displayName": "Priyanka Awaje",
      "userId": "04948741848315503765"
     },
     "user_tz": -330
    },
    "id": "WxGlbwBG0zPa"
   },
   "outputs": [],
   "source": [
    "df['normalized-losses']=df['normalized-losses'].fillna(df['normalized-losses'].mean())"
   ]
  },
  {
   "cell_type": "code",
   "execution_count": 34,
   "metadata": {
    "colab": {
     "base_uri": "https://localhost:8080/"
    },
    "executionInfo": {
     "elapsed": 56,
     "status": "ok",
     "timestamp": 1668404265110,
     "user": {
      "displayName": "Priyanka Awaje",
      "userId": "04948741848315503765"
     },
     "user_tz": -330
    },
    "id": "bhdaLsLz1Cw7",
    "outputId": "3615f83b-1ae7-4536-eacd-b831b4752290"
   },
   "outputs": [
    {
     "data": {
      "text/plain": [
       "array(['alfa-romero', 'audi', 'bmw', 'chevrolet', 'dodge', 'honda',\n",
       "       'isuzu', 'jaguar', 'mazda', 'mercedes-benz', 'mercury',\n",
       "       'mitsubishi', 'nissan', 'peugot', 'plymouth', 'porsche', 'renault',\n",
       "       'saab', 'subaru', 'toyota', 'volkswagen', 'volvo'], dtype=object)"
      ]
     },
     "execution_count": 34,
     "metadata": {},
     "output_type": "execute_result"
    }
   ],
   "source": [
    "df['make'].unique()"
   ]
  },
  {
   "cell_type": "code",
   "execution_count": 35,
   "metadata": {
    "colab": {
     "base_uri": "https://localhost:8080/"
    },
    "executionInfo": {
     "elapsed": 51,
     "status": "ok",
     "timestamp": 1668404265110,
     "user": {
      "displayName": "Priyanka Awaje",
      "userId": "04948741848315503765"
     },
     "user_tz": -330
    },
    "id": "8jIB-_ic2BKs",
    "outputId": "29110b48-7fdb-4c4e-c9a6-9b2ef43557c4"
   },
   "outputs": [
    {
     "data": {
      "text/plain": [
       "array(['gas', 'diesel'], dtype=object)"
      ]
     },
     "execution_count": 35,
     "metadata": {},
     "output_type": "execute_result"
    }
   ],
   "source": [
    "df['fuel-type'].unique()"
   ]
  },
  {
   "cell_type": "code",
   "execution_count": 36,
   "metadata": {
    "colab": {
     "base_uri": "https://localhost:8080/"
    },
    "executionInfo": {
     "elapsed": 47,
     "status": "ok",
     "timestamp": 1668404265111,
     "user": {
      "displayName": "Priyanka Awaje",
      "userId": "04948741848315503765"
     },
     "user_tz": -330
    },
    "id": "V_D6yHZ92GSK",
    "outputId": "c693709d-8cda-4d37-b709-18d369d101d2"
   },
   "outputs": [
    {
     "data": {
      "text/plain": [
       "array(['convertible', 'hatchback', 'sedan', 'wagon', 'hardtop'],\n",
       "      dtype=object)"
      ]
     },
     "execution_count": 36,
     "metadata": {},
     "output_type": "execute_result"
    }
   ],
   "source": [
    "df['body-style'].unique()"
   ]
  },
  {
   "cell_type": "code",
   "execution_count": 37,
   "metadata": {
    "colab": {
     "base_uri": "https://localhost:8080/"
    },
    "executionInfo": {
     "elapsed": 42,
     "status": "ok",
     "timestamp": 1668404265111,
     "user": {
      "displayName": "Priyanka Awaje",
      "userId": "04948741848315503765"
     },
     "user_tz": -330
    },
    "id": "uR6GmjXS2PqD",
    "outputId": "b4394770-e197-4a29-ded9-b5f286a3fd7f"
   },
   "outputs": [
    {
     "data": {
      "text/plain": [
       "array(['dohc', 'ohcv', 'ohc', 'l', 'rotor', 'ohcf', 'dohcv'], dtype=object)"
      ]
     },
     "execution_count": 37,
     "metadata": {},
     "output_type": "execute_result"
    }
   ],
   "source": [
    "df['engine-type'].unique()"
   ]
  },
  {
   "cell_type": "code",
   "execution_count": 38,
   "metadata": {
    "colab": {
     "base_uri": "https://localhost:8080/"
    },
    "executionInfo": {
     "elapsed": 40,
     "status": "ok",
     "timestamp": 1668404265113,
     "user": {
      "displayName": "Priyanka Awaje",
      "userId": "04948741848315503765"
     },
     "user_tz": -330
    },
    "id": "briVHfhf2UDh",
    "outputId": "1c7c33fc-ad4c-4ed8-e127-bf10e7ea7904"
   },
   "outputs": [
    {
     "data": {
      "text/plain": [
       "array(['front', 'rear'], dtype=object)"
      ]
     },
     "execution_count": 38,
     "metadata": {},
     "output_type": "execute_result"
    }
   ],
   "source": [
    "df['engine-location'].unique()"
   ]
  },
  {
   "cell_type": "code",
   "execution_count": 39,
   "metadata": {
    "colab": {
     "base_uri": "https://localhost:8080/"
    },
    "executionInfo": {
     "elapsed": 37,
     "status": "ok",
     "timestamp": 1668404265114,
     "user": {
      "displayName": "Priyanka Awaje",
      "userId": "04948741848315503765"
     },
     "user_tz": -330
    },
    "id": "vRZebybr2Ywp",
    "outputId": "4295ee33-f984-4ccd-87df-ab0f3853afd6"
   },
   "outputs": [
    {
     "data": {
      "text/plain": [
       "array(['rwd', 'fwd', '4wd'], dtype=object)"
      ]
     },
     "execution_count": 39,
     "metadata": {},
     "output_type": "execute_result"
    }
   ],
   "source": [
    "df['drive-wheels'].unique()"
   ]
  },
  {
   "cell_type": "code",
   "execution_count": 40,
   "metadata": {
    "colab": {
     "base_uri": "https://localhost:8080/"
    },
    "executionInfo": {
     "elapsed": 34,
     "status": "ok",
     "timestamp": 1668404265115,
     "user": {
      "displayName": "Priyanka Awaje",
      "userId": "04948741848315503765"
     },
     "user_tz": -330
    },
    "id": "6Cx2l7w82fmB",
    "outputId": "e2082346-1a42-4110-8a6f-b7ff4409b0ef"
   },
   "outputs": [
    {
     "data": {
      "text/plain": [
       "array(['111', '154', '102', '115', '110', '140', '160', '101', '121',\n",
       "       '182', '48', '70', '68', '88', '58', '76', '60', '86', '100', '78',\n",
       "       '90', '176', '262', '135', '84', '64', '120', '72', '123', '155',\n",
       "       '184', '175', '116', '145', '69', '55', '97', '152', '200', '95',\n",
       "       '142', '143', '207', '288', '?', '73', '82', '94', '62', '56',\n",
       "       '112', '92', '52', '85', '114', '162', '134', '106'], dtype=object)"
      ]
     },
     "execution_count": 40,
     "metadata": {},
     "output_type": "execute_result"
    }
   ],
   "source": [
    "df['horsepower'].unique()"
   ]
  },
  {
   "cell_type": "code",
   "execution_count": 41,
   "metadata": {
    "executionInfo": {
     "elapsed": 31,
     "status": "ok",
     "timestamp": 1668404265115,
     "user": {
      "displayName": "Priyanka Awaje",
      "userId": "04948741848315503765"
     },
     "user_tz": -330
    },
    "id": "wv960EV22jBx"
   },
   "outputs": [],
   "source": [
    "df['horsepower']=df['horsepower'].replace(\"?\",np.nan)"
   ]
  },
  {
   "cell_type": "code",
   "execution_count": 42,
   "metadata": {
    "executionInfo": {
     "elapsed": 31,
     "status": "ok",
     "timestamp": 1668404265116,
     "user": {
      "displayName": "Priyanka Awaje",
      "userId": "04948741848315503765"
     },
     "user_tz": -330
    },
    "id": "YEtNtaoH2uma"
   },
   "outputs": [],
   "source": [
    "df['horsepower']=df['horsepower'].astype(\"float\")"
   ]
  },
  {
   "cell_type": "code",
   "execution_count": 43,
   "metadata": {
    "colab": {
     "base_uri": "https://localhost:8080/"
    },
    "executionInfo": {
     "elapsed": 31,
     "status": "ok",
     "timestamp": 1668404265116,
     "user": {
      "displayName": "Priyanka Awaje",
      "userId": "04948741848315503765"
     },
     "user_tz": -330
    },
    "id": "WWB9sOaY3Emd",
    "outputId": "59f36c17-071f-4579-d403-0190d30c0966"
   },
   "outputs": [
    {
     "data": {
      "text/plain": [
       "symboling            0.000000\n",
       "normalized-losses    0.000000\n",
       "make                 0.000000\n",
       "fuel-type            0.000000\n",
       "body-style           0.000000\n",
       "drive-wheels         0.000000\n",
       "engine-location      0.000000\n",
       "width                0.000000\n",
       "height               0.000000\n",
       "engine-type          0.000000\n",
       "engine-size          0.000000\n",
       "horsepower           1.030928\n",
       "city-mpg             0.000000\n",
       "highway-mpg          0.000000\n",
       "price                0.000000\n",
       "dtype: float64"
      ]
     },
     "execution_count": 43,
     "metadata": {},
     "output_type": "execute_result"
    }
   ],
   "source": [
    "df.isnull().sum()/len(df)*100"
   ]
  },
  {
   "cell_type": "code",
   "execution_count": 44,
   "metadata": {
    "executionInfo": {
     "elapsed": 30,
     "status": "ok",
     "timestamp": 1668404265118,
     "user": {
      "displayName": "Priyanka Awaje",
      "userId": "04948741848315503765"
     },
     "user_tz": -330
    },
    "id": "MQZwfCvb281B"
   },
   "outputs": [],
   "source": [
    "df.dropna(inplace=True)"
   ]
  },
  {
   "cell_type": "code",
   "execution_count": 45,
   "metadata": {
    "executionInfo": {
     "elapsed": 30,
     "status": "ok",
     "timestamp": 1668404265119,
     "user": {
      "displayName": "Priyanka Awaje",
      "userId": "04948741848315503765"
     },
     "user_tz": -330
    },
    "id": "WU_KYwjZ3Qhg"
   },
   "outputs": [],
   "source": [
    "df.reset_index(drop=True,inplace=True)"
   ]
  },
  {
   "cell_type": "code",
   "execution_count": 46,
   "metadata": {
    "colab": {
     "base_uri": "https://localhost:8080/",
     "height": 319
    },
    "executionInfo": {
     "elapsed": 31,
     "status": "ok",
     "timestamp": 1668404265120,
     "user": {
      "displayName": "Priyanka Awaje",
      "userId": "04948741848315503765"
     },
     "user_tz": -330
    },
    "id": "QmN2K7Lp3c1Q",
    "outputId": "0e16c7e8-c05a-455a-83ee-6279b800223f"
   },
   "outputs": [
    {
     "data": {
      "text/html": [
       "<div>\n",
       "<style scoped>\n",
       "    .dataframe tbody tr th:only-of-type {\n",
       "        vertical-align: middle;\n",
       "    }\n",
       "\n",
       "    .dataframe tbody tr th {\n",
       "        vertical-align: top;\n",
       "    }\n",
       "\n",
       "    .dataframe thead th {\n",
       "        text-align: right;\n",
       "    }\n",
       "</style>\n",
       "<table border=\"1\" class=\"dataframe\">\n",
       "  <thead>\n",
       "    <tr style=\"text-align: right;\">\n",
       "      <th></th>\n",
       "      <th>symboling</th>\n",
       "      <th>normalized-losses</th>\n",
       "      <th>make</th>\n",
       "      <th>fuel-type</th>\n",
       "      <th>body-style</th>\n",
       "      <th>drive-wheels</th>\n",
       "      <th>engine-location</th>\n",
       "      <th>width</th>\n",
       "      <th>height</th>\n",
       "      <th>engine-type</th>\n",
       "      <th>engine-size</th>\n",
       "      <th>horsepower</th>\n",
       "      <th>city-mpg</th>\n",
       "      <th>highway-mpg</th>\n",
       "      <th>price</th>\n",
       "    </tr>\n",
       "  </thead>\n",
       "  <tbody>\n",
       "    <tr>\n",
       "      <th>0</th>\n",
       "      <td>3</td>\n",
       "      <td>121.265823</td>\n",
       "      <td>alfa-romero</td>\n",
       "      <td>gas</td>\n",
       "      <td>convertible</td>\n",
       "      <td>rwd</td>\n",
       "      <td>front</td>\n",
       "      <td>64.1</td>\n",
       "      <td>48.8</td>\n",
       "      <td>dohc</td>\n",
       "      <td>130</td>\n",
       "      <td>111.0</td>\n",
       "      <td>21</td>\n",
       "      <td>27</td>\n",
       "      <td>13495</td>\n",
       "    </tr>\n",
       "    <tr>\n",
       "      <th>1</th>\n",
       "      <td>3</td>\n",
       "      <td>121.265823</td>\n",
       "      <td>alfa-romero</td>\n",
       "      <td>gas</td>\n",
       "      <td>convertible</td>\n",
       "      <td>rwd</td>\n",
       "      <td>front</td>\n",
       "      <td>64.1</td>\n",
       "      <td>48.8</td>\n",
       "      <td>dohc</td>\n",
       "      <td>130</td>\n",
       "      <td>111.0</td>\n",
       "      <td>21</td>\n",
       "      <td>27</td>\n",
       "      <td>16500</td>\n",
       "    </tr>\n",
       "    <tr>\n",
       "      <th>2</th>\n",
       "      <td>1</td>\n",
       "      <td>121.265823</td>\n",
       "      <td>alfa-romero</td>\n",
       "      <td>gas</td>\n",
       "      <td>hatchback</td>\n",
       "      <td>rwd</td>\n",
       "      <td>front</td>\n",
       "      <td>65.5</td>\n",
       "      <td>52.4</td>\n",
       "      <td>ohcv</td>\n",
       "      <td>152</td>\n",
       "      <td>154.0</td>\n",
       "      <td>19</td>\n",
       "      <td>26</td>\n",
       "      <td>16500</td>\n",
       "    </tr>\n",
       "    <tr>\n",
       "      <th>3</th>\n",
       "      <td>2</td>\n",
       "      <td>164.000000</td>\n",
       "      <td>audi</td>\n",
       "      <td>gas</td>\n",
       "      <td>sedan</td>\n",
       "      <td>fwd</td>\n",
       "      <td>front</td>\n",
       "      <td>66.2</td>\n",
       "      <td>54.3</td>\n",
       "      <td>ohc</td>\n",
       "      <td>109</td>\n",
       "      <td>102.0</td>\n",
       "      <td>24</td>\n",
       "      <td>30</td>\n",
       "      <td>13950</td>\n",
       "    </tr>\n",
       "    <tr>\n",
       "      <th>4</th>\n",
       "      <td>2</td>\n",
       "      <td>164.000000</td>\n",
       "      <td>audi</td>\n",
       "      <td>gas</td>\n",
       "      <td>sedan</td>\n",
       "      <td>4wd</td>\n",
       "      <td>front</td>\n",
       "      <td>66.4</td>\n",
       "      <td>54.3</td>\n",
       "      <td>ohc</td>\n",
       "      <td>136</td>\n",
       "      <td>115.0</td>\n",
       "      <td>18</td>\n",
       "      <td>22</td>\n",
       "      <td>17450</td>\n",
       "    </tr>\n",
       "  </tbody>\n",
       "</table>\n",
       "</div>"
      ],
      "text/plain": [
       "   symboling  normalized-losses         make fuel-type   body-style  \\\n",
       "0          3         121.265823  alfa-romero       gas  convertible   \n",
       "1          3         121.265823  alfa-romero       gas  convertible   \n",
       "2          1         121.265823  alfa-romero       gas    hatchback   \n",
       "3          2         164.000000         audi       gas        sedan   \n",
       "4          2         164.000000         audi       gas        sedan   \n",
       "\n",
       "  drive-wheels engine-location  width  height engine-type  engine-size  \\\n",
       "0          rwd           front   64.1    48.8        dohc          130   \n",
       "1          rwd           front   64.1    48.8        dohc          130   \n",
       "2          rwd           front   65.5    52.4        ohcv          152   \n",
       "3          fwd           front   66.2    54.3         ohc          109   \n",
       "4          4wd           front   66.4    54.3         ohc          136   \n",
       "\n",
       "   horsepower  city-mpg  highway-mpg  price  \n",
       "0       111.0        21           27  13495  \n",
       "1       111.0        21           27  16500  \n",
       "2       154.0        19           26  16500  \n",
       "3       102.0        24           30  13950  \n",
       "4       115.0        18           22  17450  "
      ]
     },
     "execution_count": 46,
     "metadata": {},
     "output_type": "execute_result"
    }
   ],
   "source": [
    "df.head()"
   ]
  },
  {
   "cell_type": "code",
   "execution_count": 47,
   "metadata": {
    "colab": {
     "base_uri": "https://localhost:8080/"
    },
    "executionInfo": {
     "elapsed": 6084,
     "status": "ok",
     "timestamp": 1668404271174,
     "user": {
      "displayName": "Priyanka Awaje",
      "userId": "04948741848315503765"
     },
     "user_tz": -330
    },
    "id": "ACtbLCwG3feI",
    "outputId": "bcb266d9-2a16-4901-d264-fcd868d52b46"
   },
   "outputs": [
    {
     "name": "stdout",
     "output_type": "stream",
     "text": [
      "Requirement already satisfied: sklearn in c:\\users\\mihir\\appdata\\local\\programs\\python\\python310\\lib\\site-packages (0.0)\n",
      "Requirement already satisfied: scikit-learn in c:\\users\\mihir\\appdata\\local\\programs\\python\\python310\\lib\\site-packages (from sklearn) (1.1.2)\n",
      "Requirement already satisfied: scipy>=1.3.2 in c:\\users\\mihir\\appdata\\local\\programs\\python\\python310\\lib\\site-packages (from scikit-learn->sklearn) (1.9.0)\n",
      "Requirement already satisfied: threadpoolctl>=2.0.0 in c:\\users\\mihir\\appdata\\local\\programs\\python\\python310\\lib\\site-packages (from scikit-learn->sklearn) (3.1.0)\n",
      "Requirement already satisfied: joblib>=1.0.0 in c:\\users\\mihir\\appdata\\local\\programs\\python\\python310\\lib\\site-packages (from scikit-learn->sklearn) (1.2.0)\n",
      "Requirement already satisfied: numpy>=1.17.3 in c:\\users\\mihir\\appdata\\local\\programs\\python\\python310\\lib\\site-packages (from scikit-learn->sklearn) (1.23.1)\n",
      "\n",
      "[notice] A new release of pip available: 22.1.2 -> 22.3.1\n",
      "[notice] To update, run: C:\\Users\\mihir\\AppData\\Local\\Programs\\Python\\Python310\\python.exe -m pip install --upgrade pip\n",
      "Note: you may need to restart the kernel to use updated packages.\n"
     ]
    }
   ],
   "source": [
    "pip install sklearn\n"
   ]
  },
  {
   "cell_type": "code",
   "execution_count": 48,
   "metadata": {
    "executionInfo": {
     "elapsed": 27,
     "status": "ok",
     "timestamp": 1668404271175,
     "user": {
      "displayName": "Priyanka Awaje",
      "userId": "04948741848315503765"
     },
     "user_tz": -330
    },
    "id": "r3QOhjKg4SZh"
   },
   "outputs": [],
   "source": [
    "from sklearn.preprocessing import LabelEncoder"
   ]
  },
  {
   "cell_type": "code",
   "execution_count": 49,
   "metadata": {
    "colab": {
     "base_uri": "https://localhost:8080/"
    },
    "executionInfo": {
     "elapsed": 27,
     "status": "ok",
     "timestamp": 1668404271176,
     "user": {
      "displayName": "Priyanka Awaje",
      "userId": "04948741848315503765"
     },
     "user_tz": -330
    },
    "id": "EcJEnRVs4wjR",
    "outputId": "4dbc9c8b-f040-4a08-be4f-6b2e80657abf"
   },
   "outputs": [
    {
     "data": {
      "text/plain": [
       "Index(['make', 'fuel-type', 'body-style', 'drive-wheels', 'engine-location',\n",
       "       'engine-type'],\n",
       "      dtype='object')"
      ]
     },
     "execution_count": 49,
     "metadata": {},
     "output_type": "execute_result"
    }
   ],
   "source": [
    "cat_col=df.select_dtypes(include=['object']).columns\n",
    "cat_col"
   ]
  },
  {
   "cell_type": "code",
   "execution_count": 50,
   "metadata": {
    "executionInfo": {
     "elapsed": 23,
     "status": "ok",
     "timestamp": 1668404271177,
     "user": {
      "displayName": "Priyanka Awaje",
      "userId": "04948741848315503765"
     },
     "user_tz": -330
    },
    "id": "A94VCNCM4dln"
   },
   "outputs": [],
   "source": [
    "le=LabelEncoder()"
   ]
  },
  {
   "cell_type": "code",
   "execution_count": 51,
   "metadata": {
    "executionInfo": {
     "elapsed": 22,
     "status": "ok",
     "timestamp": 1668404271177,
     "user": {
      "displayName": "Priyanka Awaje",
      "userId": "04948741848315503765"
     },
     "user_tz": -330
    },
    "id": "ZKm5SFSx4lsw"
   },
   "outputs": [],
   "source": [
    "df['make']=le.fit_transform(df['make'])"
   ]
  },
  {
   "cell_type": "code",
   "execution_count": 52,
   "metadata": {
    "executionInfo": {
     "elapsed": 22,
     "status": "ok",
     "timestamp": 1668404271178,
     "user": {
      "displayName": "Priyanka Awaje",
      "userId": "04948741848315503765"
     },
     "user_tz": -330
    },
    "id": "bbm14K0b474c"
   },
   "outputs": [],
   "source": [
    "df['fuel-type']=le.fit_transform(df['fuel-type'])"
   ]
  },
  {
   "cell_type": "code",
   "execution_count": 53,
   "metadata": {
    "executionInfo": {
     "elapsed": 21,
     "status": "ok",
     "timestamp": 1668404271178,
     "user": {
      "displayName": "Priyanka Awaje",
      "userId": "04948741848315503765"
     },
     "user_tz": -330
    },
    "id": "TBTod46s5D0n"
   },
   "outputs": [],
   "source": [
    "df['body-style']=le.fit_transform(df['body-style'])"
   ]
  },
  {
   "cell_type": "code",
   "execution_count": 54,
   "metadata": {
    "executionInfo": {
     "elapsed": 21,
     "status": "ok",
     "timestamp": 1668404271179,
     "user": {
      "displayName": "Priyanka Awaje",
      "userId": "04948741848315503765"
     },
     "user_tz": -330
    },
    "id": "xkY6uJ8l5P9S"
   },
   "outputs": [],
   "source": [
    "df['drive-wheels']=le.fit_transform(df['drive-wheels'])"
   ]
  },
  {
   "cell_type": "code",
   "execution_count": 55,
   "metadata": {
    "executionInfo": {
     "elapsed": 21,
     "status": "ok",
     "timestamp": 1668404271180,
     "user": {
      "displayName": "Priyanka Awaje",
      "userId": "04948741848315503765"
     },
     "user_tz": -330
    },
    "id": "wt1olHdr5cbq"
   },
   "outputs": [],
   "source": [
    "df['engine-location']=le.fit_transform(df['engine-location'])"
   ]
  },
  {
   "cell_type": "code",
   "execution_count": 56,
   "metadata": {
    "executionInfo": {
     "elapsed": 20,
     "status": "ok",
     "timestamp": 1668404271180,
     "user": {
      "displayName": "Priyanka Awaje",
      "userId": "04948741848315503765"
     },
     "user_tz": -330
    },
    "id": "oHU64d0I5lgZ"
   },
   "outputs": [],
   "source": [
    "df['engine-type']=le.fit_transform(df['engine-type'])"
   ]
  },
  {
   "cell_type": "code",
   "execution_count": 57,
   "metadata": {
    "colab": {
     "base_uri": "https://localhost:8080/",
     "height": 267
    },
    "executionInfo": {
     "elapsed": 21,
     "status": "ok",
     "timestamp": 1668404271182,
     "user": {
      "displayName": "Priyanka Awaje",
      "userId": "04948741848315503765"
     },
     "user_tz": -330
    },
    "id": "o1pbdVUJ5tsp",
    "outputId": "1dcca924-4e68-4e86-c911-e042b07d6fbb"
   },
   "outputs": [
    {
     "data": {
      "text/html": [
       "<div>\n",
       "<style scoped>\n",
       "    .dataframe tbody tr th:only-of-type {\n",
       "        vertical-align: middle;\n",
       "    }\n",
       "\n",
       "    .dataframe tbody tr th {\n",
       "        vertical-align: top;\n",
       "    }\n",
       "\n",
       "    .dataframe thead th {\n",
       "        text-align: right;\n",
       "    }\n",
       "</style>\n",
       "<table border=\"1\" class=\"dataframe\">\n",
       "  <thead>\n",
       "    <tr style=\"text-align: right;\">\n",
       "      <th></th>\n",
       "      <th>symboling</th>\n",
       "      <th>normalized-losses</th>\n",
       "      <th>make</th>\n",
       "      <th>fuel-type</th>\n",
       "      <th>body-style</th>\n",
       "      <th>drive-wheels</th>\n",
       "      <th>engine-location</th>\n",
       "      <th>width</th>\n",
       "      <th>height</th>\n",
       "      <th>engine-type</th>\n",
       "      <th>engine-size</th>\n",
       "      <th>horsepower</th>\n",
       "      <th>city-mpg</th>\n",
       "      <th>highway-mpg</th>\n",
       "      <th>price</th>\n",
       "    </tr>\n",
       "  </thead>\n",
       "  <tbody>\n",
       "    <tr>\n",
       "      <th>0</th>\n",
       "      <td>3</td>\n",
       "      <td>121.265823</td>\n",
       "      <td>0</td>\n",
       "      <td>1</td>\n",
       "      <td>0</td>\n",
       "      <td>2</td>\n",
       "      <td>0</td>\n",
       "      <td>64.1</td>\n",
       "      <td>48.8</td>\n",
       "      <td>0</td>\n",
       "      <td>130</td>\n",
       "      <td>111.0</td>\n",
       "      <td>21</td>\n",
       "      <td>27</td>\n",
       "      <td>13495</td>\n",
       "    </tr>\n",
       "    <tr>\n",
       "      <th>1</th>\n",
       "      <td>3</td>\n",
       "      <td>121.265823</td>\n",
       "      <td>0</td>\n",
       "      <td>1</td>\n",
       "      <td>0</td>\n",
       "      <td>2</td>\n",
       "      <td>0</td>\n",
       "      <td>64.1</td>\n",
       "      <td>48.8</td>\n",
       "      <td>0</td>\n",
       "      <td>130</td>\n",
       "      <td>111.0</td>\n",
       "      <td>21</td>\n",
       "      <td>27</td>\n",
       "      <td>16500</td>\n",
       "    </tr>\n",
       "    <tr>\n",
       "      <th>2</th>\n",
       "      <td>1</td>\n",
       "      <td>121.265823</td>\n",
       "      <td>0</td>\n",
       "      <td>1</td>\n",
       "      <td>2</td>\n",
       "      <td>2</td>\n",
       "      <td>0</td>\n",
       "      <td>65.5</td>\n",
       "      <td>52.4</td>\n",
       "      <td>5</td>\n",
       "      <td>152</td>\n",
       "      <td>154.0</td>\n",
       "      <td>19</td>\n",
       "      <td>26</td>\n",
       "      <td>16500</td>\n",
       "    </tr>\n",
       "    <tr>\n",
       "      <th>3</th>\n",
       "      <td>2</td>\n",
       "      <td>164.000000</td>\n",
       "      <td>1</td>\n",
       "      <td>1</td>\n",
       "      <td>3</td>\n",
       "      <td>1</td>\n",
       "      <td>0</td>\n",
       "      <td>66.2</td>\n",
       "      <td>54.3</td>\n",
       "      <td>3</td>\n",
       "      <td>109</td>\n",
       "      <td>102.0</td>\n",
       "      <td>24</td>\n",
       "      <td>30</td>\n",
       "      <td>13950</td>\n",
       "    </tr>\n",
       "    <tr>\n",
       "      <th>4</th>\n",
       "      <td>2</td>\n",
       "      <td>164.000000</td>\n",
       "      <td>1</td>\n",
       "      <td>1</td>\n",
       "      <td>3</td>\n",
       "      <td>0</td>\n",
       "      <td>0</td>\n",
       "      <td>66.4</td>\n",
       "      <td>54.3</td>\n",
       "      <td>3</td>\n",
       "      <td>136</td>\n",
       "      <td>115.0</td>\n",
       "      <td>18</td>\n",
       "      <td>22</td>\n",
       "      <td>17450</td>\n",
       "    </tr>\n",
       "  </tbody>\n",
       "</table>\n",
       "</div>"
      ],
      "text/plain": [
       "   symboling  normalized-losses  make  fuel-type  body-style  drive-wheels  \\\n",
       "0          3         121.265823     0          1           0             2   \n",
       "1          3         121.265823     0          1           0             2   \n",
       "2          1         121.265823     0          1           2             2   \n",
       "3          2         164.000000     1          1           3             1   \n",
       "4          2         164.000000     1          1           3             0   \n",
       "\n",
       "   engine-location  width  height  engine-type  engine-size  horsepower  \\\n",
       "0                0   64.1    48.8            0          130       111.0   \n",
       "1                0   64.1    48.8            0          130       111.0   \n",
       "2                0   65.5    52.4            5          152       154.0   \n",
       "3                0   66.2    54.3            3          109       102.0   \n",
       "4                0   66.4    54.3            3          136       115.0   \n",
       "\n",
       "   city-mpg  highway-mpg  price  \n",
       "0        21           27  13495  \n",
       "1        21           27  16500  \n",
       "2        19           26  16500  \n",
       "3        24           30  13950  \n",
       "4        18           22  17450  "
      ]
     },
     "execution_count": 57,
     "metadata": {},
     "output_type": "execute_result"
    }
   ],
   "source": [
    "df.head()"
   ]
  },
  {
   "cell_type": "code",
   "execution_count": 58,
   "metadata": {
    "executionInfo": {
     "elapsed": 659,
     "status": "ok",
     "timestamp": 1668404404470,
     "user": {
      "displayName": "Priyanka Awaje",
      "userId": "04948741848315503765"
     },
     "user_tz": -330
    },
    "id": "G7Nd1ZvE5vqS"
   },
   "outputs": [],
   "source": [
    "X=df.iloc[:,:-1]\n",
    "y=df.iloc[:,-1]"
   ]
  },
  {
   "cell_type": "code",
   "execution_count": 59,
   "metadata": {
    "executionInfo": {
     "elapsed": 638,
     "status": "ok",
     "timestamp": 1668404444741,
     "user": {
      "displayName": "Priyanka Awaje",
      "userId": "04948741848315503765"
     },
     "user_tz": -330
    },
    "id": "KBf9nzkQptqp"
   },
   "outputs": [],
   "source": [
    "from sklearn.model_selection import train_test_split"
   ]
  },
  {
   "cell_type": "code",
   "execution_count": 60,
   "metadata": {
    "executionInfo": {
     "elapsed": 926,
     "status": "ok",
     "timestamp": 1668404494595,
     "user": {
      "displayName": "Priyanka Awaje",
      "userId": "04948741848315503765"
     },
     "user_tz": -330
    },
    "id": "Fz_n3stZp3gN"
   },
   "outputs": [],
   "source": [
    "X_train,X_test,y_train,y_test=train_test_split(X,y,test_size=0.20,random_state=123)"
   ]
  },
  {
   "cell_type": "code",
   "execution_count": 61,
   "metadata": {
    "colab": {
     "base_uri": "https://localhost:8080/"
    },
    "executionInfo": {
     "elapsed": 404,
     "status": "ok",
     "timestamp": 1668404505285,
     "user": {
      "displayName": "Priyanka Awaje",
      "userId": "04948741848315503765"
     },
     "user_tz": -330
    },
    "id": "39ZHlZLnqDiu",
    "outputId": "46c26985-6148-4830-fd4a-1db3acc0af59"
   },
   "outputs": [
    {
     "data": {
      "text/plain": [
       "(153, 14)"
      ]
     },
     "execution_count": 61,
     "metadata": {},
     "output_type": "execute_result"
    }
   ],
   "source": [
    "X_train.shape"
   ]
  },
  {
   "cell_type": "code",
   "execution_count": 62,
   "metadata": {
    "colab": {
     "base_uri": "https://localhost:8080/"
    },
    "executionInfo": {
     "elapsed": 661,
     "status": "ok",
     "timestamp": 1668404512245,
     "user": {
      "displayName": "Priyanka Awaje",
      "userId": "04948741848315503765"
     },
     "user_tz": -330
    },
    "id": "w6lk5PRpqGX-",
    "outputId": "6f214382-6ec1-4e60-be37-13a130f23d5f"
   },
   "outputs": [
    {
     "data": {
      "text/plain": [
       "(39, 14)"
      ]
     },
     "execution_count": 62,
     "metadata": {},
     "output_type": "execute_result"
    }
   ],
   "source": [
    "X_test.shape"
   ]
  },
  {
   "cell_type": "code",
   "execution_count": 63,
   "metadata": {
    "colab": {
     "base_uri": "https://localhost:8080/"
    },
    "executionInfo": {
     "elapsed": 419,
     "status": "ok",
     "timestamp": 1668404519377,
     "user": {
      "displayName": "Priyanka Awaje",
      "userId": "04948741848315503765"
     },
     "user_tz": -330
    },
    "id": "YVWQLUtDqH_V",
    "outputId": "405efaad-f276-4337-e810-74f97fca697c"
   },
   "outputs": [
    {
     "data": {
      "text/plain": [
       "(153,)"
      ]
     },
     "execution_count": 63,
     "metadata": {},
     "output_type": "execute_result"
    }
   ],
   "source": [
    "y_train.shape"
   ]
  },
  {
   "cell_type": "code",
   "execution_count": 64,
   "metadata": {
    "colab": {
     "base_uri": "https://localhost:8080/"
    },
    "executionInfo": {
     "elapsed": 474,
     "status": "ok",
     "timestamp": 1668404529332,
     "user": {
      "displayName": "Priyanka Awaje",
      "userId": "04948741848315503765"
     },
     "user_tz": -330
    },
    "id": "WNk67DiAqJxV",
    "outputId": "f24732aa-bb97-48dd-d76c-60811472268b"
   },
   "outputs": [
    {
     "data": {
      "text/plain": [
       "(39,)"
      ]
     },
     "execution_count": 64,
     "metadata": {},
     "output_type": "execute_result"
    }
   ],
   "source": [
    "y_test.shape"
   ]
  },
  {
   "cell_type": "code",
   "execution_count": 65,
   "metadata": {
    "executionInfo": {
     "elapsed": 382,
     "status": "ok",
     "timestamp": 1668404558579,
     "user": {
      "displayName": "Priyanka Awaje",
      "userId": "04948741848315503765"
     },
     "user_tz": -330
    },
    "id": "F_GtIhKbqL-F"
   },
   "outputs": [],
   "source": [
    "from sklearn.linear_model import LinearRegression"
   ]
  },
  {
   "cell_type": "code",
   "execution_count": 66,
   "metadata": {
    "colab": {
     "base_uri": "https://localhost:8080/"
    },
    "executionInfo": {
     "elapsed": 663,
     "status": "ok",
     "timestamp": 1668404680096,
     "user": {
      "displayName": "Priyanka Awaje",
      "userId": "04948741848315503765"
     },
     "user_tz": -330
    },
    "id": "6M6N_yejqTMW",
    "outputId": "6b72b59d-185d-444e-d537-8d568734c6c4"
   },
   "outputs": [
    {
     "data": {
      "text/html": [
       "<style>#sk-container-id-1 {color: black;background-color: white;}#sk-container-id-1 pre{padding: 0;}#sk-container-id-1 div.sk-toggleable {background-color: white;}#sk-container-id-1 label.sk-toggleable__label {cursor: pointer;display: block;width: 100%;margin-bottom: 0;padding: 0.3em;box-sizing: border-box;text-align: center;}#sk-container-id-1 label.sk-toggleable__label-arrow:before {content: \"▸\";float: left;margin-right: 0.25em;color: #696969;}#sk-container-id-1 label.sk-toggleable__label-arrow:hover:before {color: black;}#sk-container-id-1 div.sk-estimator:hover label.sk-toggleable__label-arrow:before {color: black;}#sk-container-id-1 div.sk-toggleable__content {max-height: 0;max-width: 0;overflow: hidden;text-align: left;background-color: #f0f8ff;}#sk-container-id-1 div.sk-toggleable__content pre {margin: 0.2em;color: black;border-radius: 0.25em;background-color: #f0f8ff;}#sk-container-id-1 input.sk-toggleable__control:checked~div.sk-toggleable__content {max-height: 200px;max-width: 100%;overflow: auto;}#sk-container-id-1 input.sk-toggleable__control:checked~label.sk-toggleable__label-arrow:before {content: \"▾\";}#sk-container-id-1 div.sk-estimator input.sk-toggleable__control:checked~label.sk-toggleable__label {background-color: #d4ebff;}#sk-container-id-1 div.sk-label input.sk-toggleable__control:checked~label.sk-toggleable__label {background-color: #d4ebff;}#sk-container-id-1 input.sk-hidden--visually {border: 0;clip: rect(1px 1px 1px 1px);clip: rect(1px, 1px, 1px, 1px);height: 1px;margin: -1px;overflow: hidden;padding: 0;position: absolute;width: 1px;}#sk-container-id-1 div.sk-estimator {font-family: monospace;background-color: #f0f8ff;border: 1px dotted black;border-radius: 0.25em;box-sizing: border-box;margin-bottom: 0.5em;}#sk-container-id-1 div.sk-estimator:hover {background-color: #d4ebff;}#sk-container-id-1 div.sk-parallel-item::after {content: \"\";width: 100%;border-bottom: 1px solid gray;flex-grow: 1;}#sk-container-id-1 div.sk-label:hover label.sk-toggleable__label {background-color: #d4ebff;}#sk-container-id-1 div.sk-serial::before {content: \"\";position: absolute;border-left: 1px solid gray;box-sizing: border-box;top: 0;bottom: 0;left: 50%;z-index: 0;}#sk-container-id-1 div.sk-serial {display: flex;flex-direction: column;align-items: center;background-color: white;padding-right: 0.2em;padding-left: 0.2em;position: relative;}#sk-container-id-1 div.sk-item {position: relative;z-index: 1;}#sk-container-id-1 div.sk-parallel {display: flex;align-items: stretch;justify-content: center;background-color: white;position: relative;}#sk-container-id-1 div.sk-item::before, #sk-container-id-1 div.sk-parallel-item::before {content: \"\";position: absolute;border-left: 1px solid gray;box-sizing: border-box;top: 0;bottom: 0;left: 50%;z-index: -1;}#sk-container-id-1 div.sk-parallel-item {display: flex;flex-direction: column;z-index: 1;position: relative;background-color: white;}#sk-container-id-1 div.sk-parallel-item:first-child::after {align-self: flex-end;width: 50%;}#sk-container-id-1 div.sk-parallel-item:last-child::after {align-self: flex-start;width: 50%;}#sk-container-id-1 div.sk-parallel-item:only-child::after {width: 0;}#sk-container-id-1 div.sk-dashed-wrapped {border: 1px dashed gray;margin: 0 0.4em 0.5em 0.4em;box-sizing: border-box;padding-bottom: 0.4em;background-color: white;}#sk-container-id-1 div.sk-label label {font-family: monospace;font-weight: bold;display: inline-block;line-height: 1.2em;}#sk-container-id-1 div.sk-label-container {text-align: center;}#sk-container-id-1 div.sk-container {/* jupyter's `normalize.less` sets `[hidden] { display: none; }` but bootstrap.min.css set `[hidden] { display: none !important; }` so we also need the `!important` here to be able to override the default hidden behavior on the sphinx rendered scikit-learn.org. See: https://github.com/scikit-learn/scikit-learn/issues/21755 */display: inline-block !important;position: relative;}#sk-container-id-1 div.sk-text-repr-fallback {display: none;}</style><div id=\"sk-container-id-1\" class=\"sk-top-container\"><div class=\"sk-text-repr-fallback\"><pre>LinearRegression()</pre><b>In a Jupyter environment, please rerun this cell to show the HTML representation or trust the notebook. <br />On GitHub, the HTML representation is unable to render, please try loading this page with nbviewer.org.</b></div><div class=\"sk-container\" hidden><div class=\"sk-item\"><div class=\"sk-estimator sk-toggleable\"><input class=\"sk-toggleable__control sk-hidden--visually\" id=\"sk-estimator-id-1\" type=\"checkbox\" checked><label for=\"sk-estimator-id-1\" class=\"sk-toggleable__label sk-toggleable__label-arrow\">LinearRegression</label><div class=\"sk-toggleable__content\"><pre>LinearRegression()</pre></div></div></div></div></div>"
      ],
      "text/plain": [
       "LinearRegression()"
      ]
     },
     "execution_count": 66,
     "metadata": {},
     "output_type": "execute_result"
    }
   ],
   "source": [
    "model=LinearRegression()\n",
    "model.fit(X_train,y_train)"
   ]
  },
  {
   "cell_type": "code",
   "execution_count": 67,
   "metadata": {
    "executionInfo": {
     "elapsed": 638,
     "status": "ok",
     "timestamp": 1668404736444,
     "user": {
      "displayName": "Priyanka Awaje",
      "userId": "04948741848315503765"
     },
     "user_tz": -330
    },
    "id": "sgiJDqREqqUF"
   },
   "outputs": [],
   "source": [
    "y_pred_train=model.predict(X_train)\n",
    "y_pred_test=model.predict(X_test)"
   ]
  },
  {
   "cell_type": "code",
   "execution_count": 68,
   "metadata": {
    "executionInfo": {
     "elapsed": 657,
     "status": "ok",
     "timestamp": 1668404803237,
     "user": {
      "displayName": "Priyanka Awaje",
      "userId": "04948741848315503765"
     },
     "user_tz": -330
    },
    "id": "S-HTchjcq-yd"
   },
   "outputs": [],
   "source": [
    "from sklearn.metrics import r2_score,mean_squared_error"
   ]
  },
  {
   "cell_type": "code",
   "execution_count": 69,
   "metadata": {
    "executionInfo": {
     "elapsed": 407,
     "status": "ok",
     "timestamp": 1668404811906,
     "user": {
      "displayName": "Priyanka Awaje",
      "userId": "04948741848315503765"
     },
     "user_tz": -330
    },
    "id": "o5Max0bFrPF1"
   },
   "outputs": [],
   "source": [
    "def model_performance(y_actual,y_pred):\n",
    "  r2=r2_score(y_actual,y_pred)\n",
    "  RMSE=np.sqrt(mean_squared_error(y_actual,y_pred))\n",
    "  print(\"R2 score:{}|RMSE: {}\".format(round(r2,2),round(RMSE,2)))\n"
   ]
  },
  {
   "cell_type": "code",
   "execution_count": 70,
   "metadata": {
    "colab": {
     "base_uri": "https://localhost:8080/"
    },
    "executionInfo": {
     "elapsed": 406,
     "status": "ok",
     "timestamp": 1668404843149,
     "user": {
      "displayName": "Priyanka Awaje",
      "userId": "04948741848315503765"
     },
     "user_tz": -330
    },
    "id": "YbdO_UNgrRRF",
    "outputId": "a34d4bb1-6ea3-4cf9-fbd6-b4fe93e086ca"
   },
   "outputs": [
    {
     "name": "stdout",
     "output_type": "stream",
     "text": [
      "Train Performance\n",
      "R2 score:0.86|RMSE: 3126.71\n",
      "Test Performance\n",
      "R2 score:0.87|RMSE: 2357.06\n"
     ]
    }
   ],
   "source": [
    "print(\"Train Performance\")\n",
    "model_performance(y_train,y_pred_train)\n",
    "print(\"Test Performance\")\n",
    "model_performance(y_test,y_pred_test)"
   ]
  },
  {
   "cell_type": "code",
   "execution_count": 71,
   "metadata": {
    "executionInfo": {
     "elapsed": 397,
     "status": "ok",
     "timestamp": 1668404925690,
     "user": {
      "displayName": "Priyanka Awaje",
      "userId": "04948741848315503765"
     },
     "user_tz": -330
    },
    "id": "y0hbbFsmrRx9"
   },
   "outputs": [],
   "source": [
    "from sklearn.linear_model import Ridge,Lasso "
   ]
  },
  {
   "cell_type": "markdown",
   "metadata": {
    "id": "6MQK463EsBfV"
   },
   "source": [
    "# Lasoo regression"
   ]
  },
  {
   "cell_type": "code",
   "execution_count": 72,
   "metadata": {
    "executionInfo": {
     "elapsed": 652,
     "status": "ok",
     "timestamp": 1668404998673,
     "user": {
      "displayName": "Priyanka Awaje",
      "userId": "04948741848315503765"
     },
     "user_tz": -330
    },
    "id": "ifLR868RrqVV"
   },
   "outputs": [],
   "source": [
    "l1=Lasso(alpha=9)\n",
    "l1.fit(X_train,y_train)\n",
    "y_pred_train=l1.predict(X_train)\n",
    "y_pred_test=l1.predict(X_test)"
   ]
  },
  {
   "cell_type": "code",
   "execution_count": 73,
   "metadata": {
    "colab": {
     "base_uri": "https://localhost:8080/"
    },
    "executionInfo": {
     "elapsed": 376,
     "status": "ok",
     "timestamp": 1668405006179,
     "user": {
      "displayName": "Priyanka Awaje",
      "userId": "04948741848315503765"
     },
     "user_tz": -330
    },
    "id": "CMtUcOvzr9H0",
    "outputId": "68a0deae-4caa-49af-82da-f089759aec51"
   },
   "outputs": [
    {
     "name": "stdout",
     "output_type": "stream",
     "text": [
      "Train Performance\n",
      "R2 score:0.86|RMSE: 3127.83\n",
      "Test Performance\n",
      "R2 score:0.88|RMSE: 2344.18\n"
     ]
    }
   ],
   "source": [
    "print(\"Train Performance\")\n",
    "model_performance(y_train,y_pred_train)\n",
    "print(\"Test Performance\")\n",
    "model_performance(y_test,y_pred_test)"
   ]
  },
  {
   "cell_type": "code",
   "execution_count": 74,
   "metadata": {
    "colab": {
     "base_uri": "https://localhost:8080/"
    },
    "executionInfo": {
     "elapsed": 2168,
     "status": "ok",
     "timestamp": 1668405232906,
     "user": {
      "displayName": "Priyanka Awaje",
      "userId": "04948741848315503765"
     },
     "user_tz": -330
    },
    "id": "Za5buNcusAs0",
    "outputId": "3e2202ae-ec07-428e-e5b3-8538fa80fce3"
   },
   "outputs": [
    {
     "name": "stdout",
     "output_type": "stream",
     "text": [
      "1:0.8832711499797793\n",
      "2:0.886971034997679\n",
      "3:0.8891041287920363\n",
      "4:0.8905871862080417\n",
      "5:0.89172469173994\n",
      "6:0.8926462269871145\n",
      "7:0.893417425772228\n",
      "8:0.8940761377398078\n",
      "9:0.8946464579690544\n",
      "10:0.8951449293924812\n",
      "11:0.8955835831233812\n",
      "12:0.8959715605904186\n",
      "13:0.8963160430881929\n",
      "14:0.8966228180596045\n",
      "15:0.8968966427907913\n",
      "16:0.8971414889102534\n",
      "17:0.8973607133572403\n",
      "18:0.8975571820392955\n",
      "19:0.8977333618858659\n",
      "20:0.897891391074106\n",
      "21:0.8980331337265637\n",
      "22:0.8981602232704042\n",
      "23:0.8982740973256086\n",
      "24:0.8983760261363296\n",
      "25:0.8984671359938711\n",
      "26:0.898548428715172\n",
      "27:0.898620797973143\n",
      "28:0.8986850430851249\n",
      "29:0.8987418807280374\n",
      "30:0.8987919549472478\n",
      "31:0.8988358457501188\n",
      "32:0.8988740765173375\n",
      "33:0.8989071204205606\n",
      "34:0.8989354060001535\n",
      "35:0.8989593220294178\n",
      "36:0.8989792217698732\n",
      "37:0.8989954267046891\n",
      "38:0.8990082298231438\n",
      "39:0.8990178985174807\n",
      "40:0.8990246771440022\n",
      "41:0.8990287892924531\n",
      "42:0.8990304398012128\n",
      "43:0.8990298165504123\n",
      "44:0.8990270920605354\n",
      "45:0.8990224249202364\n",
      "46:0.8990159610638723\n",
      "47:0.8990078349165087\n",
      "48:0.8989981704218063\n",
      "49:0.8989870819662149\n",
      "50:0.8989746752111826\n",
      "51:0.898961047843625\n",
      "52:0.8989462902536238\n",
      "53:0.8989304861472464\n",
      "54:0.8989137131014144\n",
      "55:0.8988960430669451\n",
      "56:0.8988775428251576\n",
      "57:0.8988582744028307\n",
      "58:0.8988382954497416\n",
      "59:0.8988176595825476\n",
      "60:0.8987964166983491\n",
      "61:0.8987746132609136\n",
      "62:0.8987522925622116\n",
      "63:0.8987294949616313\n",
      "64:0.8987062581049954\n",
      "65:0.8986826171252718\n",
      "66:0.8986586048266827\n",
      "67:0.8986342518537326\n",
      "68:0.8986095868465336\n",
      "69:0.8985846365836575\n",
      "70:0.8985594261136289\n",
      "71:0.8985339788760587\n",
      "72:0.8985083168133294\n",
      "73:0.8984824604736412\n",
      "74:0.8984564291061705\n",
      "75:0.8984302407489999\n",
      "76:0.898403912310438\n",
      "77:0.8983774596442696\n",
      "78:0.898350897619446\n",
      "79:0.8983242401846705\n",
      "80:0.8982975004282853\n",
      "81:0.8982706906338465\n",
      "82:0.8982438223317293\n",
      "83:0.8982169063470695\n",
      "84:0.8981899528443438\n",
      "85:0.8981629713688319\n",
      "86:0.8981359708852173\n",
      "87:0.8981089598135356\n",
      "88:0.8980819460626711\n",
      "89:0.8980549370615962\n",
      "90:0.8980279397885093\n",
      "91:0.8980009607980333\n",
      "92:0.8979740062466223\n",
      "93:0.8979470819162916\n",
      "94:0.8979201932368134\n",
      "95:0.8978933453064665\n",
      "96:0.8978665429114623\n",
      "97:0.8978397905441257\n",
      "98:0.8978130924199282\n",
      "99:0.8977864524934516\n",
      "100:0.8977598744733474\n",
      "101:0.8977333618363765\n",
      "102:0.8977069178405778\n",
      "103:0.8976805455376314\n",
      "104:0.8976542477844729\n",
      "105:0.8976280272541992\n",
      "106:0.8976018864463262\n",
      "107:0.8975758276964292\n",
      "108:0.8975498531852114\n",
      "109:0.8975239649470428\n",
      "110:0.8974981648779902\n",
      "111:0.8974724547433868\n",
      "112:0.8974468361849579\n",
      "113:0.8974213107275406\n",
      "114:0.8973958797854145\n",
      "115:0.8973705446682756\n",
      "116:0.8973453065868671\n",
      "117:0.8973201666583007\n",
      "118:0.8972951259110702\n",
      "119:0.8972701852897929\n",
      "120:0.8972453456596872\n",
      "121:0.8972206078107983\n",
      "122:0.8971959724620004\n",
      "123:0.8971714402647725\n",
      "124:0.8971470118067729\n",
      "125:0.8971226876152217\n",
      "126:0.8970984681600974\n",
      "127:0.8970743538571676\n",
      "128:0.8970503450708522\n",
      "129:0.8970264421169396\n",
      "130:0.8970026452651578\n",
      "131:0.8969789547416096\n",
      "132:0.8969553707310808\n",
      "133:0.8969318933792295\n",
      "134:0.8969085227946582\n",
      "135:0.8968852590508845\n",
      "136:0.8968621021882035\n",
      "137:0.8968390522154602\n",
      "138:0.8968161091117293\n",
      "139:0.8967932728279087\n",
      "140:0.8967705432882331\n",
      "141:0.8967479203917114\n",
      "142:0.8967254040134918\n",
      "143:0.8967029940061573\n",
      "144:0.8966806902009559\n",
      "145:0.8966584924089748\n",
      "146:0.8966364004222459\n",
      "147:0.8966144140148091\n",
      "148:0.8965925329437116\n",
      "149:0.8965707569499658\n",
      "150:0.8965490857594568\n",
      "151:0.8965275190838058\n",
      "152:0.8965060566211913\n",
      "153:0.8964846980571316\n",
      "154:0.8964634430652265\n",
      "155:0.8964422913078657\n",
      "156:0.8964212424369009\n",
      "157:0.8964002960942876\n",
      "158:0.8963794519126934\n",
      "159:0.8963587095160788\n",
      "160:0.8963380685202489\n",
      "161:0.896317528533379\n",
      "162:0.8962970891565173\n",
      "163:0.8962767499840576\n",
      "164:0.8962565106041969\n",
      "165:0.8962363705993636\n",
      "166:0.896216329546633\n",
      "167:0.8961963870181154\n",
      "168:0.8961765425813317\n",
      "169:0.8961567957995665\n",
      "170:0.8961371462322086\n",
      "171:0.8961175934350708\n",
      "172:0.8960981369606988\n",
      "173:0.8960787763586615\n",
      "174:0.8960595111758314\n",
      "175:0.8960403409566466\n",
      "176:0.8960212652433648\n",
      "177:0.8960022835763038\n",
      "178:0.8959833954940691\n",
      "179:0.895964600533772\n",
      "180:0.8959458982312354\n",
      "181:0.8959272881211944\n",
      "182:0.8959087697374795\n",
      "183:0.8958903426131984\n",
      "184:0.895872006280905\n",
      "185:0.8958537602727611\n",
      "186:0.8958356041206884\n",
      "187:0.8958175373565175\n",
      "188:0.8957995595121248\n",
      "189:0.8957816701195656\n",
      "190:0.895763868711199\n",
      "191:0.8957461548198083\n",
      "192:0.8957285279787132\n",
      "193:0.895710987721877\n",
      "194:0.8956935335840106\n",
      "195:0.8956761651006677\n",
      "196:0.8956588818083375\n",
      "197:0.8956416832445324\n",
      "198:0.8956245689478678\n",
      "199:0.8956075384581461\n",
      "200:0.8955905913164244\n",
      "201:0.8955737270650893\n",
      "202:0.895556945247921\n",
      "203:0.8955402454101575\n",
      "204:0.8955236270985527\n",
      "205:0.8955070898614322\n",
      "206:0.895490633248749\n",
      "207:0.8954742568121293\n",
      "208:0.8954579601049225\n",
      "209:0.8954417426822434\n",
      "210:0.8954256041010148\n",
      "211:0.8954095439200078\n",
      "212:0.8953935616998748\n",
      "213:0.895377657003187\n",
      "214:0.895361829394466\n",
      "215:0.8953460784402124\n",
      "216:0.8953304037089342\n",
      "217:0.8953148047711748\n",
      "218:0.895299281199534\n",
      "219:0.8952838325686934\n",
      "220:0.8952684584554357\n",
      "221:0.8952531584386634\n",
      "222:0.8952379320994174\n",
      "223:0.895222779020893\n",
      "224:0.8952076987884543\n",
      "225:0.8951926909896482\n",
      "226:0.8951777552142153\n",
      "227:0.8951628910541025\n",
      "228:0.8951480981034714\n",
      "229:0.8951333759587078\n",
      "230:0.895118724218428\n",
      "231:0.8951041424834875\n",
      "232:0.895089630356984\n",
      "233:0.8950751874442642\n",
      "234:0.8950608133529259\n",
      "235:0.895046507692822\n",
      "236:0.8950322700760633\n",
      "237:0.8950181001170173\n",
      "238:0.8950039974323103\n",
      "239:0.8949899616408283\n",
      "240:0.8949759923637151\n",
      "241:0.8949620892243699\n",
      "242:0.8949482518484481\n",
      "243:0.8949344798638553\n",
      "244:0.8949207729007479\n",
      "245:0.8949071305915255\n",
      "246:0.8948935525708297\n",
      "247:0.8948800384755387\n",
      "248:0.894866587944761\n",
      "249:0.8948532006198325\n"
     ]
    }
   ],
   "source": [
    "for i in range(1,250):\n",
    "  l2=Ridge(i)\n",
    "  l2.fit(X_train,y_train)\n",
    "  y_pred_train=l2.predict(X_train)\n",
    "  y_pred_test=l2.predict(X_test)\n",
    "  print(f'{i}:{l2.score(X_test,y_test)}')"
   ]
  },
  {
   "cell_type": "code",
   "execution_count": 75,
   "metadata": {
    "id": "8xGcc0tysxvU"
   },
   "outputs": [],
   "source": [
    "from sklearn.model_selection import cross_val_score"
   ]
  },
  {
   "cell_type": "code",
   "execution_count": 76,
   "metadata": {},
   "outputs": [
    {
     "data": {
      "text/plain": [
       "array([0.7529168 , 0.88206188, 0.02939255, 0.45276112, 0.46691616])"
      ]
     },
     "execution_count": 76,
     "metadata": {},
     "output_type": "execute_result"
    }
   ],
   "source": [
    "l1_score=cross_val_score(l1,X,y,scoring=\"r2\",cv=5)\n",
    "l1_score"
   ]
  },
  {
   "cell_type": "code",
   "execution_count": 77,
   "metadata": {},
   "outputs": [
    {
     "data": {
      "text/plain": [
       "0.5168097011298203"
      ]
     },
     "execution_count": 77,
     "metadata": {},
     "output_type": "execute_result"
    }
   ],
   "source": [
    "mean_l1_score=np.mean(l1_score)\n",
    "mean_l1_score"
   ]
  },
  {
   "cell_type": "markdown",
   "metadata": {},
   "source": [
    "# Ridge regression"
   ]
  },
  {
   "cell_type": "code",
   "execution_count": 78,
   "metadata": {},
   "outputs": [],
   "source": [
    "r1=Ridge(alpha=9)\n",
    "r1.fit(X_train,y_train)\n",
    "y_pred_train=r1.predict(X_train)\n",
    "y_pred_test=r1.predict(X_test)"
   ]
  },
  {
   "cell_type": "code",
   "execution_count": 79,
   "metadata": {},
   "outputs": [
    {
     "name": "stdout",
     "output_type": "stream",
     "text": [
      "Train Performance\n",
      "R2 score:0.83|RMSE: 3411.52\n",
      "Test Performance\n",
      "R2 score:0.89|RMSE: 2154.27\n"
     ]
    }
   ],
   "source": [
    "print(\"Train Performance\")\n",
    "model_performance(y_train,y_pred_train)\n",
    "print(\"Test Performance\")\n",
    "model_performance(y_test,y_pred_test)"
   ]
  },
  {
   "cell_type": "code",
   "execution_count": 80,
   "metadata": {},
   "outputs": [
    {
     "data": {
      "text/plain": [
       "array([0.79926954, 0.90442433, 0.0538242 , 0.48939632, 0.36615005])"
      ]
     },
     "execution_count": 80,
     "metadata": {},
     "output_type": "execute_result"
    }
   ],
   "source": [
    "r1_score=cross_val_score(r1,X,y,scoring=\"r2\",cv=5)\n",
    "r1_score"
   ]
  },
  {
   "cell_type": "code",
   "execution_count": 81,
   "metadata": {},
   "outputs": [
    {
     "data": {
      "text/plain": [
       "0.5226128874875002"
      ]
     },
     "execution_count": 81,
     "metadata": {},
     "output_type": "execute_result"
    }
   ],
   "source": [
    "mean_r1_score=np.mean(r1_score)\n",
    "mean_r1_score"
   ]
  },
  {
   "cell_type": "code",
   "execution_count": null,
   "metadata": {},
   "outputs": [],
   "source": []
  }
 ],
 "metadata": {
  "colab": {
   "collapsed_sections": [],
   "provenance": []
  },
  "kernelspec": {
   "display_name": "Python 3 (ipykernel)",
   "language": "python",
   "name": "python3"
  },
  "language_info": {
   "codemirror_mode": {
    "name": "ipython",
    "version": 3
   },
   "file_extension": ".py",
   "mimetype": "text/x-python",
   "name": "python",
   "nbconvert_exporter": "python",
   "pygments_lexer": "ipython3",
   "version": "3.10.4"
  }
 },
 "nbformat": 4,
 "nbformat_minor": 1
}
